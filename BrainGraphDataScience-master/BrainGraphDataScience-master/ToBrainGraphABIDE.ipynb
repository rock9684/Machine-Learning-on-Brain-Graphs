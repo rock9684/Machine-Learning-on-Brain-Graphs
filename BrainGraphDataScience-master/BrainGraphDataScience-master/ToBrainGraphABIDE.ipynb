{
 "cells": [
  {
   "cell_type": "code",
   "execution_count": 1,
   "metadata": {},
   "outputs": [],
   "source": [
    "%matplotlib inline"
   ]
  },
  {
   "cell_type": "code",
   "execution_count": 1,
   "metadata": {},
   "outputs": [
    {
     "name": "stdout",
     "output_type": "stream",
     "text": [
      "Atlas ROIs are located in nifti image (4D) at: C:\\Users\\June Cai/nilearn_data\\fsl\\data\\atlases\\HarvardOxford\\HarvardOxford-cort-maxprob-thr25-2mm.nii.gz\n",
      "96\n"
     ]
    }
   ],
   "source": [
    "from nilearn import datasets\n",
    "\n",
    "dataset = datasets.fetch_atlas_harvard_oxford('cort-maxprob-thr25-2mm')\n",
    "atlas_filename = dataset.maps\n",
    "labels = dataset.labels\n",
    "\n",
    "print('Atlas ROIs are located in nifti image (4D) at: %s' %\n",
    "      atlas_filename)  # 4D data\n",
    "\n",
    "import os\n",
    "cwd = os.getcwd()\n",
    "datadir = os.path.join(os.path.sep, cwd,'data')\n",
    "datadir = os.path.join(os.path.sep, datadir, 'abide')\n",
    "files = []\n",
    "for dirpath, dirnames, filenames in os.walk(datadir):\n",
    "    for filename in [f for f in filenames if f.endswith(\".nii.gz\")]:\n",
    "        files.append(os.path.join(dirpath, filename))\n",
    "\n",
    "print(len(files))\n",
    "counter = 0\n",
    "fileNum = 1"
   ]
  },
  {
   "cell_type": "code",
   "execution_count": 5,
   "metadata": {},
   "outputs": [
    {
     "name": "stdout",
     "output_type": "stream",
     "text": [
      "rest\n",
      "[NiftiLabelsMasker.fit_transform] loading data from C:\\Users\\June Cai/nilearn_data\\fsl\\data\\atlases\\HarvardOxford\\HarvardOxford-cort-maxprob-thr25-2mm.nii.gz\n",
      "[Memory]0.0s, 0.0min    : Loading filter_and_extract...\n",
      "__________________________________filter_and_extract cache loaded - 0.0s, 0.0min\n",
      "[[1.         0.15222795 0.19535615 ... 0.12341151 0.12162511 0.00965921]\n",
      " [0.15222795 1.         0.15473692 ... 0.08398258 0.08875005 0.00852583]\n",
      " [0.19535615 0.1547369  1.         ... 0.11839604 0.09303173 0.00477248]\n",
      " ...\n",
      " [0.12341151 0.08398257 0.11839604 ... 1.         0.09502703 0.00168269]\n",
      " [0.12162511 0.08875004 0.09303173 ... 0.09502703 1.         0.01874229]\n",
      " [0.00965921 0.00852583 0.00477248 ... 0.00168269 0.01874229 1.        ]] (1, -1)\n",
      "(48, 48)\n",
      "processed: 2\n",
      "rest\n",
      "[NiftiLabelsMasker.fit_transform] loading data from C:\\Users\\June Cai/nilearn_data\\fsl\\data\\atlases\\HarvardOxford\\HarvardOxford-cort-maxprob-thr25-2mm.nii.gz\n",
      "________________________________________________________________________________\n",
      "[Memory] Calling nilearn.input_data.base_masker.filter_and_extract...\n",
      "filter_and_extract('F:\\\\ece\\\\capstone\\\\code\\\\py\\\\data\\\\abide\\\\traindata\\\\29178_3_rest_1.nii.gz', <nilearn.input_data.nifti_labels_masker._ExtractionFunctor object at 0x00000293049B8F98>, \n",
      "{ 'background_label': 0,\n",
      "  'detrend': False,\n",
      "  'dtype': None,\n",
      "  'high_pass': None,\n",
      "  'labels_img': 'C:\\\\Users\\\\June '\n",
      "                'Cai/nilearn_data\\\\fsl\\\\data\\\\atlases\\\\HarvardOxford\\\\HarvardOxford-cort-maxprob-thr25-2mm.nii.gz',\n",
      "  'low_pass': None,\n",
      "  'mask_img': None,\n",
      "  'smoothing_fwhm': None,\n",
      "  'standardize': True,\n",
      "  't_r': None,\n",
      "  'target_affine': array([[  -2.,    0.,    0.,   90.],\n",
      "       [   0.,    2.,    0., -126.],\n",
      "       [   0.,    0.,    2.,  -72.],\n",
      "       [   0.,    0.,    0.,    1.]]),\n",
      "  'target_shape': (91, 109, 91)}, memory=Memory(location=nilearn_cache\\joblib), confounds=None, dtype=None, verbose=5, memory_level=1)\n",
      "[NiftiLabelsMasker.transform_single_imgs] Loading data from F:\\ece\\capstone\\code\\py\\data\\abide\\traindata\\29178_3_rest_1.nii.gz\n"
     ]
    },
    {
     "name": "stderr",
     "output_type": "stream",
     "text": [
      "C:\\Users\\June Cai\\AppData\\Roaming\\Python\\Python35\\site-packages\\nilearn\\_utils\\cache_mixin.py:84: DeprecationWarning: The 'cachedir' parameter has been deprecated in version 0.12 and will be removed in version 0.14.\n",
      "You provided \"cachedir='nilearn_cache'\", use \"location='nilearn_cache'\" instead.\n",
      "  memory = Memory(cachedir=cache_dir, verbose=verbose)\n",
      "C:\\Users\\June Cai\\AppData\\Roaming\\Python\\Python35\\site-packages\\nilearn\\_utils\\cache_mixin.py:232: DeprecationWarning: The 'cachedir' attribute has been deprecated in version 0.12 and will be removed in version 0.14.\n",
      "Use os.path.join(memory.location, 'joblib') attribute instead.\n",
      "  if (memory.cachedir is None and memory_level is not None\n",
      "C:\\Users\\June Cai\\AppData\\Roaming\\Python\\Python35\\site-packages\\nilearn\\_utils\\cache_mixin.py:232: DeprecationWarning: The 'cachedir' attribute has been deprecated in version 0.12 and will be removed in version 0.14.\n",
      "Use os.path.join(memory.location, 'joblib') attribute instead.\n",
      "  if (memory.cachedir is None and memory_level is not None\n"
     ]
    },
    {
     "name": "stdout",
     "output_type": "stream",
     "text": [
      "[NiftiLabelsMasker.transform_single_imgs] Resampling images\n"
     ]
    },
    {
     "name": "stderr",
     "output_type": "stream",
     "text": [
      "C:\\Users\\June Cai\\AppData\\Roaming\\Python\\Python35\\site-packages\\nilearn\\image\\resampling.py:510: UserWarning: Casting data from int16 to float32\n",
      "  warnings.warn(\"Casting data from %s to %s\" % (data.dtype.name, aux))\n"
     ]
    },
    {
     "name": "stdout",
     "output_type": "stream",
     "text": [
      "[NiftiLabelsMasker.transform_single_imgs] Extracting region signals\n",
      "[NiftiLabelsMasker.transform_single_imgs] Cleaning extracted signals\n",
      "______________________________________________filter_and_extract - 35.5s, 0.6min\n",
      "[[1.         0.43270513 0.43063885 ... 0.15613805 0.45117047 0.13963671]\n",
      " [0.43270513 1.         0.32074234 ... 0.37732208 0.36237264 0.377534  ]\n",
      " [0.43063885 0.32074234 1.         ... 0.10136105 0.42829356 0.03489939]\n",
      " ...\n",
      " [0.15613805 0.37732208 0.10136105 ... 1.         0.16700137 0.48242173]\n",
      " [0.45117047 0.36237264 0.42829356 ... 0.16700137 1.         0.11333643]\n",
      " [0.13963671 0.377534   0.03489939 ... 0.48242173 0.11333644 1.        ]] (1, -1)\n",
      "(48, 48)\n",
      "processed: 3\n",
      "rest\n",
      "[NiftiLabelsMasker.fit_transform] loading data from C:\\Users\\June Cai/nilearn_data\\fsl\\data\\atlases\\HarvardOxford\\HarvardOxford-cort-maxprob-thr25-2mm.nii.gz\n",
      "________________________________________________________________________________\n",
      "[Memory] Calling nilearn.input_data.base_masker.filter_and_extract...\n",
      "filter_and_extract('F:\\\\ece\\\\capstone\\\\code\\\\py\\\\data\\\\abide\\\\traindata\\\\29179_3_rest_1.nii.gz', <nilearn.input_data.nifti_labels_masker._ExtractionFunctor object at 0x0000029304915358>, \n",
      "{ 'background_label': 0,\n",
      "  'detrend': False,\n",
      "  'dtype': None,\n",
      "  'high_pass': None,\n",
      "  'labels_img': 'C:\\\\Users\\\\June '\n",
      "                'Cai/nilearn_data\\\\fsl\\\\data\\\\atlases\\\\HarvardOxford\\\\HarvardOxford-cort-maxprob-thr25-2mm.nii.gz',\n",
      "  'low_pass': None,\n",
      "  'mask_img': None,\n",
      "  'smoothing_fwhm': None,\n",
      "  'standardize': True,\n",
      "  't_r': None,\n",
      "  'target_affine': array([[  -2.,    0.,    0.,   90.],\n",
      "       [   0.,    2.,    0., -126.],\n",
      "       [   0.,    0.,    2.,  -72.],\n",
      "       [   0.,    0.,    0.,    1.]]),\n",
      "  'target_shape': (91, 109, 91)}, memory=Memory(location=nilearn_cache\\joblib), confounds=None, dtype=None, verbose=5, memory_level=1)\n",
      "[NiftiLabelsMasker.transform_single_imgs] Loading data from F:\\ece\\capstone\\code\\py\\data\\abide\\traindata\\29179_3_rest_1.nii.gz\n"
     ]
    },
    {
     "name": "stderr",
     "output_type": "stream",
     "text": [
      "C:\\Users\\June Cai\\AppData\\Roaming\\Python\\Python35\\site-packages\\nilearn\\_utils\\cache_mixin.py:232: DeprecationWarning: The 'cachedir' attribute has been deprecated in version 0.12 and will be removed in version 0.14.\n",
      "Use os.path.join(memory.location, 'joblib') attribute instead.\n",
      "  if (memory.cachedir is None and memory_level is not None\n"
     ]
    },
    {
     "name": "stdout",
     "output_type": "stream",
     "text": [
      "[NiftiLabelsMasker.transform_single_imgs] Resampling images\n"
     ]
    },
    {
     "name": "stderr",
     "output_type": "stream",
     "text": [
      "C:\\Users\\June Cai\\AppData\\Roaming\\Python\\Python35\\site-packages\\nilearn\\image\\resampling.py:510: UserWarning: Casting data from int16 to float32\n",
      "  warnings.warn(\"Casting data from %s to %s\" % (data.dtype.name, aux))\n"
     ]
    },
    {
     "name": "stdout",
     "output_type": "stream",
     "text": [
      "[NiftiLabelsMasker.transform_single_imgs] Extracting region signals\n",
      "[NiftiLabelsMasker.transform_single_imgs] Cleaning extracted signals\n",
      "______________________________________________filter_and_extract - 32.0s, 0.5min\n",
      "[[1.         0.35469607 0.40336815 ... 0.3211969  0.24365042 0.10584527]\n",
      " [0.35469607 1.         0.34591767 ... 0.3780658  0.30457515 0.16656123]\n",
      " [0.40336818 0.34591767 1.         ... 0.349539   0.16214256 0.10141318]\n",
      " ...\n",
      " [0.32119688 0.3780658  0.349539   ... 1.         0.2728866  0.18126273]\n",
      " [0.24365042 0.30457515 0.16214256 ... 0.2728866  1.         0.1570089 ]\n",
      " [0.10584527 0.16656123 0.10141318 ... 0.18126273 0.1570089  1.        ]] (1, -1)\n",
      "(48, 48)\n",
      "processed: 4\n",
      "rest\n",
      "[NiftiLabelsMasker.fit_transform] loading data from C:\\Users\\June Cai/nilearn_data\\fsl\\data\\atlases\\HarvardOxford\\HarvardOxford-cort-maxprob-thr25-2mm.nii.gz\n",
      "________________________________________________________________________________\n",
      "[Memory] Calling nilearn.input_data.base_masker.filter_and_extract...\n",
      "filter_and_extract('F:\\\\ece\\\\capstone\\\\code\\\\py\\\\data\\\\abide\\\\traindata\\\\29180_3_rest_1.nii.gz', <nilearn.input_data.nifti_labels_masker._ExtractionFunctor object at 0x000002937F76E358>, \n",
      "{ 'background_label': 0,\n",
      "  'detrend': False,\n",
      "  'dtype': None,\n",
      "  'high_pass': None,\n",
      "  'labels_img': 'C:\\\\Users\\\\June '\n",
      "                'Cai/nilearn_data\\\\fsl\\\\data\\\\atlases\\\\HarvardOxford\\\\HarvardOxford-cort-maxprob-thr25-2mm.nii.gz',\n",
      "  'low_pass': None,\n",
      "  'mask_img': None,\n",
      "  'smoothing_fwhm': None,\n",
      "  'standardize': True,\n",
      "  't_r': None,\n",
      "  'target_affine': array([[  -2.,    0.,    0.,   90.],\n",
      "       [   0.,    2.,    0., -126.],\n",
      "       [   0.,    0.,    2.,  -72.],\n",
      "       [   0.,    0.,    0.,    1.]]),\n",
      "  'target_shape': (91, 109, 91)}, memory=Memory(location=nilearn_cache\\joblib), confounds=None, dtype=None, verbose=5, memory_level=1)\n",
      "[NiftiLabelsMasker.transform_single_imgs] Loading data from F:\\ece\\capstone\\code\\py\\data\\abide\\traindata\\29180_3_rest_1.nii.gz\n"
     ]
    },
    {
     "name": "stderr",
     "output_type": "stream",
     "text": [
      "C:\\Users\\June Cai\\AppData\\Roaming\\Python\\Python35\\site-packages\\nilearn\\_utils\\cache_mixin.py:232: DeprecationWarning: The 'cachedir' attribute has been deprecated in version 0.12 and will be removed in version 0.14.\n",
      "Use os.path.join(memory.location, 'joblib') attribute instead.\n",
      "  if (memory.cachedir is None and memory_level is not None\n"
     ]
    },
    {
     "name": "stdout",
     "output_type": "stream",
     "text": [
      "[NiftiLabelsMasker.transform_single_imgs] Resampling images\n"
     ]
    },
    {
     "name": "stderr",
     "output_type": "stream",
     "text": [
      "C:\\Users\\June Cai\\AppData\\Roaming\\Python\\Python35\\site-packages\\nilearn\\image\\resampling.py:510: UserWarning: Casting data from int16 to float32\n",
      "  warnings.warn(\"Casting data from %s to %s\" % (data.dtype.name, aux))\n"
     ]
    },
    {
     "name": "stdout",
     "output_type": "stream",
     "text": [
      "[NiftiLabelsMasker.transform_single_imgs] Extracting region signals\n",
      "[NiftiLabelsMasker.transform_single_imgs] Cleaning extracted signals\n",
      "______________________________________________filter_and_extract - 38.1s, 0.6min\n",
      "[[1.         0.4654249  0.42760655 ... 0.3522475  0.328133   0.30084786]\n",
      " [0.4654249  1.         0.32393357 ... 0.44550225 0.24764204 0.30314437]\n",
      " [0.42760658 0.32393357 1.         ... 0.27517456 0.39752918 0.31565863]\n",
      " ...\n",
      " [0.3522475  0.44550228 0.27517456 ... 1.         0.17395864 0.35551107]\n",
      " [0.328133   0.24764204 0.39752916 ... 0.17395864 1.         0.22807546]\n",
      " [0.30084786 0.30314437 0.31565863 ... 0.35551107 0.22807546 1.        ]] (1, -1)\n",
      "(48, 48)\n",
      "processed: 5\n",
      "rest\n",
      "[NiftiLabelsMasker.fit_transform] loading data from C:\\Users\\June Cai/nilearn_data\\fsl\\data\\atlases\\HarvardOxford\\HarvardOxford-cort-maxprob-thr25-2mm.nii.gz\n",
      "________________________________________________________________________________\n",
      "[Memory] Calling nilearn.input_data.base_masker.filter_and_extract...\n",
      "filter_and_extract('F:\\\\ece\\\\capstone\\\\code\\\\py\\\\data\\\\abide\\\\traindata\\\\29181_3_rest_1.nii.gz', <nilearn.input_data.nifti_labels_masker._ExtractionFunctor object at 0x00000293736FFEB8>, \n",
      "{ 'background_label': 0,\n",
      "  'detrend': False,\n",
      "  'dtype': None,\n",
      "  'high_pass': None,\n",
      "  'labels_img': 'C:\\\\Users\\\\June '\n",
      "                'Cai/nilearn_data\\\\fsl\\\\data\\\\atlases\\\\HarvardOxford\\\\HarvardOxford-cort-maxprob-thr25-2mm.nii.gz',\n",
      "  'low_pass': None,\n",
      "  'mask_img': None,\n",
      "  'smoothing_fwhm': None,\n",
      "  'standardize': True,\n",
      "  't_r': None,\n",
      "  'target_affine': array([[  -2.,    0.,    0.,   90.],\n",
      "       [   0.,    2.,    0., -126.],\n",
      "       [   0.,    0.,    2.,  -72.],\n",
      "       [   0.,    0.,    0.,    1.]]),\n",
      "  'target_shape': (91, 109, 91)}, memory=Memory(location=nilearn_cache\\joblib), confounds=None, dtype=None, verbose=5, memory_level=1)\n",
      "[NiftiLabelsMasker.transform_single_imgs] Loading data from F:\\ece\\capstone\\code\\py\\data\\abide\\traindata\\29181_3_rest_1.nii.gz\n"
     ]
    },
    {
     "name": "stderr",
     "output_type": "stream",
     "text": [
      "C:\\Users\\June Cai\\AppData\\Roaming\\Python\\Python35\\site-packages\\nilearn\\_utils\\cache_mixin.py:232: DeprecationWarning: The 'cachedir' attribute has been deprecated in version 0.12 and will be removed in version 0.14.\n",
      "Use os.path.join(memory.location, 'joblib') attribute instead.\n",
      "  if (memory.cachedir is None and memory_level is not None\n"
     ]
    },
    {
     "name": "stdout",
     "output_type": "stream",
     "text": [
      "[NiftiLabelsMasker.transform_single_imgs] Resampling images\n"
     ]
    },
    {
     "name": "stderr",
     "output_type": "stream",
     "text": [
      "C:\\Users\\June Cai\\AppData\\Roaming\\Python\\Python35\\site-packages\\nilearn\\image\\resampling.py:510: UserWarning: Casting data from int16 to float32\n",
      "  warnings.warn(\"Casting data from %s to %s\" % (data.dtype.name, aux))\n"
     ]
    },
    {
     "name": "stdout",
     "output_type": "stream",
     "text": [
      "[NiftiLabelsMasker.transform_single_imgs] Extracting region signals\n",
      "[NiftiLabelsMasker.transform_single_imgs] Cleaning extracted signals\n",
      "______________________________________________filter_and_extract - 36.2s, 0.6min\n",
      "[[1.         0.25243935 0.22071296 ... 0.11651386 0.22858682 0.0694131 ]\n",
      " [0.25243932 1.         0.22718231 ... 0.12491102 0.23871    0.06550819]\n",
      " [0.22071296 0.2271823  1.         ... 0.20759904 0.22968587 0.07971885]\n",
      " ...\n",
      " [0.11651386 0.12491103 0.20759904 ... 1.         0.16649409 0.06417408]\n",
      " [0.22858682 0.23871    0.22968589 ... 0.1664941  1.         0.06223755]\n",
      " [0.0694131  0.06550819 0.07971885 ... 0.06417408 0.06223756 1.        ]] (1, -1)\n",
      "(48, 48)\n",
      "processed: 6\n",
      "rest\n",
      "[NiftiLabelsMasker.fit_transform] loading data from C:\\Users\\June Cai/nilearn_data\\fsl\\data\\atlases\\HarvardOxford\\HarvardOxford-cort-maxprob-thr25-2mm.nii.gz\n",
      "________________________________________________________________________________\n",
      "[Memory] Calling nilearn.input_data.base_masker.filter_and_extract...\n",
      "filter_and_extract('F:\\\\ece\\\\capstone\\\\code\\\\py\\\\data\\\\abide\\\\traindata\\\\29182_3_rest_1.nii.gz', <nilearn.input_data.nifti_labels_masker._ExtractionFunctor object at 0x000002937FE8B080>, \n",
      "{ 'background_label': 0,\n",
      "  'detrend': False,\n",
      "  'dtype': None,\n",
      "  'high_pass': None,\n",
      "  'labels_img': 'C:\\\\Users\\\\June '\n",
      "                'Cai/nilearn_data\\\\fsl\\\\data\\\\atlases\\\\HarvardOxford\\\\HarvardOxford-cort-maxprob-thr25-2mm.nii.gz',\n",
      "  'low_pass': None,\n",
      "  'mask_img': None,\n",
      "  'smoothing_fwhm': None,\n",
      "  'standardize': True,\n",
      "  't_r': None,\n",
      "  'target_affine': array([[  -2.,    0.,    0.,   90.],\n",
      "       [   0.,    2.,    0., -126.],\n",
      "       [   0.,    0.,    2.,  -72.],\n",
      "       [   0.,    0.,    0.,    1.]]),\n",
      "  'target_shape': (91, 109, 91)}, memory=Memory(location=nilearn_cache\\joblib), confounds=None, dtype=None, verbose=5, memory_level=1)\n",
      "[NiftiLabelsMasker.transform_single_imgs] Loading data from F:\\ece\\capstone\\code\\py\\data\\abide\\traindata\\29182_3_rest_1.nii.gz\n"
     ]
    },
    {
     "name": "stderr",
     "output_type": "stream",
     "text": [
      "C:\\Users\\June Cai\\AppData\\Roaming\\Python\\Python35\\site-packages\\nilearn\\_utils\\cache_mixin.py:232: DeprecationWarning: The 'cachedir' attribute has been deprecated in version 0.12 and will be removed in version 0.14.\n",
      "Use os.path.join(memory.location, 'joblib') attribute instead.\n",
      "  if (memory.cachedir is None and memory_level is not None\n"
     ]
    },
    {
     "name": "stdout",
     "output_type": "stream",
     "text": [
      "[NiftiLabelsMasker.transform_single_imgs] Resampling images\n"
     ]
    },
    {
     "name": "stderr",
     "output_type": "stream",
     "text": [
      "C:\\Users\\June Cai\\AppData\\Roaming\\Python\\Python35\\site-packages\\nilearn\\image\\resampling.py:510: UserWarning: Casting data from int16 to float32\n",
      "  warnings.warn(\"Casting data from %s to %s\" % (data.dtype.name, aux))\n"
     ]
    },
    {
     "name": "stdout",
     "output_type": "stream",
     "text": [
      "[NiftiLabelsMasker.transform_single_imgs] Extracting region signals\n",
      "[NiftiLabelsMasker.transform_single_imgs] Cleaning extracted signals\n",
      "______________________________________________filter_and_extract - 34.4s, 0.6min\n",
      "[[1.         0.14071476 0.14136128 ... 0.13413586 0.12606657 0.02414978]\n",
      " [0.14071475 1.         0.14071341 ... 0.1336524  0.12617512 0.0265814 ]\n",
      " [0.14136128 0.1407134  1.         ... 0.13892591 0.12416154 0.02549959]\n",
      " ...\n",
      " [0.13413586 0.13365239 0.13892591 ... 1.         0.10995793 0.02521389]\n",
      " [0.12606657 0.12617512 0.12416154 ... 0.10995793 1.         0.01040758]\n",
      " [0.02414978 0.0265814  0.02549959 ... 0.02521389 0.01040758 1.        ]] (1, -1)\n",
      "(48, 48)\n",
      "processed: 7\n",
      "rest\n",
      "[NiftiLabelsMasker.fit_transform] loading data from C:\\Users\\June Cai/nilearn_data\\fsl\\data\\atlases\\HarvardOxford\\HarvardOxford-cort-maxprob-thr25-2mm.nii.gz\n",
      "________________________________________________________________________________\n",
      "[Memory] Calling nilearn.input_data.base_masker.filter_and_extract...\n",
      "filter_and_extract('F:\\\\ece\\\\capstone\\\\code\\\\py\\\\data\\\\abide\\\\traindata\\\\29183_3_rest_1.nii.gz', <nilearn.input_data.nifti_labels_masker._ExtractionFunctor object at 0x00000293020054A8>, \n",
      "{ 'background_label': 0,\n",
      "  'detrend': False,\n",
      "  'dtype': None,\n",
      "  'high_pass': None,\n",
      "  'labels_img': 'C:\\\\Users\\\\June '\n",
      "                'Cai/nilearn_data\\\\fsl\\\\data\\\\atlases\\\\HarvardOxford\\\\HarvardOxford-cort-maxprob-thr25-2mm.nii.gz',\n",
      "  'low_pass': None,\n",
      "  'mask_img': None,\n",
      "  'smoothing_fwhm': None,\n",
      "  'standardize': True,\n",
      "  't_r': None,\n",
      "  'target_affine': array([[  -2.,    0.,    0.,   90.],\n",
      "       [   0.,    2.,    0., -126.],\n",
      "       [   0.,    0.,    2.,  -72.],\n",
      "       [   0.,    0.,    0.,    1.]]),\n",
      "  'target_shape': (91, 109, 91)}, memory=Memory(location=nilearn_cache\\joblib), confounds=None, dtype=None, verbose=5, memory_level=1)\n",
      "[NiftiLabelsMasker.transform_single_imgs] Loading data from F:\\ece\\capstone\\code\\py\\data\\abide\\traindata\\29183_3_rest_1.nii.gz\n"
     ]
    },
    {
     "name": "stderr",
     "output_type": "stream",
     "text": [
      "C:\\Users\\June Cai\\AppData\\Roaming\\Python\\Python35\\site-packages\\nilearn\\_utils\\cache_mixin.py:232: DeprecationWarning: The 'cachedir' attribute has been deprecated in version 0.12 and will be removed in version 0.14.\n",
      "Use os.path.join(memory.location, 'joblib') attribute instead.\n",
      "  if (memory.cachedir is None and memory_level is not None\n"
     ]
    },
    {
     "name": "stdout",
     "output_type": "stream",
     "text": [
      "[NiftiLabelsMasker.transform_single_imgs] Resampling images\n"
     ]
    },
    {
     "name": "stderr",
     "output_type": "stream",
     "text": [
      "C:\\Users\\June Cai\\AppData\\Roaming\\Python\\Python35\\site-packages\\nilearn\\image\\resampling.py:510: UserWarning: Casting data from int16 to float32\n",
      "  warnings.warn(\"Casting data from %s to %s\" % (data.dtype.name, aux))\n"
     ]
    },
    {
     "name": "stdout",
     "output_type": "stream",
     "text": [
      "[NiftiLabelsMasker.transform_single_imgs] Extracting region signals\n",
      "[NiftiLabelsMasker.transform_single_imgs] Cleaning extracted signals\n",
      "______________________________________________filter_and_extract - 37.9s, 0.6min\n",
      "[[1.         0.3807978  0.3647589  ... 0.3911012  0.20011368 0.14278905]\n",
      " [0.3807978  1.         0.3023807  ... 0.39259914 0.2784434  0.22155116]\n",
      " [0.3647589  0.3023807  1.         ... 0.33288643 0.05817365 0.00932219]\n",
      " ...\n",
      " [0.39110124 0.39259914 0.33288643 ... 1.         0.24814905 0.18900335]\n",
      " [0.20011368 0.2784434  0.05817366 ... 0.24814907 1.         0.3174682 ]\n",
      " [0.14278907 0.22155116 0.00932219 ... 0.18900335 0.3174682  1.        ]] (1, -1)\n",
      "(48, 48)\n",
      "processed: 8\n",
      "rest\n",
      "[NiftiLabelsMasker.fit_transform] loading data from C:\\Users\\June Cai/nilearn_data\\fsl\\data\\atlases\\HarvardOxford\\HarvardOxford-cort-maxprob-thr25-2mm.nii.gz\n",
      "________________________________________________________________________________\n",
      "[Memory] Calling nilearn.input_data.base_masker.filter_and_extract...\n",
      "filter_and_extract('F:\\\\ece\\\\capstone\\\\code\\\\py\\\\data\\\\abide\\\\traindata\\\\29184_3_rest_1.nii.gz', <nilearn.input_data.nifti_labels_masker._ExtractionFunctor object at 0x0000029302D70EF0>, \n",
      "{ 'background_label': 0,\n",
      "  'detrend': False,\n",
      "  'dtype': None,\n",
      "  'high_pass': None,\n",
      "  'labels_img': 'C:\\\\Users\\\\June '\n",
      "                'Cai/nilearn_data\\\\fsl\\\\data\\\\atlases\\\\HarvardOxford\\\\HarvardOxford-cort-maxprob-thr25-2mm.nii.gz',\n",
      "  'low_pass': None,\n",
      "  'mask_img': None,\n",
      "  'smoothing_fwhm': None,\n",
      "  'standardize': True,\n",
      "  't_r': None,\n",
      "  'target_affine': array([[  -2.,    0.,    0.,   90.],\n",
      "       [   0.,    2.,    0., -126.],\n",
      "       [   0.,    0.,    2.,  -72.],\n",
      "       [   0.,    0.,    0.,    1.]]),\n",
      "  'target_shape': (91, 109, 91)}, memory=Memory(location=nilearn_cache\\joblib), confounds=None, dtype=None, verbose=5, memory_level=1)\n",
      "[NiftiLabelsMasker.transform_single_imgs] Loading data from F:\\ece\\capstone\\code\\py\\data\\abide\\traindata\\29184_3_rest_1.nii.gz\n"
     ]
    },
    {
     "name": "stderr",
     "output_type": "stream",
     "text": [
      "C:\\Users\\June Cai\\AppData\\Roaming\\Python\\Python35\\site-packages\\nilearn\\_utils\\cache_mixin.py:232: DeprecationWarning: The 'cachedir' attribute has been deprecated in version 0.12 and will be removed in version 0.14.\n",
      "Use os.path.join(memory.location, 'joblib') attribute instead.\n",
      "  if (memory.cachedir is None and memory_level is not None\n"
     ]
    },
    {
     "name": "stdout",
     "output_type": "stream",
     "text": [
      "[NiftiLabelsMasker.transform_single_imgs] Resampling images\n"
     ]
    },
    {
     "name": "stderr",
     "output_type": "stream",
     "text": [
      "C:\\Users\\June Cai\\AppData\\Roaming\\Python\\Python35\\site-packages\\nilearn\\image\\resampling.py:510: UserWarning: Casting data from int16 to float32\n",
      "  warnings.warn(\"Casting data from %s to %s\" % (data.dtype.name, aux))\n"
     ]
    },
    {
     "name": "stdout",
     "output_type": "stream",
     "text": [
      "[NiftiLabelsMasker.transform_single_imgs] Extracting region signals\n",
      "[NiftiLabelsMasker.transform_single_imgs] Cleaning extracted signals\n",
      "______________________________________________filter_and_extract - 32.1s, 0.5min\n",
      "[[1.         0.11060836 0.12304237 ... 0.10350829 0.11809865 0.10794087]\n",
      " [0.11060836 1.         0.11500331 ... 0.08609756 0.11388311 0.10217703]\n",
      " [0.12304237 0.11500331 1.         ... 0.09447528 0.11872078 0.1035761 ]\n",
      " ...\n",
      " [0.10350829 0.08609756 0.09447528 ... 1.         0.09668682 0.09709614]\n",
      " [0.11809865 0.11388311 0.11872078 ... 0.09668682 1.         0.10964823]\n",
      " [0.10794087 0.10217703 0.1035761  ... 0.09709614 0.10964823 1.        ]] (1, -1)\n",
      "(48, 48)\n",
      "processed: 9\n",
      "rest\n",
      "[NiftiLabelsMasker.fit_transform] loading data from C:\\Users\\June Cai/nilearn_data\\fsl\\data\\atlases\\HarvardOxford\\HarvardOxford-cort-maxprob-thr25-2mm.nii.gz\n",
      "________________________________________________________________________________\n",
      "[Memory] Calling nilearn.input_data.base_masker.filter_and_extract...\n",
      "filter_and_extract('F:\\\\ece\\\\capstone\\\\code\\\\py\\\\data\\\\abide\\\\traindata\\\\29185_3_rest_1.nii.gz', <nilearn.input_data.nifti_labels_masker._ExtractionFunctor object at 0x0000029304957128>, \n",
      "{ 'background_label': 0,\n",
      "  'detrend': False,\n",
      "  'dtype': None,\n",
      "  'high_pass': None,\n",
      "  'labels_img': 'C:\\\\Users\\\\June '\n",
      "                'Cai/nilearn_data\\\\fsl\\\\data\\\\atlases\\\\HarvardOxford\\\\HarvardOxford-cort-maxprob-thr25-2mm.nii.gz',\n",
      "  'low_pass': None,\n",
      "  'mask_img': None,\n",
      "  'smoothing_fwhm': None,\n",
      "  'standardize': True,\n",
      "  't_r': None,\n",
      "  'target_affine': array([[  -2.,    0.,    0.,   90.],\n",
      "       [   0.,    2.,    0., -126.],\n",
      "       [   0.,    0.,    2.,  -72.],\n",
      "       [   0.,    0.,    0.,    1.]]),\n",
      "  'target_shape': (91, 109, 91)}, memory=Memory(location=nilearn_cache\\joblib), confounds=None, dtype=None, verbose=5, memory_level=1)\n",
      "[NiftiLabelsMasker.transform_single_imgs] Loading data from F:\\ece\\capstone\\code\\py\\data\\abide\\traindata\\29185_3_rest_1.nii.gz\n"
     ]
    },
    {
     "name": "stderr",
     "output_type": "stream",
     "text": [
      "C:\\Users\\June Cai\\AppData\\Roaming\\Python\\Python35\\site-packages\\nilearn\\_utils\\cache_mixin.py:232: DeprecationWarning: The 'cachedir' attribute has been deprecated in version 0.12 and will be removed in version 0.14.\n",
      "Use os.path.join(memory.location, 'joblib') attribute instead.\n",
      "  if (memory.cachedir is None and memory_level is not None\n"
     ]
    },
    {
     "name": "stdout",
     "output_type": "stream",
     "text": [
      "[NiftiLabelsMasker.transform_single_imgs] Resampling images\n"
     ]
    },
    {
     "name": "stderr",
     "output_type": "stream",
     "text": [
      "C:\\Users\\June Cai\\AppData\\Roaming\\Python\\Python35\\site-packages\\nilearn\\image\\resampling.py:510: UserWarning: Casting data from int16 to float32\n",
      "  warnings.warn(\"Casting data from %s to %s\" % (data.dtype.name, aux))\n"
     ]
    },
    {
     "name": "stdout",
     "output_type": "stream",
     "text": [
      "[NiftiLabelsMasker.transform_single_imgs] Extracting region signals\n",
      "[NiftiLabelsMasker.transform_single_imgs] Cleaning extracted signals\n",
      "______________________________________________filter_and_extract - 37.4s, 0.6min\n",
      "[[1.         0.05910052 0.05918343 ... 0.04066843 0.05445193 0.03573908]\n",
      " [0.05910052 1.         0.0625889  ... 0.05360352 0.05157379 0.03935084]\n",
      " [0.05918343 0.0625889  1.         ... 0.04625054 0.05954853 0.0445332 ]\n",
      " ...\n",
      " [0.04066843 0.05360352 0.04625054 ... 1.         0.0276933  0.0374456 ]\n",
      " [0.05445193 0.05157379 0.05954853 ... 0.0276933  1.         0.03545143]\n",
      " [0.03573908 0.03935084 0.0445332  ... 0.0374456  0.03545143 1.        ]] (1, -1)\n",
      "(48, 48)\n",
      "processed: 10\n",
      "rest\n",
      "[NiftiLabelsMasker.fit_transform] loading data from C:\\Users\\June Cai/nilearn_data\\fsl\\data\\atlases\\HarvardOxford\\HarvardOxford-cort-maxprob-thr25-2mm.nii.gz\n",
      "________________________________________________________________________________\n",
      "[Memory] Calling nilearn.input_data.base_masker.filter_and_extract...\n",
      "filter_and_extract('F:\\\\ece\\\\capstone\\\\code\\\\py\\\\data\\\\abide\\\\traindata\\\\29186_3_rest_1.nii.gz', <nilearn.input_data.nifti_labels_masker._ExtractionFunctor object at 0x00000293049508D0>, \n",
      "{ 'background_label': 0,\n",
      "  'detrend': False,\n",
      "  'dtype': None,\n",
      "  'high_pass': None,\n",
      "  'labels_img': 'C:\\\\Users\\\\June '\n",
      "                'Cai/nilearn_data\\\\fsl\\\\data\\\\atlases\\\\HarvardOxford\\\\HarvardOxford-cort-maxprob-thr25-2mm.nii.gz',\n",
      "  'low_pass': None,\n",
      "  'mask_img': None,\n",
      "  'smoothing_fwhm': None,\n",
      "  'standardize': True,\n",
      "  't_r': None,\n",
      "  'target_affine': array([[  -2.,    0.,    0.,   90.],\n",
      "       [   0.,    2.,    0., -126.],\n",
      "       [   0.,    0.,    2.,  -72.],\n",
      "       [   0.,    0.,    0.,    1.]]),\n",
      "  'target_shape': (91, 109, 91)}, memory=Memory(location=nilearn_cache\\joblib), confounds=None, dtype=None, verbose=5, memory_level=1)\n",
      "[NiftiLabelsMasker.transform_single_imgs] Loading data from F:\\ece\\capstone\\code\\py\\data\\abide\\traindata\\29186_3_rest_1.nii.gz\n"
     ]
    },
    {
     "name": "stderr",
     "output_type": "stream",
     "text": [
      "C:\\Users\\June Cai\\AppData\\Roaming\\Python\\Python35\\site-packages\\nilearn\\_utils\\cache_mixin.py:232: DeprecationWarning: The 'cachedir' attribute has been deprecated in version 0.12 and will be removed in version 0.14.\n",
      "Use os.path.join(memory.location, 'joblib') attribute instead.\n",
      "  if (memory.cachedir is None and memory_level is not None\n"
     ]
    },
    {
     "name": "stdout",
     "output_type": "stream",
     "text": [
      "[NiftiLabelsMasker.transform_single_imgs] Resampling images\n"
     ]
    },
    {
     "name": "stderr",
     "output_type": "stream",
     "text": [
      "C:\\Users\\June Cai\\AppData\\Roaming\\Python\\Python35\\site-packages\\nilearn\\image\\resampling.py:510: UserWarning: Casting data from int16 to float32\n",
      "  warnings.warn(\"Casting data from %s to %s\" % (data.dtype.name, aux))\n"
     ]
    },
    {
     "name": "stdout",
     "output_type": "stream",
     "text": [
      "[NiftiLabelsMasker.transform_single_imgs] Extracting region signals\n",
      "[NiftiLabelsMasker.transform_single_imgs] Cleaning extracted signals\n",
      "______________________________________________filter_and_extract - 28.5s, 0.5min\n",
      "[[ 1.0000000e+00  5.7547525e-02  3.8111642e-01 ...  3.4908757e-02\n",
      "   2.5791773e-01  1.7100444e-01]\n",
      " [ 5.7547525e-02  1.0000000e+00  9.2979044e-02 ... -1.8605102e-04\n",
      "   6.9904149e-02  4.0775258e-02]\n",
      " [ 3.8111642e-01  9.2979044e-02  1.0000000e+00 ...  3.1873390e-02\n",
      "   2.3263457e-01  1.6176511e-01]\n",
      " ...\n",
      " [ 3.4908757e-02 -1.8605102e-04  3.1873390e-02 ...  1.0000000e+00\n",
      "   4.6900541e-02 -7.5136367e-03]\n",
      " [ 2.5791773e-01  6.9904149e-02  2.3263459e-01 ...  4.6900541e-02\n",
      "   1.0000000e+00  1.4151472e-01]\n",
      " [ 1.7100444e-01  4.0775258e-02  1.6176511e-01 ... -7.5136367e-03\n",
      "   1.4151472e-01  1.0000000e+00]] (1, -1)\n",
      "(48, 48)\n",
      "processed: 11\n",
      "rest\n",
      "[NiftiLabelsMasker.fit_transform] loading data from C:\\Users\\June Cai/nilearn_data\\fsl\\data\\atlases\\HarvardOxford\\HarvardOxford-cort-maxprob-thr25-2mm.nii.gz\n",
      "________________________________________________________________________________\n",
      "[Memory] Calling nilearn.input_data.base_masker.filter_and_extract...\n",
      "filter_and_extract('F:\\\\ece\\\\capstone\\\\code\\\\py\\\\data\\\\abide\\\\traindata\\\\29187_3_rest_1.nii.gz', <nilearn.input_data.nifti_labels_masker._ExtractionFunctor object at 0x0000029302D70EF0>, \n",
      "{ 'background_label': 0,\n",
      "  'detrend': False,\n",
      "  'dtype': None,\n",
      "  'high_pass': None,\n",
      "  'labels_img': 'C:\\\\Users\\\\June '\n",
      "                'Cai/nilearn_data\\\\fsl\\\\data\\\\atlases\\\\HarvardOxford\\\\HarvardOxford-cort-maxprob-thr25-2mm.nii.gz',\n",
      "  'low_pass': None,\n",
      "  'mask_img': None,\n",
      "  'smoothing_fwhm': None,\n",
      "  'standardize': True,\n",
      "  't_r': None,\n",
      "  'target_affine': array([[  -2.,    0.,    0.,   90.],\n",
      "       [   0.,    2.,    0., -126.],\n",
      "       [   0.,    0.,    2.,  -72.],\n",
      "       [   0.,    0.,    0.,    1.]]),\n",
      "  'target_shape': (91, 109, 91)}, memory=Memory(location=nilearn_cache\\joblib), confounds=None, dtype=None, verbose=5, memory_level=1)\n",
      "[NiftiLabelsMasker.transform_single_imgs] Loading data from F:\\ece\\capstone\\code\\py\\data\\abide\\traindata\\29187_3_rest_1.nii.gz\n"
     ]
    },
    {
     "name": "stderr",
     "output_type": "stream",
     "text": [
      "C:\\Users\\June Cai\\AppData\\Roaming\\Python\\Python35\\site-packages\\nilearn\\_utils\\cache_mixin.py:232: DeprecationWarning: The 'cachedir' attribute has been deprecated in version 0.12 and will be removed in version 0.14.\n",
      "Use os.path.join(memory.location, 'joblib') attribute instead.\n",
      "  if (memory.cachedir is None and memory_level is not None\n"
     ]
    },
    {
     "name": "stdout",
     "output_type": "stream",
     "text": [
      "[NiftiLabelsMasker.transform_single_imgs] Resampling images\n"
     ]
    },
    {
     "name": "stderr",
     "output_type": "stream",
     "text": [
      "C:\\Users\\June Cai\\AppData\\Roaming\\Python\\Python35\\site-packages\\nilearn\\image\\resampling.py:510: UserWarning: Casting data from int16 to float32\n",
      "  warnings.warn(\"Casting data from %s to %s\" % (data.dtype.name, aux))\n"
     ]
    },
    {
     "name": "stdout",
     "output_type": "stream",
     "text": [
      "[NiftiLabelsMasker.transform_single_imgs] Extracting region signals\n",
      "[NiftiLabelsMasker.transform_single_imgs] Cleaning extracted signals\n",
      "______________________________________________filter_and_extract - 32.5s, 0.5min\n",
      "[[ 1.          0.15162086  0.14577594 ...  0.02541329  0.09558432\n",
      "   0.03415286]\n",
      " [ 0.15162086  1.          0.10993443 ... -0.02925994  0.0797645\n",
      "   0.02687867]\n",
      " [ 0.14577594  0.10993443  1.         ...  0.08962456  0.09482925\n",
      "   0.03320174]\n",
      " ...\n",
      " [ 0.02541329 -0.02925994  0.08962456 ...  1.          0.07628309\n",
      "   0.00953291]\n",
      " [ 0.09558432  0.0797645   0.09482925 ...  0.07628309  1.\n",
      "   0.01682122]\n",
      " [ 0.03415286  0.02687867  0.03320174 ...  0.00953291  0.01682122\n",
      "   1.        ]] (1, -1)\n",
      "(48, 48)\n",
      "processed: 12\n",
      "rest\n",
      "[NiftiLabelsMasker.fit_transform] loading data from C:\\Users\\June Cai/nilearn_data\\fsl\\data\\atlases\\HarvardOxford\\HarvardOxford-cort-maxprob-thr25-2mm.nii.gz\n",
      "________________________________________________________________________________\n",
      "[Memory] Calling nilearn.input_data.base_masker.filter_and_extract...\n",
      "filter_and_extract('F:\\\\ece\\\\capstone\\\\code\\\\py\\\\data\\\\abide\\\\traindata\\\\29188_3_rest_1.nii.gz', <nilearn.input_data.nifti_labels_masker._ExtractionFunctor object at 0x000002937F76E358>, \n",
      "{ 'background_label': 0,\n",
      "  'detrend': False,\n",
      "  'dtype': None,\n",
      "  'high_pass': None,\n",
      "  'labels_img': 'C:\\\\Users\\\\June '\n",
      "                'Cai/nilearn_data\\\\fsl\\\\data\\\\atlases\\\\HarvardOxford\\\\HarvardOxford-cort-maxprob-thr25-2mm.nii.gz',\n",
      "  'low_pass': None,\n",
      "  'mask_img': None,\n",
      "  'smoothing_fwhm': None,\n",
      "  'standardize': True,\n",
      "  't_r': None,\n",
      "  'target_affine': array([[  -2.,    0.,    0.,   90.],\n",
      "       [   0.,    2.,    0., -126.],\n",
      "       [   0.,    0.,    2.,  -72.],\n",
      "       [   0.,    0.,    0.,    1.]]),\n",
      "  'target_shape': (91, 109, 91)}, memory=Memory(location=nilearn_cache\\joblib), confounds=None, dtype=None, verbose=5, memory_level=1)\n",
      "[NiftiLabelsMasker.transform_single_imgs] Loading data from F:\\ece\\capstone\\code\\py\\data\\abide\\traindata\\29188_3_rest_1.nii.gz\n"
     ]
    },
    {
     "name": "stderr",
     "output_type": "stream",
     "text": [
      "C:\\Users\\June Cai\\AppData\\Roaming\\Python\\Python35\\site-packages\\nilearn\\_utils\\cache_mixin.py:232: DeprecationWarning: The 'cachedir' attribute has been deprecated in version 0.12 and will be removed in version 0.14.\n",
      "Use os.path.join(memory.location, 'joblib') attribute instead.\n",
      "  if (memory.cachedir is None and memory_level is not None\n"
     ]
    },
    {
     "name": "stdout",
     "output_type": "stream",
     "text": [
      "[NiftiLabelsMasker.transform_single_imgs] Resampling images\n"
     ]
    },
    {
     "name": "stderr",
     "output_type": "stream",
     "text": [
      "C:\\Users\\June Cai\\AppData\\Roaming\\Python\\Python35\\site-packages\\nilearn\\image\\resampling.py:510: UserWarning: Casting data from int16 to float32\n",
      "  warnings.warn(\"Casting data from %s to %s\" % (data.dtype.name, aux))\n"
     ]
    },
    {
     "name": "stdout",
     "output_type": "stream",
     "text": [
      "[NiftiLabelsMasker.transform_single_imgs] Extracting region signals\n",
      "[NiftiLabelsMasker.transform_single_imgs] Cleaning extracted signals\n",
      "______________________________________________filter_and_extract - 29.3s, 0.5min\n",
      "[[1.         0.04408319 0.04623654 ... 0.04034649 0.02605666 0.01207889]\n",
      " [0.04408319 1.         0.04384996 ... 0.0427232  0.02560898 0.01115652]\n",
      " [0.04623654 0.04384996 1.         ... 0.03974241 0.02576878 0.01206381]\n",
      " ...\n",
      " [0.04034649 0.0427232  0.03974241 ... 1.         0.02269085 0.0118871 ]\n",
      " [0.02605666 0.02560898 0.02576878 ... 0.02269085 1.         0.00952259]\n",
      " [0.01207889 0.01115652 0.01206381 ... 0.0118871  0.00952259 1.        ]] (1, -1)\n",
      "(48, 48)\n",
      "processed: 13\n",
      "rest\n",
      "[NiftiLabelsMasker.fit_transform] loading data from C:\\Users\\June Cai/nilearn_data\\fsl\\data\\atlases\\HarvardOxford\\HarvardOxford-cort-maxprob-thr25-2mm.nii.gz\n",
      "________________________________________________________________________________\n",
      "[Memory] Calling nilearn.input_data.base_masker.filter_and_extract...\n",
      "filter_and_extract('F:\\\\ece\\\\capstone\\\\code\\\\py\\\\data\\\\abide\\\\traindata\\\\29189_3_rest_1.nii.gz', <nilearn.input_data.nifti_labels_masker._ExtractionFunctor object at 0x000002937F76E208>, \n",
      "{ 'background_label': 0,\n",
      "  'detrend': False,\n",
      "  'dtype': None,\n",
      "  'high_pass': None,\n",
      "  'labels_img': 'C:\\\\Users\\\\June '\n",
      "                'Cai/nilearn_data\\\\fsl\\\\data\\\\atlases\\\\HarvardOxford\\\\HarvardOxford-cort-maxprob-thr25-2mm.nii.gz',\n",
      "  'low_pass': None,\n",
      "  'mask_img': None,\n",
      "  'smoothing_fwhm': None,\n",
      "  'standardize': True,\n",
      "  't_r': None,\n",
      "  'target_affine': array([[  -2.,    0.,    0.,   90.],\n",
      "       [   0.,    2.,    0., -126.],\n",
      "       [   0.,    0.,    2.,  -72.],\n",
      "       [   0.,    0.,    0.,    1.]]),\n",
      "  'target_shape': (91, 109, 91)}, memory=Memory(location=nilearn_cache\\joblib), confounds=None, dtype=None, verbose=5, memory_level=1)\n",
      "[NiftiLabelsMasker.transform_single_imgs] Loading data from F:\\ece\\capstone\\code\\py\\data\\abide\\traindata\\29189_3_rest_1.nii.gz\n"
     ]
    },
    {
     "name": "stderr",
     "output_type": "stream",
     "text": [
      "C:\\Users\\June Cai\\AppData\\Roaming\\Python\\Python35\\site-packages\\nilearn\\_utils\\cache_mixin.py:232: DeprecationWarning: The 'cachedir' attribute has been deprecated in version 0.12 and will be removed in version 0.14.\n",
      "Use os.path.join(memory.location, 'joblib') attribute instead.\n",
      "  if (memory.cachedir is None and memory_level is not None\n"
     ]
    },
    {
     "name": "stdout",
     "output_type": "stream",
     "text": [
      "[NiftiLabelsMasker.transform_single_imgs] Resampling images\n"
     ]
    },
    {
     "name": "stderr",
     "output_type": "stream",
     "text": [
      "C:\\Users\\June Cai\\AppData\\Roaming\\Python\\Python35\\site-packages\\nilearn\\image\\resampling.py:510: UserWarning: Casting data from int16 to float32\n",
      "  warnings.warn(\"Casting data from %s to %s\" % (data.dtype.name, aux))\n"
     ]
    },
    {
     "name": "stdout",
     "output_type": "stream",
     "text": [
      "[NiftiLabelsMasker.transform_single_imgs] Extracting region signals\n",
      "[NiftiLabelsMasker.transform_single_imgs] Cleaning extracted signals\n",
      "______________________________________________filter_and_extract - 32.6s, 0.5min\n",
      "[[1.         0.07976388 0.08705041 ... 0.05289127 0.07113061 0.01216166]\n",
      " [0.07976388 1.         0.07804203 ... 0.0740937  0.06727957 0.00697077]\n",
      " [0.08705041 0.07804203 1.         ... 0.0510847  0.07162715 0.01195057]\n",
      " ...\n",
      " [0.05289127 0.0740937  0.0510847  ... 1.         0.04658354 0.00256997]\n",
      " [0.07113061 0.06727957 0.07162715 ... 0.04658354 1.         0.01499169]\n",
      " [0.01216166 0.00697077 0.01195057 ... 0.00256997 0.01499169 1.        ]] (1, -1)\n",
      "(48, 48)\n",
      "processed: 14\n",
      "rest\n",
      "[NiftiLabelsMasker.fit_transform] loading data from C:\\Users\\June Cai/nilearn_data\\fsl\\data\\atlases\\HarvardOxford\\HarvardOxford-cort-maxprob-thr25-2mm.nii.gz\n",
      "________________________________________________________________________________\n",
      "[Memory] Calling nilearn.input_data.base_masker.filter_and_extract...\n",
      "filter_and_extract('F:\\\\ece\\\\capstone\\\\code\\\\py\\\\data\\\\abide\\\\traindata\\\\29190_3_rest_1.nii.gz', <nilearn.input_data.nifti_labels_masker._ExtractionFunctor object at 0x00000293020054A8>, \n",
      "{ 'background_label': 0,\n",
      "  'detrend': False,\n",
      "  'dtype': None,\n",
      "  'high_pass': None,\n",
      "  'labels_img': 'C:\\\\Users\\\\June '\n",
      "                'Cai/nilearn_data\\\\fsl\\\\data\\\\atlases\\\\HarvardOxford\\\\HarvardOxford-cort-maxprob-thr25-2mm.nii.gz',\n",
      "  'low_pass': None,\n",
      "  'mask_img': None,\n",
      "  'smoothing_fwhm': None,\n",
      "  'standardize': True,\n",
      "  't_r': None,\n",
      "  'target_affine': array([[  -2.,    0.,    0.,   90.],\n",
      "       [   0.,    2.,    0., -126.],\n",
      "       [   0.,    0.,    2.,  -72.],\n",
      "       [   0.,    0.,    0.,    1.]]),\n",
      "  'target_shape': (91, 109, 91)}, memory=Memory(location=nilearn_cache\\joblib), confounds=None, dtype=None, verbose=5, memory_level=1)\n",
      "[NiftiLabelsMasker.transform_single_imgs] Loading data from F:\\ece\\capstone\\code\\py\\data\\abide\\traindata\\29190_3_rest_1.nii.gz\n"
     ]
    },
    {
     "name": "stderr",
     "output_type": "stream",
     "text": [
      "C:\\Users\\June Cai\\AppData\\Roaming\\Python\\Python35\\site-packages\\nilearn\\_utils\\cache_mixin.py:232: DeprecationWarning: The 'cachedir' attribute has been deprecated in version 0.12 and will be removed in version 0.14.\n",
      "Use os.path.join(memory.location, 'joblib') attribute instead.\n",
      "  if (memory.cachedir is None and memory_level is not None\n"
     ]
    },
    {
     "name": "stdout",
     "output_type": "stream",
     "text": [
      "[NiftiLabelsMasker.transform_single_imgs] Resampling images\n"
     ]
    },
    {
     "name": "stderr",
     "output_type": "stream",
     "text": [
      "C:\\Users\\June Cai\\AppData\\Roaming\\Python\\Python35\\site-packages\\nilearn\\image\\resampling.py:510: UserWarning: Casting data from int16 to float32\n",
      "  warnings.warn(\"Casting data from %s to %s\" % (data.dtype.name, aux))\n"
     ]
    },
    {
     "name": "stdout",
     "output_type": "stream",
     "text": [
      "[NiftiLabelsMasker.transform_single_imgs] Extracting region signals\n",
      "[NiftiLabelsMasker.transform_single_imgs] Cleaning extracted signals\n",
      "______________________________________________filter_and_extract - 32.4s, 0.5min\n",
      "[[1.         0.04886754 0.04920733 ... 0.04848722 0.04481051 0.04711038]\n",
      " [0.04886754 1.         0.04850169 ... 0.04825686 0.04452942 0.0463818 ]\n",
      " [0.04920733 0.04850169 1.         ... 0.04837306 0.04455653 0.04736288]\n",
      " ...\n",
      " [0.04848722 0.04825686 0.04837306 ... 1.         0.0450429  0.04674419]\n",
      " [0.04481051 0.04452942 0.04455653 ... 0.0450429  1.         0.04462861]\n",
      " [0.04711038 0.0463818  0.04736288 ... 0.04674419 0.04462861 1.        ]] (1, -1)\n",
      "(48, 48)\n",
      "processed: 15\n",
      "rest\n",
      "[NiftiLabelsMasker.fit_transform] loading data from C:\\Users\\June Cai/nilearn_data\\fsl\\data\\atlases\\HarvardOxford\\HarvardOxford-cort-maxprob-thr25-2mm.nii.gz\n",
      "________________________________________________________________________________\n",
      "[Memory] Calling nilearn.input_data.base_masker.filter_and_extract...\n",
      "filter_and_extract('F:\\\\ece\\\\capstone\\\\code\\\\py\\\\data\\\\abide\\\\traindata\\\\29191_3_rest_1.nii.gz', <nilearn.input_data.nifti_labels_masker._ExtractionFunctor object at 0x0000029304957128>, \n",
      "{ 'background_label': 0,\n",
      "  'detrend': False,\n",
      "  'dtype': None,\n",
      "  'high_pass': None,\n",
      "  'labels_img': 'C:\\\\Users\\\\June '\n",
      "                'Cai/nilearn_data\\\\fsl\\\\data\\\\atlases\\\\HarvardOxford\\\\HarvardOxford-cort-maxprob-thr25-2mm.nii.gz',\n",
      "  'low_pass': None,\n",
      "  'mask_img': None,\n",
      "  'smoothing_fwhm': None,\n",
      "  'standardize': True,\n",
      "  't_r': None,\n",
      "  'target_affine': array([[  -2.,    0.,    0.,   90.],\n",
      "       [   0.,    2.,    0., -126.],\n",
      "       [   0.,    0.,    2.,  -72.],\n",
      "       [   0.,    0.,    0.,    1.]]),\n",
      "  'target_shape': (91, 109, 91)}, memory=Memory(location=nilearn_cache\\joblib), confounds=None, dtype=None, verbose=5, memory_level=1)\n",
      "[NiftiLabelsMasker.transform_single_imgs] Loading data from F:\\ece\\capstone\\code\\py\\data\\abide\\traindata\\29191_3_rest_1.nii.gz\n"
     ]
    },
    {
     "name": "stderr",
     "output_type": "stream",
     "text": [
      "C:\\Users\\June Cai\\AppData\\Roaming\\Python\\Python35\\site-packages\\nilearn\\_utils\\cache_mixin.py:232: DeprecationWarning: The 'cachedir' attribute has been deprecated in version 0.12 and will be removed in version 0.14.\n",
      "Use os.path.join(memory.location, 'joblib') attribute instead.\n",
      "  if (memory.cachedir is None and memory_level is not None\n"
     ]
    },
    {
     "name": "stdout",
     "output_type": "stream",
     "text": [
      "[NiftiLabelsMasker.transform_single_imgs] Resampling images\n"
     ]
    },
    {
     "name": "stderr",
     "output_type": "stream",
     "text": [
      "C:\\Users\\June Cai\\AppData\\Roaming\\Python\\Python35\\site-packages\\nilearn\\image\\resampling.py:510: UserWarning: Casting data from int16 to float32\n",
      "  warnings.warn(\"Casting data from %s to %s\" % (data.dtype.name, aux))\n"
     ]
    },
    {
     "name": "stdout",
     "output_type": "stream",
     "text": [
      "[NiftiLabelsMasker.transform_single_imgs] Extracting region signals\n",
      "[NiftiLabelsMasker.transform_single_imgs] Cleaning extracted signals\n",
      "______________________________________________filter_and_extract - 32.3s, 0.5min\n",
      "[[ 1.          0.16387655  0.11662251 ...  0.00985023  0.08598385\n",
      "   0.13722187]\n",
      " [ 0.16387656  1.          0.09421504 ... -0.00588475  0.06341236\n",
      "   0.11948615]\n",
      " [ 0.11662251  0.09421504  1.         ...  0.09305646  0.15934445\n",
      "   0.15527844]\n",
      " ...\n",
      " [ 0.00985023 -0.00588475  0.09305646 ...  1.          0.09415889\n",
      "   0.07117982]\n",
      " [ 0.08598385  0.06341236  0.15934445 ...  0.0941589   1.\n",
      "   0.14101662]\n",
      " [ 0.13722187  0.11948615  0.15527844 ...  0.07117982  0.14101662\n",
      "   1.        ]] (1, -1)\n",
      "(48, 48)\n",
      "processed: 16\n",
      "rest\n",
      "[NiftiLabelsMasker.fit_transform] loading data from C:\\Users\\June Cai/nilearn_data\\fsl\\data\\atlases\\HarvardOxford\\HarvardOxford-cort-maxprob-thr25-2mm.nii.gz\n",
      "________________________________________________________________________________\n",
      "[Memory] Calling nilearn.input_data.base_masker.filter_and_extract...\n",
      "filter_and_extract('F:\\\\ece\\\\capstone\\\\code\\\\py\\\\data\\\\abide\\\\traindata\\\\29192_3_rest_1.nii.gz', <nilearn.input_data.nifti_labels_masker._ExtractionFunctor object at 0x00000293049508D0>, \n",
      "{ 'background_label': 0,\n",
      "  'detrend': False,\n",
      "  'dtype': None,\n",
      "  'high_pass': None,\n",
      "  'labels_img': 'C:\\\\Users\\\\June '\n",
      "                'Cai/nilearn_data\\\\fsl\\\\data\\\\atlases\\\\HarvardOxford\\\\HarvardOxford-cort-maxprob-thr25-2mm.nii.gz',\n",
      "  'low_pass': None,\n",
      "  'mask_img': None,\n",
      "  'smoothing_fwhm': None,\n",
      "  'standardize': True,\n",
      "  't_r': None,\n",
      "  'target_affine': array([[  -2.,    0.,    0.,   90.],\n",
      "       [   0.,    2.,    0., -126.],\n",
      "       [   0.,    0.,    2.,  -72.],\n",
      "       [   0.,    0.,    0.,    1.]]),\n",
      "  'target_shape': (91, 109, 91)}, memory=Memory(location=nilearn_cache\\joblib), confounds=None, dtype=None, verbose=5, memory_level=1)\n",
      "[NiftiLabelsMasker.transform_single_imgs] Loading data from F:\\ece\\capstone\\code\\py\\data\\abide\\traindata\\29192_3_rest_1.nii.gz\n"
     ]
    },
    {
     "name": "stderr",
     "output_type": "stream",
     "text": [
      "C:\\Users\\June Cai\\AppData\\Roaming\\Python\\Python35\\site-packages\\nilearn\\_utils\\cache_mixin.py:232: DeprecationWarning: The 'cachedir' attribute has been deprecated in version 0.12 and will be removed in version 0.14.\n",
      "Use os.path.join(memory.location, 'joblib') attribute instead.\n",
      "  if (memory.cachedir is None and memory_level is not None\n"
     ]
    },
    {
     "name": "stdout",
     "output_type": "stream",
     "text": [
      "[NiftiLabelsMasker.transform_single_imgs] Resampling images\n"
     ]
    },
    {
     "name": "stderr",
     "output_type": "stream",
     "text": [
      "C:\\Users\\June Cai\\AppData\\Roaming\\Python\\Python35\\site-packages\\nilearn\\image\\resampling.py:510: UserWarning: Casting data from int16 to float32\n",
      "  warnings.warn(\"Casting data from %s to %s\" % (data.dtype.name, aux))\n"
     ]
    },
    {
     "name": "stdout",
     "output_type": "stream",
     "text": [
      "[NiftiLabelsMasker.transform_single_imgs] Extracting region signals\n",
      "[NiftiLabelsMasker.transform_single_imgs] Cleaning extracted signals\n",
      "______________________________________________filter_and_extract - 37.0s, 0.6min\n",
      "[[1.         0.10010622 0.09968735 ... 0.07640529 0.09784086 0.01982435]\n",
      " [0.10010622 1.         0.10079072 ... 0.08681495 0.09379558 0.02247511]\n",
      " [0.09968735 0.10079072 1.         ... 0.08762358 0.09208082 0.01948224]\n",
      " ...\n",
      " [0.07640529 0.08681495 0.08762358 ... 1.         0.06042456 0.03015904]\n",
      " [0.09784086 0.09379558 0.09208082 ... 0.06042456 1.         0.01821365]\n",
      " [0.01982435 0.02247511 0.01948224 ... 0.03015904 0.01821365 1.        ]] (1, -1)\n",
      "(48, 48)\n",
      "processed: 17\n",
      "rest\n",
      "[NiftiLabelsMasker.fit_transform] loading data from C:\\Users\\June Cai/nilearn_data\\fsl\\data\\atlases\\HarvardOxford\\HarvardOxford-cort-maxprob-thr25-2mm.nii.gz\n",
      "________________________________________________________________________________\n",
      "[Memory] Calling nilearn.input_data.base_masker.filter_and_extract...\n",
      "filter_and_extract('F:\\\\ece\\\\capstone\\\\code\\\\py\\\\data\\\\abide\\\\traindata\\\\29193_3_rest_1.nii.gz', <nilearn.input_data.nifti_labels_masker._ExtractionFunctor object at 0x00000293736FF908>, \n",
      "{ 'background_label': 0,\n",
      "  'detrend': False,\n",
      "  'dtype': None,\n",
      "  'high_pass': None,\n",
      "  'labels_img': 'C:\\\\Users\\\\June '\n",
      "                'Cai/nilearn_data\\\\fsl\\\\data\\\\atlases\\\\HarvardOxford\\\\HarvardOxford-cort-maxprob-thr25-2mm.nii.gz',\n",
      "  'low_pass': None,\n",
      "  'mask_img': None,\n",
      "  'smoothing_fwhm': None,\n",
      "  'standardize': True,\n",
      "  't_r': None,\n",
      "  'target_affine': array([[  -2.,    0.,    0.,   90.],\n",
      "       [   0.,    2.,    0., -126.],\n",
      "       [   0.,    0.,    2.,  -72.],\n",
      "       [   0.,    0.,    0.,    1.]]),\n",
      "  'target_shape': (91, 109, 91)}, memory=Memory(location=nilearn_cache\\joblib), confounds=None, dtype=None, verbose=5, memory_level=1)\n",
      "[NiftiLabelsMasker.transform_single_imgs] Loading data from F:\\ece\\capstone\\code\\py\\data\\abide\\traindata\\29193_3_rest_1.nii.gz\n"
     ]
    },
    {
     "name": "stderr",
     "output_type": "stream",
     "text": [
      "C:\\Users\\June Cai\\AppData\\Roaming\\Python\\Python35\\site-packages\\nilearn\\_utils\\cache_mixin.py:232: DeprecationWarning: The 'cachedir' attribute has been deprecated in version 0.12 and will be removed in version 0.14.\n",
      "Use os.path.join(memory.location, 'joblib') attribute instead.\n",
      "  if (memory.cachedir is None and memory_level is not None\n"
     ]
    },
    {
     "name": "stdout",
     "output_type": "stream",
     "text": [
      "[NiftiLabelsMasker.transform_single_imgs] Resampling images\n"
     ]
    },
    {
     "name": "stderr",
     "output_type": "stream",
     "text": [
      "C:\\Users\\June Cai\\AppData\\Roaming\\Python\\Python35\\site-packages\\nilearn\\image\\resampling.py:510: UserWarning: Casting data from int16 to float32\n",
      "  warnings.warn(\"Casting data from %s to %s\" % (data.dtype.name, aux))\n"
     ]
    },
    {
     "name": "stdout",
     "output_type": "stream",
     "text": [
      "[NiftiLabelsMasker.transform_single_imgs] Extracting region signals\n",
      "[NiftiLabelsMasker.transform_single_imgs] Cleaning extracted signals\n",
      "______________________________________________filter_and_extract - 32.2s, 0.5min\n",
      "[[1.         0.09205828 0.10285824 ... 0.05927834 0.06589346 0.0263333 ]\n",
      " [0.09205828 1.         0.08497719 ... 0.05284124 0.04424727 0.02428733]\n",
      " [0.10285824 0.08497719 1.         ... 0.06094219 0.0712973  0.02468058]\n",
      " ...\n",
      " [0.05927834 0.05284124 0.06094219 ... 1.         0.0599257  0.01017918]\n",
      " [0.06589346 0.04424727 0.0712973  ... 0.0599257  1.         0.0109969 ]\n",
      " [0.0263333  0.02428733 0.02468058 ... 0.01017918 0.0109969  1.        ]] (1, -1)\n",
      "(48, 48)\n",
      "processed: 18\n",
      "rest\n",
      "[NiftiLabelsMasker.fit_transform] loading data from C:\\Users\\June Cai/nilearn_data\\fsl\\data\\atlases\\HarvardOxford\\HarvardOxford-cort-maxprob-thr25-2mm.nii.gz\n",
      "________________________________________________________________________________\n",
      "[Memory] Calling nilearn.input_data.base_masker.filter_and_extract...\n",
      "filter_and_extract('F:\\\\ece\\\\capstone\\\\code\\\\py\\\\data\\\\abide\\\\traindata\\\\29194_3_rest_1.nii.gz', <nilearn.input_data.nifti_labels_masker._ExtractionFunctor object at 0x0000029304950668>, \n",
      "{ 'background_label': 0,\n",
      "  'detrend': False,\n",
      "  'dtype': None,\n",
      "  'high_pass': None,\n",
      "  'labels_img': 'C:\\\\Users\\\\June '\n",
      "                'Cai/nilearn_data\\\\fsl\\\\data\\\\atlases\\\\HarvardOxford\\\\HarvardOxford-cort-maxprob-thr25-2mm.nii.gz',\n",
      "  'low_pass': None,\n",
      "  'mask_img': None,\n",
      "  'smoothing_fwhm': None,\n",
      "  'standardize': True,\n",
      "  't_r': None,\n",
      "  'target_affine': array([[  -2.,    0.,    0.,   90.],\n",
      "       [   0.,    2.,    0., -126.],\n",
      "       [   0.,    0.,    2.,  -72.],\n",
      "       [   0.,    0.,    0.,    1.]]),\n",
      "  'target_shape': (91, 109, 91)}, memory=Memory(location=nilearn_cache\\joblib), confounds=None, dtype=None, verbose=5, memory_level=1)\n",
      "[NiftiLabelsMasker.transform_single_imgs] Loading data from F:\\ece\\capstone\\code\\py\\data\\abide\\traindata\\29194_3_rest_1.nii.gz\n"
     ]
    },
    {
     "name": "stderr",
     "output_type": "stream",
     "text": [
      "C:\\Users\\June Cai\\AppData\\Roaming\\Python\\Python35\\site-packages\\nilearn\\_utils\\cache_mixin.py:232: DeprecationWarning: The 'cachedir' attribute has been deprecated in version 0.12 and will be removed in version 0.14.\n",
      "Use os.path.join(memory.location, 'joblib') attribute instead.\n",
      "  if (memory.cachedir is None and memory_level is not None\n"
     ]
    },
    {
     "name": "stdout",
     "output_type": "stream",
     "text": [
      "[NiftiLabelsMasker.transform_single_imgs] Resampling images\n"
     ]
    },
    {
     "name": "stderr",
     "output_type": "stream",
     "text": [
      "C:\\Users\\June Cai\\AppData\\Roaming\\Python\\Python35\\site-packages\\nilearn\\image\\resampling.py:510: UserWarning: Casting data from int16 to float32\n",
      "  warnings.warn(\"Casting data from %s to %s\" % (data.dtype.name, aux))\n"
     ]
    },
    {
     "name": "stdout",
     "output_type": "stream",
     "text": [
      "[NiftiLabelsMasker.transform_single_imgs] Extracting region signals\n",
      "[NiftiLabelsMasker.transform_single_imgs] Cleaning extracted signals\n",
      "______________________________________________filter_and_extract - 31.5s, 0.5min\n",
      "[[1.         0.05988771 0.07682537 ... 0.06772754 0.03754478 0.02476909]\n",
      " [0.05988771 1.         0.05975283 ... 0.04540779 0.02226852 0.02023925]\n",
      " [0.07682537 0.05975283 1.         ... 0.07289826 0.03454013 0.02439545]\n",
      " ...\n",
      " [0.06772754 0.04540779 0.07289826 ... 1.         0.02888797 0.02129374]\n",
      " [0.03754478 0.02226852 0.03454013 ... 0.02888797 1.         0.01627503]\n",
      " [0.02476909 0.02023925 0.02439545 ... 0.02129374 0.01627503 1.        ]] (1, -1)\n",
      "(48, 48)\n",
      "processed: 19\n",
      "rest\n",
      "[NiftiLabelsMasker.fit_transform] loading data from C:\\Users\\June Cai/nilearn_data\\fsl\\data\\atlases\\HarvardOxford\\HarvardOxford-cort-maxprob-thr25-2mm.nii.gz\n",
      "________________________________________________________________________________\n",
      "[Memory] Calling nilearn.input_data.base_masker.filter_and_extract...\n",
      "filter_and_extract('F:\\\\ece\\\\capstone\\\\code\\\\py\\\\data\\\\abide\\\\traindata\\\\29195_3_rest_1.nii.gz', <nilearn.input_data.nifti_labels_masker._ExtractionFunctor object at 0x00000293049508D0>, \n",
      "{ 'background_label': 0,\n",
      "  'detrend': False,\n",
      "  'dtype': None,\n",
      "  'high_pass': None,\n",
      "  'labels_img': 'C:\\\\Users\\\\June '\n",
      "                'Cai/nilearn_data\\\\fsl\\\\data\\\\atlases\\\\HarvardOxford\\\\HarvardOxford-cort-maxprob-thr25-2mm.nii.gz',\n",
      "  'low_pass': None,\n",
      "  'mask_img': None,\n",
      "  'smoothing_fwhm': None,\n",
      "  'standardize': True,\n",
      "  't_r': None,\n",
      "  'target_affine': array([[  -2.,    0.,    0.,   90.],\n",
      "       [   0.,    2.,    0., -126.],\n",
      "       [   0.,    0.,    2.,  -72.],\n",
      "       [   0.,    0.,    0.,    1.]]),\n",
      "  'target_shape': (91, 109, 91)}, memory=Memory(location=nilearn_cache\\joblib), confounds=None, dtype=None, verbose=5, memory_level=1)\n",
      "[NiftiLabelsMasker.transform_single_imgs] Loading data from F:\\ece\\capstone\\code\\py\\data\\abide\\traindata\\29195_3_rest_1.nii.gz\n"
     ]
    },
    {
     "name": "stderr",
     "output_type": "stream",
     "text": [
      "C:\\Users\\June Cai\\AppData\\Roaming\\Python\\Python35\\site-packages\\nilearn\\_utils\\cache_mixin.py:232: DeprecationWarning: The 'cachedir' attribute has been deprecated in version 0.12 and will be removed in version 0.14.\n",
      "Use os.path.join(memory.location, 'joblib') attribute instead.\n",
      "  if (memory.cachedir is None and memory_level is not None\n"
     ]
    },
    {
     "name": "stdout",
     "output_type": "stream",
     "text": [
      "[NiftiLabelsMasker.transform_single_imgs] Resampling images\n"
     ]
    },
    {
     "name": "stderr",
     "output_type": "stream",
     "text": [
      "C:\\Users\\June Cai\\AppData\\Roaming\\Python\\Python35\\site-packages\\nilearn\\image\\resampling.py:510: UserWarning: Casting data from int16 to float32\n",
      "  warnings.warn(\"Casting data from %s to %s\" % (data.dtype.name, aux))\n"
     ]
    },
    {
     "name": "stdout",
     "output_type": "stream",
     "text": [
      "[NiftiLabelsMasker.transform_single_imgs] Extracting region signals\n",
      "[NiftiLabelsMasker.transform_single_imgs] Cleaning extracted signals\n",
      "______________________________________________filter_and_extract - 35.4s, 0.6min\n",
      "[[1.         0.11549914 0.11786076 ... 0.1095755  0.10223205 0.02331025]\n",
      " [0.11549914 1.         0.11577369 ... 0.10472595 0.10917296 0.02643151]\n",
      " [0.11786076 0.11577369 1.         ... 0.10760114 0.10549508 0.02274826]\n",
      " ...\n",
      " [0.1095755  0.10472595 0.10760113 ... 1.         0.08022476 0.02230565]\n",
      " [0.10223205 0.10917296 0.10549508 ... 0.08022476 1.         0.02384199]\n",
      " [0.02331025 0.02643151 0.02274826 ... 0.02230565 0.02384199 1.        ]] (1, -1)\n",
      "(48, 48)\n",
      "processed: 20\n",
      "rest\n",
      "[NiftiLabelsMasker.fit_transform] loading data from C:\\Users\\June Cai/nilearn_data\\fsl\\data\\atlases\\HarvardOxford\\HarvardOxford-cort-maxprob-thr25-2mm.nii.gz\n",
      "________________________________________________________________________________\n",
      "[Memory] Calling nilearn.input_data.base_masker.filter_and_extract...\n",
      "filter_and_extract('F:\\\\ece\\\\capstone\\\\code\\\\py\\\\data\\\\abide\\\\traindata\\\\29196_3_rest_1.nii.gz', <nilearn.input_data.nifti_labels_masker._ExtractionFunctor object at 0x00000293022C38D0>, \n",
      "{ 'background_label': 0,\n",
      "  'detrend': False,\n",
      "  'dtype': None,\n",
      "  'high_pass': None,\n",
      "  'labels_img': 'C:\\\\Users\\\\June '\n",
      "                'Cai/nilearn_data\\\\fsl\\\\data\\\\atlases\\\\HarvardOxford\\\\HarvardOxford-cort-maxprob-thr25-2mm.nii.gz',\n",
      "  'low_pass': None,\n",
      "  'mask_img': None,\n",
      "  'smoothing_fwhm': None,\n",
      "  'standardize': True,\n",
      "  't_r': None,\n",
      "  'target_affine': array([[  -2.,    0.,    0.,   90.],\n",
      "       [   0.,    2.,    0., -126.],\n",
      "       [   0.,    0.,    2.,  -72.],\n",
      "       [   0.,    0.,    0.,    1.]]),\n",
      "  'target_shape': (91, 109, 91)}, memory=Memory(location=nilearn_cache\\joblib), confounds=None, dtype=None, verbose=5, memory_level=1)\n",
      "[NiftiLabelsMasker.transform_single_imgs] Loading data from F:\\ece\\capstone\\code\\py\\data\\abide\\traindata\\29196_3_rest_1.nii.gz\n"
     ]
    },
    {
     "name": "stderr",
     "output_type": "stream",
     "text": [
      "C:\\Users\\June Cai\\AppData\\Roaming\\Python\\Python35\\site-packages\\nilearn\\_utils\\cache_mixin.py:232: DeprecationWarning: The 'cachedir' attribute has been deprecated in version 0.12 and will be removed in version 0.14.\n",
      "Use os.path.join(memory.location, 'joblib') attribute instead.\n",
      "  if (memory.cachedir is None and memory_level is not None\n"
     ]
    },
    {
     "name": "stdout",
     "output_type": "stream",
     "text": [
      "[NiftiLabelsMasker.transform_single_imgs] Resampling images\n"
     ]
    },
    {
     "name": "stderr",
     "output_type": "stream",
     "text": [
      "C:\\Users\\June Cai\\AppData\\Roaming\\Python\\Python35\\site-packages\\nilearn\\image\\resampling.py:510: UserWarning: Casting data from int16 to float32\n",
      "  warnings.warn(\"Casting data from %s to %s\" % (data.dtype.name, aux))\n"
     ]
    },
    {
     "name": "stdout",
     "output_type": "stream",
     "text": [
      "[NiftiLabelsMasker.transform_single_imgs] Extracting region signals\n",
      "[NiftiLabelsMasker.transform_single_imgs] Cleaning extracted signals\n",
      "______________________________________________filter_and_extract - 32.6s, 0.5min\n",
      "[[1.         0.06370964 0.06720135 ... 0.04739166 0.06170235 0.02591003]\n",
      " [0.06370964 1.         0.06421394 ... 0.04506839 0.05657462 0.02653732]\n",
      " [0.06720135 0.06421394 1.         ... 0.04717236 0.06157139 0.02583857]\n",
      " ...\n",
      " [0.04739166 0.04506839 0.04717236 ... 1.         0.0444159  0.01903642]\n",
      " [0.06170235 0.05657462 0.06157139 ... 0.0444159  1.         0.02216966]\n",
      " [0.02591003 0.02653732 0.02583857 ... 0.01903642 0.02216966 1.        ]] (1, -1)\n",
      "(48, 48)\n",
      "processed: 21\n",
      "rest\n",
      "[NiftiLabelsMasker.fit_transform] loading data from C:\\Users\\June Cai/nilearn_data\\fsl\\data\\atlases\\HarvardOxford\\HarvardOxford-cort-maxprob-thr25-2mm.nii.gz\n",
      "________________________________________________________________________________\n",
      "[Memory] Calling nilearn.input_data.base_masker.filter_and_extract...\n",
      "filter_and_extract('F:\\\\ece\\\\capstone\\\\code\\\\py\\\\data\\\\abide\\\\traindata\\\\29197_3_rest_1.nii.gz', <nilearn.input_data.nifti_labels_masker._ExtractionFunctor object at 0x0000029304957128>, \n",
      "{ 'background_label': 0,\n",
      "  'detrend': False,\n",
      "  'dtype': None,\n",
      "  'high_pass': None,\n",
      "  'labels_img': 'C:\\\\Users\\\\June '\n",
      "                'Cai/nilearn_data\\\\fsl\\\\data\\\\atlases\\\\HarvardOxford\\\\HarvardOxford-cort-maxprob-thr25-2mm.nii.gz',\n",
      "  'low_pass': None,\n",
      "  'mask_img': None,\n",
      "  'smoothing_fwhm': None,\n",
      "  'standardize': True,\n",
      "  't_r': None,\n",
      "  'target_affine': array([[  -2.,    0.,    0.,   90.],\n",
      "       [   0.,    2.,    0., -126.],\n",
      "       [   0.,    0.,    2.,  -72.],\n",
      "       [   0.,    0.,    0.,    1.]]),\n",
      "  'target_shape': (91, 109, 91)}, memory=Memory(location=nilearn_cache\\joblib), confounds=None, dtype=None, verbose=5, memory_level=1)\n",
      "[NiftiLabelsMasker.transform_single_imgs] Loading data from F:\\ece\\capstone\\code\\py\\data\\abide\\traindata\\29197_3_rest_1.nii.gz\n"
     ]
    },
    {
     "name": "stderr",
     "output_type": "stream",
     "text": [
      "C:\\Users\\June Cai\\AppData\\Roaming\\Python\\Python35\\site-packages\\nilearn\\_utils\\cache_mixin.py:232: DeprecationWarning: The 'cachedir' attribute has been deprecated in version 0.12 and will be removed in version 0.14.\n",
      "Use os.path.join(memory.location, 'joblib') attribute instead.\n",
      "  if (memory.cachedir is None and memory_level is not None\n"
     ]
    },
    {
     "name": "stdout",
     "output_type": "stream",
     "text": [
      "[NiftiLabelsMasker.transform_single_imgs] Resampling images\n"
     ]
    },
    {
     "name": "stderr",
     "output_type": "stream",
     "text": [
      "C:\\Users\\June Cai\\AppData\\Roaming\\Python\\Python35\\site-packages\\nilearn\\image\\resampling.py:510: UserWarning: Casting data from int16 to float32\n",
      "  warnings.warn(\"Casting data from %s to %s\" % (data.dtype.name, aux))\n"
     ]
    },
    {
     "name": "stdout",
     "output_type": "stream",
     "text": [
      "[NiftiLabelsMasker.transform_single_imgs] Extracting region signals\n",
      "[NiftiLabelsMasker.transform_single_imgs] Cleaning extracted signals\n",
      "______________________________________________filter_and_extract - 33.5s, 0.6min\n",
      "[[1.         0.17928682 0.2208213  ... 0.14884926 0.11917689 0.07380435]\n",
      " [0.17928682 1.         0.14372958 ... 0.16055645 0.20600596 0.05468412]\n",
      " [0.2208213  0.14372958 1.         ... 0.1391686  0.07672124 0.06680834]\n",
      " ...\n",
      " [0.14884926 0.16055645 0.13916859 ... 1.         0.14219217 0.03932462]\n",
      " [0.11917689 0.20600596 0.07672124 ... 0.14219217 1.         0.04368227]\n",
      " [0.07380434 0.05468412 0.06680834 ... 0.03932462 0.04368227 1.        ]] (1, -1)\n",
      "(48, 48)\n",
      "processed: 22\n",
      "rest\n",
      "[NiftiLabelsMasker.fit_transform] loading data from C:\\Users\\June Cai/nilearn_data\\fsl\\data\\atlases\\HarvardOxford\\HarvardOxford-cort-maxprob-thr25-2mm.nii.gz\n",
      "________________________________________________________________________________\n",
      "[Memory] Calling nilearn.input_data.base_masker.filter_and_extract...\n",
      "filter_and_extract('F:\\\\ece\\\\capstone\\\\code\\\\py\\\\data\\\\abide\\\\traindata\\\\29198_3_rest_1.nii.gz', <nilearn.input_data.nifti_labels_masker._ExtractionFunctor object at 0x00000293736FFBE0>, \n",
      "{ 'background_label': 0,\n",
      "  'detrend': False,\n",
      "  'dtype': None,\n",
      "  'high_pass': None,\n",
      "  'labels_img': 'C:\\\\Users\\\\June '\n",
      "                'Cai/nilearn_data\\\\fsl\\\\data\\\\atlases\\\\HarvardOxford\\\\HarvardOxford-cort-maxprob-thr25-2mm.nii.gz',\n",
      "  'low_pass': None,\n",
      "  'mask_img': None,\n",
      "  'smoothing_fwhm': None,\n",
      "  'standardize': True,\n",
      "  't_r': None,\n",
      "  'target_affine': array([[  -2.,    0.,    0.,   90.],\n",
      "       [   0.,    2.,    0., -126.],\n",
      "       [   0.,    0.,    2.,  -72.],\n",
      "       [   0.,    0.,    0.,    1.]]),\n",
      "  'target_shape': (91, 109, 91)}, memory=Memory(location=nilearn_cache\\joblib), confounds=None, dtype=None, verbose=5, memory_level=1)\n",
      "[NiftiLabelsMasker.transform_single_imgs] Loading data from F:\\ece\\capstone\\code\\py\\data\\abide\\traindata\\29198_3_rest_1.nii.gz\n"
     ]
    },
    {
     "name": "stderr",
     "output_type": "stream",
     "text": [
      "C:\\Users\\June Cai\\AppData\\Roaming\\Python\\Python35\\site-packages\\nilearn\\_utils\\cache_mixin.py:232: DeprecationWarning: The 'cachedir' attribute has been deprecated in version 0.12 and will be removed in version 0.14.\n",
      "Use os.path.join(memory.location, 'joblib') attribute instead.\n",
      "  if (memory.cachedir is None and memory_level is not None\n"
     ]
    },
    {
     "name": "stdout",
     "output_type": "stream",
     "text": [
      "[NiftiLabelsMasker.transform_single_imgs] Resampling images\n"
     ]
    },
    {
     "name": "stderr",
     "output_type": "stream",
     "text": [
      "C:\\Users\\June Cai\\AppData\\Roaming\\Python\\Python35\\site-packages\\nilearn\\image\\resampling.py:510: UserWarning: Casting data from int16 to float32\n",
      "  warnings.warn(\"Casting data from %s to %s\" % (data.dtype.name, aux))\n"
     ]
    },
    {
     "name": "stdout",
     "output_type": "stream",
     "text": [
      "[NiftiLabelsMasker.transform_single_imgs] Extracting region signals\n",
      "[NiftiLabelsMasker.transform_single_imgs] Cleaning extracted signals\n",
      "______________________________________________filter_and_extract - 34.3s, 0.6min\n",
      "[[1.         0.04915928 0.04947679 ... 0.04796647 0.04693422 0.03512149]\n",
      " [0.04915928 1.         0.05162457 ... 0.04907428 0.05009452 0.036473  ]\n",
      " [0.04947679 0.05162457 1.         ... 0.04978411 0.05010961 0.03694992]\n",
      " ...\n",
      " [0.04796647 0.04907428 0.04978411 ... 1.         0.04682921 0.03682775]\n",
      " [0.04693422 0.05009452 0.05010961 ... 0.04682921 1.         0.03470609]\n",
      " [0.03512149 0.036473   0.03694992 ... 0.03682775 0.03470609 1.        ]] (1, -1)\n",
      "(48, 48)\n",
      "processed: 23\n",
      "rest\n",
      "[NiftiLabelsMasker.fit_transform] loading data from C:\\Users\\June Cai/nilearn_data\\fsl\\data\\atlases\\HarvardOxford\\HarvardOxford-cort-maxprob-thr25-2mm.nii.gz\n",
      "________________________________________________________________________________\n",
      "[Memory] Calling nilearn.input_data.base_masker.filter_and_extract...\n",
      "filter_and_extract('F:\\\\ece\\\\capstone\\\\code\\\\py\\\\data\\\\abide\\\\traindata\\\\29199_3_rest_1.nii.gz', <nilearn.input_data.nifti_labels_masker._ExtractionFunctor object at 0x00000293048BCF98>, \n",
      "{ 'background_label': 0,\n",
      "  'detrend': False,\n",
      "  'dtype': None,\n",
      "  'high_pass': None,\n",
      "  'labels_img': 'C:\\\\Users\\\\June '\n",
      "                'Cai/nilearn_data\\\\fsl\\\\data\\\\atlases\\\\HarvardOxford\\\\HarvardOxford-cort-maxprob-thr25-2mm.nii.gz',\n",
      "  'low_pass': None,\n",
      "  'mask_img': None,\n",
      "  'smoothing_fwhm': None,\n",
      "  'standardize': True,\n",
      "  't_r': None,\n",
      "  'target_affine': array([[  -2.,    0.,    0.,   90.],\n",
      "       [   0.,    2.,    0., -126.],\n",
      "       [   0.,    0.,    2.,  -72.],\n",
      "       [   0.,    0.,    0.,    1.]]),\n",
      "  'target_shape': (91, 109, 91)}, memory=Memory(location=nilearn_cache\\joblib), confounds=None, dtype=None, verbose=5, memory_level=1)\n",
      "[NiftiLabelsMasker.transform_single_imgs] Loading data from F:\\ece\\capstone\\code\\py\\data\\abide\\traindata\\29199_3_rest_1.nii.gz\n"
     ]
    },
    {
     "name": "stderr",
     "output_type": "stream",
     "text": [
      "C:\\Users\\June Cai\\AppData\\Roaming\\Python\\Python35\\site-packages\\nilearn\\_utils\\cache_mixin.py:232: DeprecationWarning: The 'cachedir' attribute has been deprecated in version 0.12 and will be removed in version 0.14.\n",
      "Use os.path.join(memory.location, 'joblib') attribute instead.\n",
      "  if (memory.cachedir is None and memory_level is not None\n"
     ]
    },
    {
     "name": "stdout",
     "output_type": "stream",
     "text": [
      "[NiftiLabelsMasker.transform_single_imgs] Resampling images\n"
     ]
    },
    {
     "name": "stderr",
     "output_type": "stream",
     "text": [
      "C:\\Users\\June Cai\\AppData\\Roaming\\Python\\Python35\\site-packages\\nilearn\\image\\resampling.py:510: UserWarning: Casting data from int16 to float32\n",
      "  warnings.warn(\"Casting data from %s to %s\" % (data.dtype.name, aux))\n"
     ]
    },
    {
     "name": "stdout",
     "output_type": "stream",
     "text": [
      "[NiftiLabelsMasker.transform_single_imgs] Extracting region signals\n",
      "[NiftiLabelsMasker.transform_single_imgs] Cleaning extracted signals\n",
      "______________________________________________filter_and_extract - 38.1s, 0.6min\n",
      "[[ 1.          0.10729135  0.10068915 ...  0.08922723  0.0763917\n",
      "   0.01720254]\n",
      " [ 0.10729135  1.          0.1015553  ...  0.09184363  0.07172091\n",
      "   0.02326583]\n",
      " [ 0.10068915  0.1015553   1.         ...  0.10228654  0.0485842\n",
      "   0.02836428]\n",
      " ...\n",
      " [ 0.08922723  0.09184363  0.10228654 ...  1.          0.03983272\n",
      "   0.03068758]\n",
      " [ 0.0763917   0.07172091  0.0485842  ...  0.03983272  1.\n",
      "  -0.00457489]\n",
      " [ 0.01720254  0.02326583  0.02836428 ...  0.03068758 -0.00457489\n",
      "   1.        ]] (1, -1)\n",
      "(48, 48)\n",
      "processed: 24\n",
      "rest\n",
      "[NiftiLabelsMasker.fit_transform] loading data from C:\\Users\\June Cai/nilearn_data\\fsl\\data\\atlases\\HarvardOxford\\HarvardOxford-cort-maxprob-thr25-2mm.nii.gz\n",
      "________________________________________________________________________________\n",
      "[Memory] Calling nilearn.input_data.base_masker.filter_and_extract...\n",
      "filter_and_extract('F:\\\\ece\\\\capstone\\\\code\\\\py\\\\data\\\\abide\\\\traindata\\\\29200_3_rest_1.nii.gz', <nilearn.input_data.nifti_labels_masker._ExtractionFunctor object at 0x000002930474C7B8>, \n",
      "{ 'background_label': 0,\n",
      "  'detrend': False,\n",
      "  'dtype': None,\n",
      "  'high_pass': None,\n",
      "  'labels_img': 'C:\\\\Users\\\\June '\n",
      "                'Cai/nilearn_data\\\\fsl\\\\data\\\\atlases\\\\HarvardOxford\\\\HarvardOxford-cort-maxprob-thr25-2mm.nii.gz',\n",
      "  'low_pass': None,\n",
      "  'mask_img': None,\n",
      "  'smoothing_fwhm': None,\n",
      "  'standardize': True,\n",
      "  't_r': None,\n",
      "  'target_affine': array([[  -2.,    0.,    0.,   90.],\n",
      "       [   0.,    2.,    0., -126.],\n",
      "       [   0.,    0.,    2.,  -72.],\n",
      "       [   0.,    0.,    0.,    1.]]),\n",
      "  'target_shape': (91, 109, 91)}, memory=Memory(location=nilearn_cache\\joblib), confounds=None, dtype=None, verbose=5, memory_level=1)\n",
      "[NiftiLabelsMasker.transform_single_imgs] Loading data from F:\\ece\\capstone\\code\\py\\data\\abide\\traindata\\29200_3_rest_1.nii.gz\n"
     ]
    },
    {
     "name": "stderr",
     "output_type": "stream",
     "text": [
      "C:\\Users\\June Cai\\AppData\\Roaming\\Python\\Python35\\site-packages\\nilearn\\_utils\\cache_mixin.py:232: DeprecationWarning: The 'cachedir' attribute has been deprecated in version 0.12 and will be removed in version 0.14.\n",
      "Use os.path.join(memory.location, 'joblib') attribute instead.\n",
      "  if (memory.cachedir is None and memory_level is not None\n"
     ]
    },
    {
     "name": "stdout",
     "output_type": "stream",
     "text": [
      "[NiftiLabelsMasker.transform_single_imgs] Resampling images\n"
     ]
    },
    {
     "name": "stderr",
     "output_type": "stream",
     "text": [
      "C:\\Users\\June Cai\\AppData\\Roaming\\Python\\Python35\\site-packages\\nilearn\\image\\resampling.py:510: UserWarning: Casting data from int16 to float32\n",
      "  warnings.warn(\"Casting data from %s to %s\" % (data.dtype.name, aux))\n"
     ]
    },
    {
     "name": "stdout",
     "output_type": "stream",
     "text": [
      "[NiftiLabelsMasker.transform_single_imgs] Extracting region signals\n",
      "[NiftiLabelsMasker.transform_single_imgs] Cleaning extracted signals\n",
      "______________________________________________filter_and_extract - 37.0s, 0.6min\n",
      "[[1.         0.24198541 0.28084797 ... 0.18289183 0.28509575 0.1524495 ]\n",
      " [0.24198541 1.         0.23400623 ... 0.13746458 0.23410594 0.25621772]\n",
      " [0.280848   0.23400621 1.         ... 0.2206278  0.28608304 0.1361296 ]\n",
      " ...\n",
      " [0.18289183 0.13746458 0.22062778 ... 1.         0.19696264 0.05510791]\n",
      " [0.28509572 0.23410593 0.286083   ... 0.19696264 1.         0.1400217 ]\n",
      " [0.1524495  0.25621772 0.13612959 ... 0.05510791 0.14002168 1.        ]] (1, -1)\n",
      "(48, 48)\n",
      "processed: 25\n",
      "rest\n",
      "[NiftiLabelsMasker.fit_transform] loading data from C:\\Users\\June Cai/nilearn_data\\fsl\\data\\atlases\\HarvardOxford\\HarvardOxford-cort-maxprob-thr25-2mm.nii.gz\n",
      "________________________________________________________________________________\n",
      "[Memory] Calling nilearn.input_data.base_masker.filter_and_extract...\n",
      "filter_and_extract('F:\\\\ece\\\\capstone\\\\code\\\\py\\\\data\\\\abide\\\\traindata\\\\29201_3_rest_1.nii.gz', <nilearn.input_data.nifti_labels_masker._ExtractionFunctor object at 0x00000293736FA278>, \n",
      "{ 'background_label': 0,\n",
      "  'detrend': False,\n",
      "  'dtype': None,\n",
      "  'high_pass': None,\n",
      "  'labels_img': 'C:\\\\Users\\\\June '\n",
      "                'Cai/nilearn_data\\\\fsl\\\\data\\\\atlases\\\\HarvardOxford\\\\HarvardOxford-cort-maxprob-thr25-2mm.nii.gz',\n",
      "  'low_pass': None,\n",
      "  'mask_img': None,\n",
      "  'smoothing_fwhm': None,\n",
      "  'standardize': True,\n",
      "  't_r': None,\n",
      "  'target_affine': array([[  -2.,    0.,    0.,   90.],\n",
      "       [   0.,    2.,    0., -126.],\n",
      "       [   0.,    0.,    2.,  -72.],\n",
      "       [   0.,    0.,    0.,    1.]]),\n",
      "  'target_shape': (91, 109, 91)}, memory=Memory(location=nilearn_cache\\joblib), confounds=None, dtype=None, verbose=5, memory_level=1)\n",
      "[NiftiLabelsMasker.transform_single_imgs] Loading data from F:\\ece\\capstone\\code\\py\\data\\abide\\traindata\\29201_3_rest_1.nii.gz\n"
     ]
    },
    {
     "name": "stderr",
     "output_type": "stream",
     "text": [
      "C:\\Users\\June Cai\\AppData\\Roaming\\Python\\Python35\\site-packages\\nilearn\\_utils\\cache_mixin.py:232: DeprecationWarning: The 'cachedir' attribute has been deprecated in version 0.12 and will be removed in version 0.14.\n",
      "Use os.path.join(memory.location, 'joblib') attribute instead.\n",
      "  if (memory.cachedir is None and memory_level is not None\n"
     ]
    },
    {
     "name": "stdout",
     "output_type": "stream",
     "text": [
      "[NiftiLabelsMasker.transform_single_imgs] Resampling images\n"
     ]
    },
    {
     "name": "stderr",
     "output_type": "stream",
     "text": [
      "C:\\Users\\June Cai\\AppData\\Roaming\\Python\\Python35\\site-packages\\nilearn\\image\\resampling.py:510: UserWarning: Casting data from int16 to float32\n",
      "  warnings.warn(\"Casting data from %s to %s\" % (data.dtype.name, aux))\n"
     ]
    },
    {
     "name": "stdout",
     "output_type": "stream",
     "text": [
      "[NiftiLabelsMasker.transform_single_imgs] Extracting region signals\n",
      "[NiftiLabelsMasker.transform_single_imgs] Cleaning extracted signals\n",
      "______________________________________________filter_and_extract - 38.9s, 0.6min\n",
      "[[1.         0.35902202 0.34987208 ... 0.35660243 0.2781101  0.1026934 ]\n",
      " [0.35902202 1.         0.3677599  ... 0.35991612 0.28139216 0.06134564]\n",
      " [0.34987208 0.3677599  1.         ... 0.34640524 0.29135266 0.05973171]\n",
      " ...\n",
      " [0.35660243 0.35991612 0.34640524 ... 1.         0.24138185 0.06040218]\n",
      " [0.27811006 0.28139213 0.29135266 ... 0.24138185 1.         0.22178982]\n",
      " [0.10269341 0.06134564 0.05973171 ... 0.06040218 0.22178982 1.        ]] (1, -1)\n",
      "(48, 48)\n",
      "processed: 26\n",
      "rest\n",
      "[NiftiLabelsMasker.fit_transform] loading data from C:\\Users\\June Cai/nilearn_data\\fsl\\data\\atlases\\HarvardOxford\\HarvardOxford-cort-maxprob-thr25-2mm.nii.gz\n",
      "________________________________________________________________________________\n",
      "[Memory] Calling nilearn.input_data.base_masker.filter_and_extract...\n",
      "filter_and_extract('F:\\\\ece\\\\capstone\\\\code\\\\py\\\\data\\\\abide\\\\traindata\\\\29202_3_rest_1.nii.gz', <nilearn.input_data.nifti_labels_masker._ExtractionFunctor object at 0x00000293024E1D68>, \n",
      "{ 'background_label': 0,\n",
      "  'detrend': False,\n",
      "  'dtype': None,\n",
      "  'high_pass': None,\n",
      "  'labels_img': 'C:\\\\Users\\\\June '\n",
      "                'Cai/nilearn_data\\\\fsl\\\\data\\\\atlases\\\\HarvardOxford\\\\HarvardOxford-cort-maxprob-thr25-2mm.nii.gz',\n",
      "  'low_pass': None,\n",
      "  'mask_img': None,\n",
      "  'smoothing_fwhm': None,\n",
      "  'standardize': True,\n",
      "  't_r': None,\n",
      "  'target_affine': array([[  -2.,    0.,    0.,   90.],\n",
      "       [   0.,    2.,    0., -126.],\n",
      "       [   0.,    0.,    2.,  -72.],\n",
      "       [   0.,    0.,    0.,    1.]]),\n",
      "  'target_shape': (91, 109, 91)}, memory=Memory(location=nilearn_cache\\joblib), confounds=None, dtype=None, verbose=5, memory_level=1)\n",
      "[NiftiLabelsMasker.transform_single_imgs] Loading data from F:\\ece\\capstone\\code\\py\\data\\abide\\traindata\\29202_3_rest_1.nii.gz\n"
     ]
    },
    {
     "name": "stderr",
     "output_type": "stream",
     "text": [
      "C:\\Users\\June Cai\\AppData\\Roaming\\Python\\Python35\\site-packages\\nilearn\\_utils\\cache_mixin.py:232: DeprecationWarning: The 'cachedir' attribute has been deprecated in version 0.12 and will be removed in version 0.14.\n",
      "Use os.path.join(memory.location, 'joblib') attribute instead.\n",
      "  if (memory.cachedir is None and memory_level is not None\n"
     ]
    },
    {
     "name": "stdout",
     "output_type": "stream",
     "text": [
      "[NiftiLabelsMasker.transform_single_imgs] Resampling images\n"
     ]
    },
    {
     "name": "stderr",
     "output_type": "stream",
     "text": [
      "C:\\Users\\June Cai\\AppData\\Roaming\\Python\\Python35\\site-packages\\nilearn\\image\\resampling.py:510: UserWarning: Casting data from int16 to float32\n",
      "  warnings.warn(\"Casting data from %s to %s\" % (data.dtype.name, aux))\n"
     ]
    },
    {
     "name": "stdout",
     "output_type": "stream",
     "text": [
      "[NiftiLabelsMasker.transform_single_imgs] Extracting region signals\n",
      "[NiftiLabelsMasker.transform_single_imgs] Cleaning extracted signals\n",
      "______________________________________________filter_and_extract - 34.8s, 0.6min\n",
      "[[1.         0.14187995 0.14229564 ... 0.09575062 0.12698291 0.07402799]\n",
      " [0.14187995 1.         0.13600017 ... 0.09074894 0.13240875 0.07436045]\n",
      " [0.14229564 0.13600017 1.         ... 0.11264747 0.12264512 0.07720699]\n",
      " ...\n",
      " [0.09575062 0.09074894 0.11264748 ... 1.         0.10095493 0.08208621]\n",
      " [0.12698291 0.13240875 0.12264512 ... 0.10095493 1.         0.08225012]\n",
      " [0.07402799 0.07436045 0.07720699 ... 0.08208621 0.08225012 1.        ]] (1, -1)\n",
      "(48, 48)\n",
      "processed: 27\n",
      "rest\n",
      "[NiftiLabelsMasker.fit_transform] loading data from C:\\Users\\June Cai/nilearn_data\\fsl\\data\\atlases\\HarvardOxford\\HarvardOxford-cort-maxprob-thr25-2mm.nii.gz\n",
      "________________________________________________________________________________\n",
      "[Memory] Calling nilearn.input_data.base_masker.filter_and_extract...\n",
      "filter_and_extract('F:\\\\ece\\\\capstone\\\\code\\\\py\\\\data\\\\abide\\\\traindata\\\\29203_3_rest_1.nii.gz', <nilearn.input_data.nifti_labels_masker._ExtractionFunctor object at 0x000002930474C7B8>, \n",
      "{ 'background_label': 0,\n",
      "  'detrend': False,\n",
      "  'dtype': None,\n",
      "  'high_pass': None,\n",
      "  'labels_img': 'C:\\\\Users\\\\June '\n",
      "                'Cai/nilearn_data\\\\fsl\\\\data\\\\atlases\\\\HarvardOxford\\\\HarvardOxford-cort-maxprob-thr25-2mm.nii.gz',\n",
      "  'low_pass': None,\n",
      "  'mask_img': None,\n",
      "  'smoothing_fwhm': None,\n",
      "  'standardize': True,\n",
      "  't_r': None,\n",
      "  'target_affine': array([[  -2.,    0.,    0.,   90.],\n",
      "       [   0.,    2.,    0., -126.],\n",
      "       [   0.,    0.,    2.,  -72.],\n",
      "       [   0.,    0.,    0.,    1.]]),\n",
      "  'target_shape': (91, 109, 91)}, memory=Memory(location=nilearn_cache\\joblib), confounds=None, dtype=None, verbose=5, memory_level=1)\n",
      "[NiftiLabelsMasker.transform_single_imgs] Loading data from F:\\ece\\capstone\\code\\py\\data\\abide\\traindata\\29203_3_rest_1.nii.gz\n"
     ]
    },
    {
     "name": "stderr",
     "output_type": "stream",
     "text": [
      "C:\\Users\\June Cai\\AppData\\Roaming\\Python\\Python35\\site-packages\\nilearn\\_utils\\cache_mixin.py:232: DeprecationWarning: The 'cachedir' attribute has been deprecated in version 0.12 and will be removed in version 0.14.\n",
      "Use os.path.join(memory.location, 'joblib') attribute instead.\n",
      "  if (memory.cachedir is None and memory_level is not None\n"
     ]
    },
    {
     "name": "stdout",
     "output_type": "stream",
     "text": [
      "[NiftiLabelsMasker.transform_single_imgs] Resampling images\n"
     ]
    },
    {
     "name": "stderr",
     "output_type": "stream",
     "text": [
      "C:\\Users\\June Cai\\AppData\\Roaming\\Python\\Python35\\site-packages\\nilearn\\image\\resampling.py:510: UserWarning: Casting data from int16 to float32\n",
      "  warnings.warn(\"Casting data from %s to %s\" % (data.dtype.name, aux))\n"
     ]
    },
    {
     "name": "stdout",
     "output_type": "stream",
     "text": [
      "[NiftiLabelsMasker.transform_single_imgs] Extracting region signals\n",
      "[NiftiLabelsMasker.transform_single_imgs] Cleaning extracted signals\n",
      "______________________________________________filter_and_extract - 35.0s, 0.6min\n",
      "[[1.         0.09446244 0.09547482 ... 0.08098391 0.07597929 0.03221597]\n",
      " [0.09446244 1.         0.0959825  ... 0.09024611 0.08295282 0.03466845]\n",
      " [0.09547482 0.0959825  1.         ... 0.08679359 0.08078838 0.03377646]\n",
      " ...\n",
      " [0.08098391 0.09024611 0.08679359 ... 1.         0.08441418 0.03473759]\n",
      " [0.07597929 0.08295282 0.08078838 ... 0.08441418 1.         0.03381895]\n",
      " [0.03221597 0.03466845 0.03377646 ... 0.03473759 0.03381895 1.        ]] (1, -1)\n",
      "(48, 48)\n",
      "processed: 28\n",
      "rest\n",
      "[NiftiLabelsMasker.fit_transform] loading data from C:\\Users\\June Cai/nilearn_data\\fsl\\data\\atlases\\HarvardOxford\\HarvardOxford-cort-maxprob-thr25-2mm.nii.gz\n",
      "________________________________________________________________________________\n",
      "[Memory] Calling nilearn.input_data.base_masker.filter_and_extract...\n",
      "filter_and_extract('F:\\\\ece\\\\capstone\\\\code\\\\py\\\\data\\\\abide\\\\traindata\\\\29204_3_rest_1.nii.gz', <nilearn.input_data.nifti_labels_masker._ExtractionFunctor object at 0x000002937FE8B080>, \n",
      "{ 'background_label': 0,\n",
      "  'detrend': False,\n",
      "  'dtype': None,\n",
      "  'high_pass': None,\n",
      "  'labels_img': 'C:\\\\Users\\\\June '\n",
      "                'Cai/nilearn_data\\\\fsl\\\\data\\\\atlases\\\\HarvardOxford\\\\HarvardOxford-cort-maxprob-thr25-2mm.nii.gz',\n",
      "  'low_pass': None,\n",
      "  'mask_img': None,\n",
      "  'smoothing_fwhm': None,\n",
      "  'standardize': True,\n",
      "  't_r': None,\n",
      "  'target_affine': array([[  -2.,    0.,    0.,   90.],\n",
      "       [   0.,    2.,    0., -126.],\n",
      "       [   0.,    0.,    2.,  -72.],\n",
      "       [   0.,    0.,    0.,    1.]]),\n",
      "  'target_shape': (91, 109, 91)}, memory=Memory(location=nilearn_cache\\joblib), confounds=None, dtype=None, verbose=5, memory_level=1)\n",
      "[NiftiLabelsMasker.transform_single_imgs] Loading data from F:\\ece\\capstone\\code\\py\\data\\abide\\traindata\\29204_3_rest_1.nii.gz\n"
     ]
    },
    {
     "name": "stderr",
     "output_type": "stream",
     "text": [
      "C:\\Users\\June Cai\\AppData\\Roaming\\Python\\Python35\\site-packages\\nilearn\\_utils\\cache_mixin.py:232: DeprecationWarning: The 'cachedir' attribute has been deprecated in version 0.12 and will be removed in version 0.14.\n",
      "Use os.path.join(memory.location, 'joblib') attribute instead.\n",
      "  if (memory.cachedir is None and memory_level is not None\n"
     ]
    },
    {
     "name": "stdout",
     "output_type": "stream",
     "text": [
      "[NiftiLabelsMasker.transform_single_imgs] Resampling images\n"
     ]
    },
    {
     "name": "stderr",
     "output_type": "stream",
     "text": [
      "C:\\Users\\June Cai\\AppData\\Roaming\\Python\\Python35\\site-packages\\nilearn\\image\\resampling.py:510: UserWarning: Casting data from int16 to float32\n",
      "  warnings.warn(\"Casting data from %s to %s\" % (data.dtype.name, aux))\n"
     ]
    },
    {
     "name": "stdout",
     "output_type": "stream",
     "text": [
      "[NiftiLabelsMasker.transform_single_imgs] Extracting region signals\n",
      "[NiftiLabelsMasker.transform_single_imgs] Cleaning extracted signals\n",
      "______________________________________________filter_and_extract - 36.2s, 0.6min\n",
      "[[1.         0.36207536 0.38223898 ... 0.36443874 0.36669603 0.25892025]\n",
      " [0.36207536 1.         0.3573979  ... 0.34478974 0.36621383 0.26499298]\n",
      " [0.38223898 0.3573979  1.         ... 0.3666227  0.3652035  0.2573694 ]\n",
      " ...\n",
      " [0.36443874 0.34478974 0.3666227  ... 1.         0.34707388 0.25163883]\n",
      " [0.36669603 0.36621383 0.3652035  ... 0.34707388 1.         0.2641603 ]\n",
      " [0.25892028 0.26499298 0.2573694  ... 0.2516388  0.2641603  1.        ]] (1, -1)\n",
      "(48, 48)\n",
      "processed: 29\n",
      "rest\n",
      "[NiftiLabelsMasker.fit_transform] loading data from C:\\Users\\June Cai/nilearn_data\\fsl\\data\\atlases\\HarvardOxford\\HarvardOxford-cort-maxprob-thr25-2mm.nii.gz\n",
      "________________________________________________________________________________\n",
      "[Memory] Calling nilearn.input_data.base_masker.filter_and_extract...\n",
      "filter_and_extract('F:\\\\ece\\\\capstone\\\\code\\\\py\\\\data\\\\abide\\\\traindata\\\\29205_3_rest_1.nii.gz', <nilearn.input_data.nifti_labels_masker._ExtractionFunctor object at 0x00000293048BCF98>, \n",
      "{ 'background_label': 0,\n",
      "  'detrend': False,\n",
      "  'dtype': None,\n",
      "  'high_pass': None,\n",
      "  'labels_img': 'C:\\\\Users\\\\June '\n",
      "                'Cai/nilearn_data\\\\fsl\\\\data\\\\atlases\\\\HarvardOxford\\\\HarvardOxford-cort-maxprob-thr25-2mm.nii.gz',\n",
      "  'low_pass': None,\n",
      "  'mask_img': None,\n",
      "  'smoothing_fwhm': None,\n",
      "  'standardize': True,\n",
      "  't_r': None,\n",
      "  'target_affine': array([[  -2.,    0.,    0.,   90.],\n",
      "       [   0.,    2.,    0., -126.],\n",
      "       [   0.,    0.,    2.,  -72.],\n",
      "       [   0.,    0.,    0.,    1.]]),\n",
      "  'target_shape': (91, 109, 91)}, memory=Memory(location=nilearn_cache\\joblib), confounds=None, dtype=None, verbose=5, memory_level=1)\n",
      "[NiftiLabelsMasker.transform_single_imgs] Loading data from F:\\ece\\capstone\\code\\py\\data\\abide\\traindata\\29205_3_rest_1.nii.gz\n"
     ]
    },
    {
     "name": "stderr",
     "output_type": "stream",
     "text": [
      "C:\\Users\\June Cai\\AppData\\Roaming\\Python\\Python35\\site-packages\\nilearn\\_utils\\cache_mixin.py:232: DeprecationWarning: The 'cachedir' attribute has been deprecated in version 0.12 and will be removed in version 0.14.\n",
      "Use os.path.join(memory.location, 'joblib') attribute instead.\n",
      "  if (memory.cachedir is None and memory_level is not None\n"
     ]
    },
    {
     "name": "stdout",
     "output_type": "stream",
     "text": [
      "[NiftiLabelsMasker.transform_single_imgs] Resampling images\n"
     ]
    },
    {
     "name": "stderr",
     "output_type": "stream",
     "text": [
      "C:\\Users\\June Cai\\AppData\\Roaming\\Python\\Python35\\site-packages\\nilearn\\image\\resampling.py:510: UserWarning: Casting data from int16 to float32\n",
      "  warnings.warn(\"Casting data from %s to %s\" % (data.dtype.name, aux))\n"
     ]
    },
    {
     "name": "stdout",
     "output_type": "stream",
     "text": [
      "[NiftiLabelsMasker.transform_single_imgs] Extracting region signals\n",
      "[NiftiLabelsMasker.transform_single_imgs] Cleaning extracted signals\n",
      "______________________________________________filter_and_extract - 37.1s, 0.6min\n",
      "[[1.         0.06779332 0.06493793 ... 0.0676946  0.06249614 0.06256246]\n",
      " [0.06779332 1.         0.065488   ... 0.06871989 0.06296314 0.06437856]\n",
      " [0.06493793 0.065488   1.         ... 0.06366304 0.06823581 0.06736568]\n",
      " ...\n",
      " [0.06769461 0.06871989 0.06366304 ... 1.         0.06103171 0.06158161]\n",
      " [0.06249614 0.06296314 0.06823581 ... 0.06103171 1.         0.06689603]\n",
      " [0.06256246 0.06437856 0.06736568 ... 0.06158161 0.06689603 1.        ]] (1, -1)\n",
      "(48, 48)\n",
      "processed: 30\n",
      "rest\n",
      "[NiftiLabelsMasker.fit_transform] loading data from C:\\Users\\June Cai/nilearn_data\\fsl\\data\\atlases\\HarvardOxford\\HarvardOxford-cort-maxprob-thr25-2mm.nii.gz\n",
      "________________________________________________________________________________\n",
      "[Memory] Calling nilearn.input_data.base_masker.filter_and_extract...\n",
      "filter_and_extract('F:\\\\ece\\\\capstone\\\\code\\\\py\\\\data\\\\abide\\\\traindata\\\\29206_3_rest_1.nii.gz', <nilearn.input_data.nifti_labels_masker._ExtractionFunctor object at 0x00000293726EBA90>, \n",
      "{ 'background_label': 0,\n",
      "  'detrend': False,\n",
      "  'dtype': None,\n",
      "  'high_pass': None,\n",
      "  'labels_img': 'C:\\\\Users\\\\June '\n",
      "                'Cai/nilearn_data\\\\fsl\\\\data\\\\atlases\\\\HarvardOxford\\\\HarvardOxford-cort-maxprob-thr25-2mm.nii.gz',\n",
      "  'low_pass': None,\n",
      "  'mask_img': None,\n",
      "  'smoothing_fwhm': None,\n",
      "  'standardize': True,\n",
      "  't_r': None,\n",
      "  'target_affine': array([[  -2.,    0.,    0.,   90.],\n",
      "       [   0.,    2.,    0., -126.],\n",
      "       [   0.,    0.,    2.,  -72.],\n",
      "       [   0.,    0.,    0.,    1.]]),\n",
      "  'target_shape': (91, 109, 91)}, memory=Memory(location=nilearn_cache\\joblib), confounds=None, dtype=None, verbose=5, memory_level=1)\n",
      "[NiftiLabelsMasker.transform_single_imgs] Loading data from F:\\ece\\capstone\\code\\py\\data\\abide\\traindata\\29206_3_rest_1.nii.gz\n"
     ]
    },
    {
     "name": "stderr",
     "output_type": "stream",
     "text": [
      "C:\\Users\\June Cai\\AppData\\Roaming\\Python\\Python35\\site-packages\\nilearn\\_utils\\cache_mixin.py:232: DeprecationWarning: The 'cachedir' attribute has been deprecated in version 0.12 and will be removed in version 0.14.\n",
      "Use os.path.join(memory.location, 'joblib') attribute instead.\n",
      "  if (memory.cachedir is None and memory_level is not None\n"
     ]
    },
    {
     "name": "stdout",
     "output_type": "stream",
     "text": [
      "[NiftiLabelsMasker.transform_single_imgs] Resampling images\n"
     ]
    },
    {
     "name": "stderr",
     "output_type": "stream",
     "text": [
      "C:\\Users\\June Cai\\AppData\\Roaming\\Python\\Python35\\site-packages\\nilearn\\image\\resampling.py:510: UserWarning: Casting data from int16 to float32\n",
      "  warnings.warn(\"Casting data from %s to %s\" % (data.dtype.name, aux))\n"
     ]
    },
    {
     "name": "stdout",
     "output_type": "stream",
     "text": [
      "[NiftiLabelsMasker.transform_single_imgs] Extracting region signals\n",
      "[NiftiLabelsMasker.transform_single_imgs] Cleaning extracted signals\n",
      "______________________________________________filter_and_extract - 26.9s, 0.4min\n",
      "[[1.         0.         0.06228297 ... 0.         0.         0.01627111]\n",
      " [0.         1.         0.         ... 0.         0.         0.        ]\n",
      " [0.06228297 0.         1.         ... 0.         0.         0.0151826 ]\n",
      " ...\n",
      " [0.         0.         0.         ... 1.         0.         0.        ]\n",
      " [0.         0.         0.         ... 0.         1.         0.        ]\n",
      " [0.01627111 0.         0.0151826  ... 0.         0.         1.        ]] (1, -1)\n",
      "(48, 48)\n",
      "processed: 31\n",
      "rest\n",
      "[NiftiLabelsMasker.fit_transform] loading data from C:\\Users\\June Cai/nilearn_data\\fsl\\data\\atlases\\HarvardOxford\\HarvardOxford-cort-maxprob-thr25-2mm.nii.gz\n",
      "________________________________________________________________________________\n",
      "[Memory] Calling nilearn.input_data.base_masker.filter_and_extract...\n",
      "filter_and_extract('F:\\\\ece\\\\capstone\\\\code\\\\py\\\\data\\\\abide\\\\traindata\\\\29207_3_rest_1.nii.gz', <nilearn.input_data.nifti_labels_masker._ExtractionFunctor object at 0x000002930498D7F0>, \n",
      "{ 'background_label': 0,\n",
      "  'detrend': False,\n",
      "  'dtype': None,\n",
      "  'high_pass': None,\n",
      "  'labels_img': 'C:\\\\Users\\\\June '\n",
      "                'Cai/nilearn_data\\\\fsl\\\\data\\\\atlases\\\\HarvardOxford\\\\HarvardOxford-cort-maxprob-thr25-2mm.nii.gz',\n",
      "  'low_pass': None,\n",
      "  'mask_img': None,\n",
      "  'smoothing_fwhm': None,\n",
      "  'standardize': True,\n",
      "  't_r': None,\n",
      "  'target_affine': array([[  -2.,    0.,    0.,   90.],\n",
      "       [   0.,    2.,    0., -126.],\n",
      "       [   0.,    0.,    2.,  -72.],\n",
      "       [   0.,    0.,    0.,    1.]]),\n",
      "  'target_shape': (91, 109, 91)}, memory=Memory(location=nilearn_cache\\joblib), confounds=None, dtype=None, verbose=5, memory_level=1)\n",
      "[NiftiLabelsMasker.transform_single_imgs] Loading data from F:\\ece\\capstone\\code\\py\\data\\abide\\traindata\\29207_3_rest_1.nii.gz\n"
     ]
    },
    {
     "name": "stderr",
     "output_type": "stream",
     "text": [
      "C:\\Users\\June Cai\\AppData\\Roaming\\Python\\Python35\\site-packages\\nilearn\\_utils\\cache_mixin.py:232: DeprecationWarning: The 'cachedir' attribute has been deprecated in version 0.12 and will be removed in version 0.14.\n",
      "Use os.path.join(memory.location, 'joblib') attribute instead.\n",
      "  if (memory.cachedir is None and memory_level is not None\n"
     ]
    },
    {
     "name": "stdout",
     "output_type": "stream",
     "text": [
      "[NiftiLabelsMasker.transform_single_imgs] Resampling images\n"
     ]
    },
    {
     "name": "stderr",
     "output_type": "stream",
     "text": [
      "C:\\Users\\June Cai\\AppData\\Roaming\\Python\\Python35\\site-packages\\nilearn\\image\\resampling.py:510: UserWarning: Casting data from int16 to float32\n",
      "  warnings.warn(\"Casting data from %s to %s\" % (data.dtype.name, aux))\n"
     ]
    },
    {
     "name": "stdout",
     "output_type": "stream",
     "text": [
      "[NiftiLabelsMasker.transform_single_imgs] Extracting region signals\n",
      "[NiftiLabelsMasker.transform_single_imgs] Cleaning extracted signals\n",
      "______________________________________________filter_and_extract - 39.3s, 0.7min\n",
      "[[1.         0.09612475 0.09340042 ... 0.08927744 0.08141576 0.05006245]\n",
      " [0.09612475 1.         0.09314338 ... 0.09366202 0.08372282 0.054257  ]\n",
      " [0.09340042 0.09314338 1.         ... 0.08805882 0.09005041 0.06143942]\n",
      " ...\n",
      " [0.08927744 0.09366202 0.08805882 ... 1.         0.08395059 0.05932276]\n",
      " [0.08141576 0.08372282 0.09005041 ... 0.08395059 1.         0.06373141]\n",
      " [0.05006245 0.05425701 0.06143942 ... 0.05932276 0.06373141 1.        ]] (1, -1)\n",
      "(48, 48)\n",
      "processed: 32\n",
      "rest\n",
      "[NiftiLabelsMasker.fit_transform] loading data from C:\\Users\\June Cai/nilearn_data\\fsl\\data\\atlases\\HarvardOxford\\HarvardOxford-cort-maxprob-thr25-2mm.nii.gz\n",
      "________________________________________________________________________________\n",
      "[Memory] Calling nilearn.input_data.base_masker.filter_and_extract...\n",
      "filter_and_extract('F:\\\\ece\\\\capstone\\\\code\\\\py\\\\data\\\\abide\\\\traindata\\\\29208_3_rest_1.nii.gz', <nilearn.input_data.nifti_labels_masker._ExtractionFunctor object at 0x000002937F76E358>, \n",
      "{ 'background_label': 0,\n",
      "  'detrend': False,\n",
      "  'dtype': None,\n",
      "  'high_pass': None,\n",
      "  'labels_img': 'C:\\\\Users\\\\June '\n",
      "                'Cai/nilearn_data\\\\fsl\\\\data\\\\atlases\\\\HarvardOxford\\\\HarvardOxford-cort-maxprob-thr25-2mm.nii.gz',\n",
      "  'low_pass': None,\n",
      "  'mask_img': None,\n",
      "  'smoothing_fwhm': None,\n",
      "  'standardize': True,\n",
      "  't_r': None,\n",
      "  'target_affine': array([[  -2.,    0.,    0.,   90.],\n",
      "       [   0.,    2.,    0., -126.],\n",
      "       [   0.,    0.,    2.,  -72.],\n",
      "       [   0.,    0.,    0.,    1.]]),\n",
      "  'target_shape': (91, 109, 91)}, memory=Memory(location=nilearn_cache\\joblib), confounds=None, dtype=None, verbose=5, memory_level=1)\n",
      "[NiftiLabelsMasker.transform_single_imgs] Loading data from F:\\ece\\capstone\\code\\py\\data\\abide\\traindata\\29208_3_rest_1.nii.gz\n"
     ]
    },
    {
     "name": "stderr",
     "output_type": "stream",
     "text": [
      "C:\\Users\\June Cai\\AppData\\Roaming\\Python\\Python35\\site-packages\\nilearn\\_utils\\cache_mixin.py:232: DeprecationWarning: The 'cachedir' attribute has been deprecated in version 0.12 and will be removed in version 0.14.\n",
      "Use os.path.join(memory.location, 'joblib') attribute instead.\n",
      "  if (memory.cachedir is None and memory_level is not None\n"
     ]
    },
    {
     "name": "stdout",
     "output_type": "stream",
     "text": [
      "[NiftiLabelsMasker.transform_single_imgs] Resampling images\n"
     ]
    },
    {
     "name": "stderr",
     "output_type": "stream",
     "text": [
      "C:\\Users\\June Cai\\AppData\\Roaming\\Python\\Python35\\site-packages\\nilearn\\image\\resampling.py:510: UserWarning: Casting data from int16 to float32\n",
      "  warnings.warn(\"Casting data from %s to %s\" % (data.dtype.name, aux))\n"
     ]
    },
    {
     "name": "stdout",
     "output_type": "stream",
     "text": [
      "[NiftiLabelsMasker.transform_single_imgs] Extracting region signals\n",
      "[NiftiLabelsMasker.transform_single_imgs] Cleaning extracted signals\n",
      "______________________________________________filter_and_extract - 37.1s, 0.6min\n",
      "[[1.         0.18536085 0.16215953 ... 0.18429522 0.17567128 0.16250783]\n",
      " [0.18536085 1.         0.12040329 ... 0.16900975 0.14824726 0.17401375]\n",
      " [0.16215953 0.12040329 1.         ... 0.16892117 0.1741428  0.10703477]\n",
      " ...\n",
      " [0.18429522 0.16900975 0.16892117 ... 1.         0.16617066 0.15482013]\n",
      " [0.17567128 0.14824724 0.1741428  ... 0.16617066 1.         0.12134761]\n",
      " [0.16250783 0.17401376 0.10703477 ... 0.15482014 0.12134761 1.        ]] (1, -1)\n",
      "(48, 48)\n",
      "processed: 33\n",
      "rest\n",
      "[NiftiLabelsMasker.fit_transform] loading data from C:\\Users\\June Cai/nilearn_data\\fsl\\data\\atlases\\HarvardOxford\\HarvardOxford-cort-maxprob-thr25-2mm.nii.gz\n",
      "________________________________________________________________________________\n",
      "[Memory] Calling nilearn.input_data.base_masker.filter_and_extract...\n",
      "filter_and_extract('F:\\\\ece\\\\capstone\\\\code\\\\py\\\\data\\\\abide\\\\traindata\\\\29209_3_rest_1.nii.gz', <nilearn.input_data.nifti_labels_masker._ExtractionFunctor object at 0x000002930499E9B0>, \n",
      "{ 'background_label': 0,\n",
      "  'detrend': False,\n",
      "  'dtype': None,\n",
      "  'high_pass': None,\n",
      "  'labels_img': 'C:\\\\Users\\\\June '\n",
      "                'Cai/nilearn_data\\\\fsl\\\\data\\\\atlases\\\\HarvardOxford\\\\HarvardOxford-cort-maxprob-thr25-2mm.nii.gz',\n",
      "  'low_pass': None,\n",
      "  'mask_img': None,\n",
      "  'smoothing_fwhm': None,\n",
      "  'standardize': True,\n",
      "  't_r': None,\n",
      "  'target_affine': array([[  -2.,    0.,    0.,   90.],\n",
      "       [   0.,    2.,    0., -126.],\n",
      "       [   0.,    0.,    2.,  -72.],\n",
      "       [   0.,    0.,    0.,    1.]]),\n",
      "  'target_shape': (91, 109, 91)}, memory=Memory(location=nilearn_cache\\joblib), confounds=None, dtype=None, verbose=5, memory_level=1)\n",
      "[NiftiLabelsMasker.transform_single_imgs] Loading data from F:\\ece\\capstone\\code\\py\\data\\abide\\traindata\\29209_3_rest_1.nii.gz\n"
     ]
    },
    {
     "name": "stderr",
     "output_type": "stream",
     "text": [
      "C:\\Users\\June Cai\\AppData\\Roaming\\Python\\Python35\\site-packages\\nilearn\\_utils\\cache_mixin.py:232: DeprecationWarning: The 'cachedir' attribute has been deprecated in version 0.12 and will be removed in version 0.14.\n",
      "Use os.path.join(memory.location, 'joblib') attribute instead.\n",
      "  if (memory.cachedir is None and memory_level is not None\n"
     ]
    },
    {
     "name": "stdout",
     "output_type": "stream",
     "text": [
      "[NiftiLabelsMasker.transform_single_imgs] Resampling images\n"
     ]
    },
    {
     "name": "stderr",
     "output_type": "stream",
     "text": [
      "C:\\Users\\June Cai\\AppData\\Roaming\\Python\\Python35\\site-packages\\nilearn\\image\\resampling.py:510: UserWarning: Casting data from int16 to float32\n",
      "  warnings.warn(\"Casting data from %s to %s\" % (data.dtype.name, aux))\n"
     ]
    },
    {
     "name": "stdout",
     "output_type": "stream",
     "text": [
      "[NiftiLabelsMasker.transform_single_imgs] Extracting region signals\n",
      "[NiftiLabelsMasker.transform_single_imgs] Cleaning extracted signals\n",
      "______________________________________________filter_and_extract - 36.2s, 0.6min\n",
      "[[ 1.          0.07227953  0.07328323 ...  0.0684503   0.01927627\n",
      "   0.01606803]\n",
      " [ 0.07227953  1.          0.07155888 ...  0.07151745  0.01450849\n",
      "   0.01921079]\n",
      " [ 0.07328323  0.07155888  1.         ...  0.0673189   0.02008011\n",
      "   0.01531485]\n",
      " ...\n",
      " [ 0.0684503   0.07151745  0.0673189  ...  1.          0.01205221\n",
      "   0.0190924 ]\n",
      " [ 0.01927627  0.01450849  0.02008011 ...  0.01205221  1.\n",
      "  -0.00107988]\n",
      " [ 0.01606803  0.01921079  0.01531485 ...  0.0190924  -0.00107988\n",
      "   1.        ]] (1, -1)\n",
      "(48, 48)\n",
      "processed: 34\n",
      "rest\n",
      "[NiftiLabelsMasker.fit_transform] loading data from C:\\Users\\June Cai/nilearn_data\\fsl\\data\\atlases\\HarvardOxford\\HarvardOxford-cort-maxprob-thr25-2mm.nii.gz\n",
      "________________________________________________________________________________\n",
      "[Memory] Calling nilearn.input_data.base_masker.filter_and_extract...\n",
      "filter_and_extract('F:\\\\ece\\\\capstone\\\\code\\\\py\\\\data\\\\abide\\\\traindata\\\\29210_3_rest_1.nii.gz', <nilearn.input_data.nifti_labels_masker._ExtractionFunctor object at 0x00000293736FA2B0>, \n",
      "{ 'background_label': 0,\n",
      "  'detrend': False,\n",
      "  'dtype': None,\n",
      "  'high_pass': None,\n",
      "  'labels_img': 'C:\\\\Users\\\\June '\n",
      "                'Cai/nilearn_data\\\\fsl\\\\data\\\\atlases\\\\HarvardOxford\\\\HarvardOxford-cort-maxprob-thr25-2mm.nii.gz',\n",
      "  'low_pass': None,\n",
      "  'mask_img': None,\n",
      "  'smoothing_fwhm': None,\n",
      "  'standardize': True,\n",
      "  't_r': None,\n",
      "  'target_affine': array([[  -2.,    0.,    0.,   90.],\n",
      "       [   0.,    2.,    0., -126.],\n",
      "       [   0.,    0.,    2.,  -72.],\n",
      "       [   0.,    0.,    0.,    1.]]),\n",
      "  'target_shape': (91, 109, 91)}, memory=Memory(location=nilearn_cache\\joblib), confounds=None, dtype=None, verbose=5, memory_level=1)\n",
      "[NiftiLabelsMasker.transform_single_imgs] Loading data from F:\\ece\\capstone\\code\\py\\data\\abide\\traindata\\29210_3_rest_1.nii.gz\n"
     ]
    },
    {
     "name": "stderr",
     "output_type": "stream",
     "text": [
      "C:\\Users\\June Cai\\AppData\\Roaming\\Python\\Python35\\site-packages\\nilearn\\_utils\\cache_mixin.py:232: DeprecationWarning: The 'cachedir' attribute has been deprecated in version 0.12 and will be removed in version 0.14.\n",
      "Use os.path.join(memory.location, 'joblib') attribute instead.\n",
      "  if (memory.cachedir is None and memory_level is not None\n"
     ]
    },
    {
     "name": "stdout",
     "output_type": "stream",
     "text": [
      "[NiftiLabelsMasker.transform_single_imgs] Resampling images\n"
     ]
    },
    {
     "name": "stderr",
     "output_type": "stream",
     "text": [
      "C:\\Users\\June Cai\\AppData\\Roaming\\Python\\Python35\\site-packages\\nilearn\\image\\resampling.py:510: UserWarning: Casting data from int16 to float32\n",
      "  warnings.warn(\"Casting data from %s to %s\" % (data.dtype.name, aux))\n"
     ]
    },
    {
     "name": "stdout",
     "output_type": "stream",
     "text": [
      "[NiftiLabelsMasker.transform_single_imgs] Extracting region signals\n",
      "[NiftiLabelsMasker.transform_single_imgs] Cleaning extracted signals\n",
      "______________________________________________filter_and_extract - 34.1s, 0.6min\n",
      "[[1.         0.07681929 0.07471416 ... 0.05228955 0.07548729 0.02346633]\n",
      " [0.07681929 1.         0.08052154 ... 0.06648204 0.07890467 0.02353143]\n",
      " [0.07471416 0.08052154 1.         ... 0.06664687 0.08190023 0.02788142]\n",
      " ...\n",
      " [0.05228955 0.06648204 0.06664687 ... 1.         0.05828496 0.02811227]\n",
      " [0.07548729 0.07890467 0.08190023 ... 0.05828496 1.         0.02760552]\n",
      " [0.02346633 0.02353143 0.02788142 ... 0.02811227 0.02760552 1.        ]] (1, -1)\n",
      "(48, 48)\n",
      "processed: 35\n",
      "rest\n",
      "[NiftiLabelsMasker.fit_transform] loading data from C:\\Users\\June Cai/nilearn_data\\fsl\\data\\atlases\\HarvardOxford\\HarvardOxford-cort-maxprob-thr25-2mm.nii.gz\n",
      "________________________________________________________________________________\n",
      "[Memory] Calling nilearn.input_data.base_masker.filter_and_extract...\n",
      "filter_and_extract('F:\\\\ece\\\\capstone\\\\code\\\\py\\\\data\\\\abide\\\\traindata\\\\29211_3_rest_1.nii.gz', <nilearn.input_data.nifti_labels_masker._ExtractionFunctor object at 0x00000293048BC400>, \n",
      "{ 'background_label': 0,\n",
      "  'detrend': False,\n",
      "  'dtype': None,\n",
      "  'high_pass': None,\n",
      "  'labels_img': 'C:\\\\Users\\\\June '\n",
      "                'Cai/nilearn_data\\\\fsl\\\\data\\\\atlases\\\\HarvardOxford\\\\HarvardOxford-cort-maxprob-thr25-2mm.nii.gz',\n",
      "  'low_pass': None,\n",
      "  'mask_img': None,\n",
      "  'smoothing_fwhm': None,\n",
      "  'standardize': True,\n",
      "  't_r': None,\n",
      "  'target_affine': array([[  -2.,    0.,    0.,   90.],\n",
      "       [   0.,    2.,    0., -126.],\n",
      "       [   0.,    0.,    2.,  -72.],\n",
      "       [   0.,    0.,    0.,    1.]]),\n",
      "  'target_shape': (91, 109, 91)}, memory=Memory(location=nilearn_cache\\joblib), confounds=None, dtype=None, verbose=5, memory_level=1)\n",
      "[NiftiLabelsMasker.transform_single_imgs] Loading data from F:\\ece\\capstone\\code\\py\\data\\abide\\traindata\\29211_3_rest_1.nii.gz\n"
     ]
    },
    {
     "name": "stderr",
     "output_type": "stream",
     "text": [
      "C:\\Users\\June Cai\\AppData\\Roaming\\Python\\Python35\\site-packages\\nilearn\\_utils\\cache_mixin.py:232: DeprecationWarning: The 'cachedir' attribute has been deprecated in version 0.12 and will be removed in version 0.14.\n",
      "Use os.path.join(memory.location, 'joblib') attribute instead.\n",
      "  if (memory.cachedir is None and memory_level is not None\n"
     ]
    },
    {
     "name": "stdout",
     "output_type": "stream",
     "text": [
      "[NiftiLabelsMasker.transform_single_imgs] Resampling images\n"
     ]
    },
    {
     "name": "stderr",
     "output_type": "stream",
     "text": [
      "C:\\Users\\June Cai\\AppData\\Roaming\\Python\\Python35\\site-packages\\nilearn\\image\\resampling.py:510: UserWarning: Casting data from int16 to float32\n",
      "  warnings.warn(\"Casting data from %s to %s\" % (data.dtype.name, aux))\n"
     ]
    },
    {
     "name": "stdout",
     "output_type": "stream",
     "text": [
      "[NiftiLabelsMasker.transform_single_imgs] Extracting region signals\n",
      "[NiftiLabelsMasker.transform_single_imgs] Cleaning extracted signals\n",
      "______________________________________________filter_and_extract - 36.3s, 0.6min\n",
      "[[1.         0.11635851 0.10888462 ... 0.11625309 0.10976231 0.04349094]\n",
      " [0.11635851 1.         0.10431415 ... 0.11412232 0.10892844 0.04061257]\n",
      " [0.10888462 0.10431415 1.         ... 0.10986706 0.10802715 0.07011056]\n",
      " ...\n",
      " [0.11625309 0.11412232 0.10986706 ... 1.         0.10990562 0.0431539 ]\n",
      " [0.10976231 0.10892844 0.10802715 ... 0.10990562 1.         0.05637682]\n",
      " [0.04349094 0.04061257 0.07011057 ... 0.0431539  0.05637682 1.        ]] (1, -1)\n",
      "(48, 48)\n",
      "processed: 36\n",
      "rest\n",
      "[NiftiLabelsMasker.fit_transform] loading data from C:\\Users\\June Cai/nilearn_data\\fsl\\data\\atlases\\HarvardOxford\\HarvardOxford-cort-maxprob-thr25-2mm.nii.gz\n",
      "________________________________________________________________________________\n",
      "[Memory] Calling nilearn.input_data.base_masker.filter_and_extract...\n",
      "filter_and_extract('F:\\\\ece\\\\capstone\\\\code\\\\py\\\\data\\\\abide\\\\traindata\\\\29212_3_rest_1.nii.gz', <nilearn.input_data.nifti_labels_masker._ExtractionFunctor object at 0x0000029302D70EF0>, \n",
      "{ 'background_label': 0,\n",
      "  'detrend': False,\n",
      "  'dtype': None,\n",
      "  'high_pass': None,\n",
      "  'labels_img': 'C:\\\\Users\\\\June '\n",
      "                'Cai/nilearn_data\\\\fsl\\\\data\\\\atlases\\\\HarvardOxford\\\\HarvardOxford-cort-maxprob-thr25-2mm.nii.gz',\n",
      "  'low_pass': None,\n",
      "  'mask_img': None,\n",
      "  'smoothing_fwhm': None,\n",
      "  'standardize': True,\n",
      "  't_r': None,\n",
      "  'target_affine': array([[  -2.,    0.,    0.,   90.],\n",
      "       [   0.,    2.,    0., -126.],\n",
      "       [   0.,    0.,    2.,  -72.],\n",
      "       [   0.,    0.,    0.,    1.]]),\n",
      "  'target_shape': (91, 109, 91)}, memory=Memory(location=nilearn_cache\\joblib), confounds=None, dtype=None, verbose=5, memory_level=1)\n",
      "[NiftiLabelsMasker.transform_single_imgs] Loading data from F:\\ece\\capstone\\code\\py\\data\\abide\\traindata\\29212_3_rest_1.nii.gz\n"
     ]
    },
    {
     "name": "stderr",
     "output_type": "stream",
     "text": [
      "C:\\Users\\June Cai\\AppData\\Roaming\\Python\\Python35\\site-packages\\nilearn\\_utils\\cache_mixin.py:232: DeprecationWarning: The 'cachedir' attribute has been deprecated in version 0.12 and will be removed in version 0.14.\n",
      "Use os.path.join(memory.location, 'joblib') attribute instead.\n",
      "  if (memory.cachedir is None and memory_level is not None\n"
     ]
    },
    {
     "name": "stdout",
     "output_type": "stream",
     "text": [
      "[NiftiLabelsMasker.transform_single_imgs] Resampling images\n"
     ]
    },
    {
     "name": "stderr",
     "output_type": "stream",
     "text": [
      "C:\\Users\\June Cai\\AppData\\Roaming\\Python\\Python35\\site-packages\\nilearn\\image\\resampling.py:510: UserWarning: Casting data from int16 to float32\n",
      "  warnings.warn(\"Casting data from %s to %s\" % (data.dtype.name, aux))\n"
     ]
    },
    {
     "name": "stdout",
     "output_type": "stream",
     "text": [
      "[NiftiLabelsMasker.transform_single_imgs] Extracting region signals\n",
      "[NiftiLabelsMasker.transform_single_imgs] Cleaning extracted signals\n",
      "______________________________________________filter_and_extract - 34.3s, 0.6min\n",
      "[[1.         0.17921676 0.18095958 ... 0.1258792  0.16647124 0.10591008]\n",
      " [0.17921676 1.         0.16386595 ... 0.10685599 0.17203158 0.11505137]\n",
      " [0.18095958 0.16386595 1.         ... 0.15699966 0.14982462 0.08873165]\n",
      " ...\n",
      " [0.1258792  0.10685599 0.15699965 ... 1.         0.10637349 0.04279713]\n",
      " [0.16647124 0.17203158 0.1498246  ... 0.10637349 1.         0.10815785]\n",
      " [0.10591008 0.11505137 0.08873166 ... 0.04279713 0.10815785 1.        ]] (1, -1)\n",
      "(48, 48)\n",
      "processed: 37\n",
      "rest\n",
      "[NiftiLabelsMasker.fit_transform] loading data from C:\\Users\\June Cai/nilearn_data\\fsl\\data\\atlases\\HarvardOxford\\HarvardOxford-cort-maxprob-thr25-2mm.nii.gz\n",
      "________________________________________________________________________________\n",
      "[Memory] Calling nilearn.input_data.base_masker.filter_and_extract...\n",
      "filter_and_extract('F:\\\\ece\\\\capstone\\\\code\\\\py\\\\data\\\\abide\\\\traindata\\\\29213_3_rest_1.nii.gz', <nilearn.input_data.nifti_labels_masker._ExtractionFunctor object at 0x00000293726EBA90>, \n",
      "{ 'background_label': 0,\n",
      "  'detrend': False,\n",
      "  'dtype': None,\n",
      "  'high_pass': None,\n",
      "  'labels_img': 'C:\\\\Users\\\\June '\n",
      "                'Cai/nilearn_data\\\\fsl\\\\data\\\\atlases\\\\HarvardOxford\\\\HarvardOxford-cort-maxprob-thr25-2mm.nii.gz',\n",
      "  'low_pass': None,\n",
      "  'mask_img': None,\n",
      "  'smoothing_fwhm': None,\n",
      "  'standardize': True,\n",
      "  't_r': None,\n",
      "  'target_affine': array([[  -2.,    0.,    0.,   90.],\n",
      "       [   0.,    2.,    0., -126.],\n",
      "       [   0.,    0.,    2.,  -72.],\n",
      "       [   0.,    0.,    0.,    1.]]),\n",
      "  'target_shape': (91, 109, 91)}, memory=Memory(location=nilearn_cache\\joblib), confounds=None, dtype=None, verbose=5, memory_level=1)\n",
      "[NiftiLabelsMasker.transform_single_imgs] Loading data from F:\\ece\\capstone\\code\\py\\data\\abide\\traindata\\29213_3_rest_1.nii.gz\n"
     ]
    },
    {
     "name": "stderr",
     "output_type": "stream",
     "text": [
      "C:\\Users\\June Cai\\AppData\\Roaming\\Python\\Python35\\site-packages\\nilearn\\_utils\\cache_mixin.py:232: DeprecationWarning: The 'cachedir' attribute has been deprecated in version 0.12 and will be removed in version 0.14.\n",
      "Use os.path.join(memory.location, 'joblib') attribute instead.\n",
      "  if (memory.cachedir is None and memory_level is not None\n"
     ]
    },
    {
     "name": "stdout",
     "output_type": "stream",
     "text": [
      "[NiftiLabelsMasker.transform_single_imgs] Resampling images\n"
     ]
    },
    {
     "name": "stderr",
     "output_type": "stream",
     "text": [
      "C:\\Users\\June Cai\\AppData\\Roaming\\Python\\Python35\\site-packages\\nilearn\\image\\resampling.py:510: UserWarning: Casting data from int16 to float32\n",
      "  warnings.warn(\"Casting data from %s to %s\" % (data.dtype.name, aux))\n"
     ]
    },
    {
     "name": "stdout",
     "output_type": "stream",
     "text": [
      "[NiftiLabelsMasker.transform_single_imgs] Extracting region signals\n",
      "[NiftiLabelsMasker.transform_single_imgs] Cleaning extracted signals\n",
      "______________________________________________filter_and_extract - 38.5s, 0.6min\n",
      "[[1.         0.08792836 0.08806082 ... 0.08041777 0.08679941 0.02622755]\n",
      " [0.08792836 1.         0.0921944  ... 0.08967671 0.090835   0.02326822]\n",
      " [0.08806082 0.0921944  1.         ... 0.0891102  0.08938532 0.02190016]\n",
      " ...\n",
      " [0.08041777 0.08967671 0.0891102  ... 1.         0.08529269 0.01822975]\n",
      " [0.08679941 0.090835   0.08938532 ... 0.08529269 1.         0.02517129]\n",
      " [0.02622755 0.02326822 0.02190016 ... 0.01822975 0.02517129 1.        ]] (1, -1)\n",
      "(48, 48)\n",
      "processed: 38\n",
      "rest\n",
      "[NiftiLabelsMasker.fit_transform] loading data from C:\\Users\\June Cai/nilearn_data\\fsl\\data\\atlases\\HarvardOxford\\HarvardOxford-cort-maxprob-thr25-2mm.nii.gz\n",
      "________________________________________________________________________________\n",
      "[Memory] Calling nilearn.input_data.base_masker.filter_and_extract...\n",
      "filter_and_extract('F:\\\\ece\\\\capstone\\\\code\\\\py\\\\data\\\\abide\\\\traindata\\\\29214_3_rest_1.nii.gz', <nilearn.input_data.nifti_labels_masker._ExtractionFunctor object at 0x00000293020054A8>, \n",
      "{ 'background_label': 0,\n",
      "  'detrend': False,\n",
      "  'dtype': None,\n",
      "  'high_pass': None,\n",
      "  'labels_img': 'C:\\\\Users\\\\June '\n",
      "                'Cai/nilearn_data\\\\fsl\\\\data\\\\atlases\\\\HarvardOxford\\\\HarvardOxford-cort-maxprob-thr25-2mm.nii.gz',\n",
      "  'low_pass': None,\n",
      "  'mask_img': None,\n",
      "  'smoothing_fwhm': None,\n",
      "  'standardize': True,\n",
      "  't_r': None,\n",
      "  'target_affine': array([[  -2.,    0.,    0.,   90.],\n",
      "       [   0.,    2.,    0., -126.],\n",
      "       [   0.,    0.,    2.,  -72.],\n",
      "       [   0.,    0.,    0.,    1.]]),\n",
      "  'target_shape': (91, 109, 91)}, memory=Memory(location=nilearn_cache\\joblib), confounds=None, dtype=None, verbose=5, memory_level=1)\n",
      "[NiftiLabelsMasker.transform_single_imgs] Loading data from F:\\ece\\capstone\\code\\py\\data\\abide\\traindata\\29214_3_rest_1.nii.gz\n"
     ]
    },
    {
     "name": "stderr",
     "output_type": "stream",
     "text": [
      "C:\\Users\\June Cai\\AppData\\Roaming\\Python\\Python35\\site-packages\\nilearn\\_utils\\cache_mixin.py:232: DeprecationWarning: The 'cachedir' attribute has been deprecated in version 0.12 and will be removed in version 0.14.\n",
      "Use os.path.join(memory.location, 'joblib') attribute instead.\n",
      "  if (memory.cachedir is None and memory_level is not None\n"
     ]
    },
    {
     "name": "stdout",
     "output_type": "stream",
     "text": [
      "[NiftiLabelsMasker.transform_single_imgs] Resampling images\n"
     ]
    },
    {
     "name": "stderr",
     "output_type": "stream",
     "text": [
      "C:\\Users\\June Cai\\AppData\\Roaming\\Python\\Python35\\site-packages\\nilearn\\image\\resampling.py:510: UserWarning: Casting data from int16 to float32\n",
      "  warnings.warn(\"Casting data from %s to %s\" % (data.dtype.name, aux))\n"
     ]
    },
    {
     "name": "stdout",
     "output_type": "stream",
     "text": [
      "[NiftiLabelsMasker.transform_single_imgs] Extracting region signals\n",
      "[NiftiLabelsMasker.transform_single_imgs] Cleaning extracted signals\n",
      "______________________________________________filter_and_extract - 34.4s, 0.6min\n",
      "[[1.         0.0481311  0.04982608 ... 0.04124386 0.04399942 0.03738981]\n",
      " [0.0481311  1.         0.04828522 ... 0.04083731 0.04408445 0.03806317]\n",
      " [0.04982608 0.04828522 1.         ... 0.0499836  0.04807747 0.03929925]\n",
      " ...\n",
      " [0.04124386 0.04083731 0.0499836  ... 1.         0.04702644 0.03677059]\n",
      " [0.04399942 0.04408445 0.04807747 ... 0.04702644 1.         0.04136951]\n",
      " [0.03738981 0.03806317 0.03929925 ... 0.03677059 0.04136951 1.        ]] (1, -1)\n",
      "(48, 48)\n",
      "processed: 39\n",
      "rest\n",
      "[NiftiLabelsMasker.fit_transform] loading data from C:\\Users\\June Cai/nilearn_data\\fsl\\data\\atlases\\HarvardOxford\\HarvardOxford-cort-maxprob-thr25-2mm.nii.gz\n",
      "________________________________________________________________________________\n",
      "[Memory] Calling nilearn.input_data.base_masker.filter_and_extract...\n",
      "filter_and_extract('F:\\\\ece\\\\capstone\\\\code\\\\py\\\\data\\\\abide\\\\traindata\\\\29215_3_rest_1.nii.gz', <nilearn.input_data.nifti_labels_masker._ExtractionFunctor object at 0x00000293736FF908>, \n",
      "{ 'background_label': 0,\n",
      "  'detrend': False,\n",
      "  'dtype': None,\n",
      "  'high_pass': None,\n",
      "  'labels_img': 'C:\\\\Users\\\\June '\n",
      "                'Cai/nilearn_data\\\\fsl\\\\data\\\\atlases\\\\HarvardOxford\\\\HarvardOxford-cort-maxprob-thr25-2mm.nii.gz',\n",
      "  'low_pass': None,\n",
      "  'mask_img': None,\n",
      "  'smoothing_fwhm': None,\n",
      "  'standardize': True,\n",
      "  't_r': None,\n",
      "  'target_affine': array([[  -2.,    0.,    0.,   90.],\n",
      "       [   0.,    2.,    0., -126.],\n",
      "       [   0.,    0.,    2.,  -72.],\n",
      "       [   0.,    0.,    0.,    1.]]),\n",
      "  'target_shape': (91, 109, 91)}, memory=Memory(location=nilearn_cache\\joblib), confounds=None, dtype=None, verbose=5, memory_level=1)\n",
      "[NiftiLabelsMasker.transform_single_imgs] Loading data from F:\\ece\\capstone\\code\\py\\data\\abide\\traindata\\29215_3_rest_1.nii.gz\n"
     ]
    },
    {
     "name": "stderr",
     "output_type": "stream",
     "text": [
      "C:\\Users\\June Cai\\AppData\\Roaming\\Python\\Python35\\site-packages\\nilearn\\_utils\\cache_mixin.py:232: DeprecationWarning: The 'cachedir' attribute has been deprecated in version 0.12 and will be removed in version 0.14.\n",
      "Use os.path.join(memory.location, 'joblib') attribute instead.\n",
      "  if (memory.cachedir is None and memory_level is not None\n"
     ]
    },
    {
     "name": "stdout",
     "output_type": "stream",
     "text": [
      "[NiftiLabelsMasker.transform_single_imgs] Resampling images\n"
     ]
    },
    {
     "name": "stderr",
     "output_type": "stream",
     "text": [
      "C:\\Users\\June Cai\\AppData\\Roaming\\Python\\Python35\\site-packages\\nilearn\\image\\resampling.py:510: UserWarning: Casting data from int16 to float32\n",
      "  warnings.warn(\"Casting data from %s to %s\" % (data.dtype.name, aux))\n"
     ]
    },
    {
     "name": "stdout",
     "output_type": "stream",
     "text": [
      "[NiftiLabelsMasker.transform_single_imgs] Extracting region signals\n",
      "[NiftiLabelsMasker.transform_single_imgs] Cleaning extracted signals\n",
      "______________________________________________filter_and_extract - 31.1s, 0.5min\n",
      "[[1.         0.33929542 0.3721346  ... 0.32983965 0.2494873  0.21800178]\n",
      " [0.33929542 1.         0.23098087 ... 0.2301679  0.1925161  0.2431971 ]\n",
      " [0.3721346  0.23098087 1.         ... 0.26757973 0.17042306 0.07221859]\n",
      " ...\n",
      " [0.32983965 0.2301679  0.26757973 ... 1.         0.21279491 0.19074231]\n",
      " [0.2494873  0.19251612 0.17042306 ... 0.21279491 1.         0.18437853]\n",
      " [0.21800178 0.2431971  0.07221859 ... 0.19074231 0.18437853 1.        ]] (1, -1)\n",
      "(48, 48)\n",
      "processed: 40\n",
      "rest\n",
      "[NiftiLabelsMasker.fit_transform] loading data from C:\\Users\\June Cai/nilearn_data\\fsl\\data\\atlases\\HarvardOxford\\HarvardOxford-cort-maxprob-thr25-2mm.nii.gz\n",
      "________________________________________________________________________________\n",
      "[Memory] Calling nilearn.input_data.base_masker.filter_and_extract...\n",
      "filter_and_extract('F:\\\\ece\\\\capstone\\\\code\\\\py\\\\data\\\\abide\\\\traindata\\\\29216_3_rest_1.nii.gz', <nilearn.input_data.nifti_labels_masker._ExtractionFunctor object at 0x0000029304950DD8>, \n",
      "{ 'background_label': 0,\n",
      "  'detrend': False,\n",
      "  'dtype': None,\n",
      "  'high_pass': None,\n",
      "  'labels_img': 'C:\\\\Users\\\\June '\n",
      "                'Cai/nilearn_data\\\\fsl\\\\data\\\\atlases\\\\HarvardOxford\\\\HarvardOxford-cort-maxprob-thr25-2mm.nii.gz',\n",
      "  'low_pass': None,\n",
      "  'mask_img': None,\n",
      "  'smoothing_fwhm': None,\n",
      "  'standardize': True,\n",
      "  't_r': None,\n",
      "  'target_affine': array([[  -2.,    0.,    0.,   90.],\n",
      "       [   0.,    2.,    0., -126.],\n",
      "       [   0.,    0.,    2.,  -72.],\n",
      "       [   0.,    0.,    0.,    1.]]),\n",
      "  'target_shape': (91, 109, 91)}, memory=Memory(location=nilearn_cache\\joblib), confounds=None, dtype=None, verbose=5, memory_level=1)\n",
      "[NiftiLabelsMasker.transform_single_imgs] Loading data from F:\\ece\\capstone\\code\\py\\data\\abide\\traindata\\29216_3_rest_1.nii.gz\n"
     ]
    },
    {
     "name": "stderr",
     "output_type": "stream",
     "text": [
      "C:\\Users\\June Cai\\AppData\\Roaming\\Python\\Python35\\site-packages\\nilearn\\_utils\\cache_mixin.py:232: DeprecationWarning: The 'cachedir' attribute has been deprecated in version 0.12 and will be removed in version 0.14.\n",
      "Use os.path.join(memory.location, 'joblib') attribute instead.\n",
      "  if (memory.cachedir is None and memory_level is not None\n"
     ]
    },
    {
     "name": "stdout",
     "output_type": "stream",
     "text": [
      "[NiftiLabelsMasker.transform_single_imgs] Resampling images\n"
     ]
    },
    {
     "name": "stderr",
     "output_type": "stream",
     "text": [
      "C:\\Users\\June Cai\\AppData\\Roaming\\Python\\Python35\\site-packages\\nilearn\\image\\resampling.py:510: UserWarning: Casting data from int16 to float32\n",
      "  warnings.warn(\"Casting data from %s to %s\" % (data.dtype.name, aux))\n"
     ]
    },
    {
     "name": "stdout",
     "output_type": "stream",
     "text": [
      "[NiftiLabelsMasker.transform_single_imgs] Extracting region signals\n",
      "[NiftiLabelsMasker.transform_single_imgs] Cleaning extracted signals\n",
      "______________________________________________filter_and_extract - 32.3s, 0.5min\n",
      "[[ 1.          0.2796007   0.23192893 ...  0.1189052   0.21107219\n",
      "   0.11799616]\n",
      " [ 0.2796007   1.          0.17894213 ...  0.06136302  0.22174434\n",
      "   0.10953841]\n",
      " [ 0.23192894  0.17894211  1.         ...  0.2543383   0.06271652\n",
      "   0.09879287]\n",
      " ...\n",
      " [ 0.1189052   0.06136302  0.2543383  ...  1.         -0.05698285\n",
      "   0.0615771 ]\n",
      " [ 0.21107219  0.22174434  0.06271652 ... -0.05698285  1.\n",
      "   0.06557254]\n",
      " [ 0.11799616  0.10953841  0.09879287 ...  0.0615771   0.06557254\n",
      "   1.        ]] (1, -1)\n",
      "(48, 48)\n",
      "processed: 41\n",
      "rest\n",
      "[NiftiLabelsMasker.fit_transform] loading data from C:\\Users\\June Cai/nilearn_data\\fsl\\data\\atlases\\HarvardOxford\\HarvardOxford-cort-maxprob-thr25-2mm.nii.gz\n",
      "________________________________________________________________________________\n",
      "[Memory] Calling nilearn.input_data.base_masker.filter_and_extract...\n",
      "filter_and_extract('F:\\\\ece\\\\capstone\\\\code\\\\py\\\\data\\\\abide\\\\traindata\\\\29217_3_rest_1.nii.gz', <nilearn.input_data.nifti_labels_masker._ExtractionFunctor object at 0x00000293736FF908>, \n",
      "{ 'background_label': 0,\n",
      "  'detrend': False,\n",
      "  'dtype': None,\n",
      "  'high_pass': None,\n",
      "  'labels_img': 'C:\\\\Users\\\\June '\n",
      "                'Cai/nilearn_data\\\\fsl\\\\data\\\\atlases\\\\HarvardOxford\\\\HarvardOxford-cort-maxprob-thr25-2mm.nii.gz',\n",
      "  'low_pass': None,\n",
      "  'mask_img': None,\n",
      "  'smoothing_fwhm': None,\n",
      "  'standardize': True,\n",
      "  't_r': None,\n",
      "  'target_affine': array([[  -2.,    0.,    0.,   90.],\n",
      "       [   0.,    2.,    0., -126.],\n",
      "       [   0.,    0.,    2.,  -72.],\n",
      "       [   0.,    0.,    0.,    1.]]),\n",
      "  'target_shape': (91, 109, 91)}, memory=Memory(location=nilearn_cache\\joblib), confounds=None, dtype=None, verbose=5, memory_level=1)\n",
      "[NiftiLabelsMasker.transform_single_imgs] Loading data from F:\\ece\\capstone\\code\\py\\data\\abide\\traindata\\29217_3_rest_1.nii.gz\n"
     ]
    },
    {
     "name": "stderr",
     "output_type": "stream",
     "text": [
      "C:\\Users\\June Cai\\AppData\\Roaming\\Python\\Python35\\site-packages\\nilearn\\_utils\\cache_mixin.py:232: DeprecationWarning: The 'cachedir' attribute has been deprecated in version 0.12 and will be removed in version 0.14.\n",
      "Use os.path.join(memory.location, 'joblib') attribute instead.\n",
      "  if (memory.cachedir is None and memory_level is not None\n"
     ]
    },
    {
     "name": "stdout",
     "output_type": "stream",
     "text": [
      "[NiftiLabelsMasker.transform_single_imgs] Resampling images\n"
     ]
    },
    {
     "name": "stderr",
     "output_type": "stream",
     "text": [
      "C:\\Users\\June Cai\\AppData\\Roaming\\Python\\Python35\\site-packages\\nilearn\\image\\resampling.py:510: UserWarning: Casting data from int16 to float32\n",
      "  warnings.warn(\"Casting data from %s to %s\" % (data.dtype.name, aux))\n"
     ]
    },
    {
     "name": "stdout",
     "output_type": "stream",
     "text": [
      "[NiftiLabelsMasker.transform_single_imgs] Extracting region signals\n",
      "[NiftiLabelsMasker.transform_single_imgs] Cleaning extracted signals\n",
      "______________________________________________filter_and_extract - 32.3s, 0.5min\n",
      "[[1.         0.31500515 0.2921852  ... 0.1394484  0.26029924 0.17688237]\n",
      " [0.31500515 1.         0.21717384 ... 0.06235264 0.19395837 0.16503063]\n",
      " [0.2921852  0.21717384 1.         ... 0.2944231  0.18602917 0.15397172]\n",
      " ...\n",
      " [0.1394484  0.06235265 0.29442313 ... 1.         0.08232415 0.11603937]\n",
      " [0.26029924 0.19395837 0.18602917 ... 0.08232415 1.         0.15167364]\n",
      " [0.17688237 0.16503064 0.15397172 ... 0.11603936 0.15167363 1.        ]] (1, -1)\n",
      "(48, 48)\n",
      "processed: 42\n",
      "rest\n",
      "[NiftiLabelsMasker.fit_transform] loading data from C:\\Users\\June Cai/nilearn_data\\fsl\\data\\atlases\\HarvardOxford\\HarvardOxford-cort-maxprob-thr25-2mm.nii.gz\n",
      "________________________________________________________________________________\n",
      "[Memory] Calling nilearn.input_data.base_masker.filter_and_extract...\n",
      "filter_and_extract('F:\\\\ece\\\\capstone\\\\code\\\\py\\\\data\\\\abide\\\\traindata\\\\29218_3_rest_1.nii.gz', <nilearn.input_data.nifti_labels_masker._ExtractionFunctor object at 0x00000293022C38D0>, \n",
      "{ 'background_label': 0,\n",
      "  'detrend': False,\n",
      "  'dtype': None,\n",
      "  'high_pass': None,\n",
      "  'labels_img': 'C:\\\\Users\\\\June '\n",
      "                'Cai/nilearn_data\\\\fsl\\\\data\\\\atlases\\\\HarvardOxford\\\\HarvardOxford-cort-maxprob-thr25-2mm.nii.gz',\n",
      "  'low_pass': None,\n",
      "  'mask_img': None,\n",
      "  'smoothing_fwhm': None,\n",
      "  'standardize': True,\n",
      "  't_r': None,\n",
      "  'target_affine': array([[  -2.,    0.,    0.,   90.],\n",
      "       [   0.,    2.,    0., -126.],\n",
      "       [   0.,    0.,    2.,  -72.],\n",
      "       [   0.,    0.,    0.,    1.]]),\n",
      "  'target_shape': (91, 109, 91)}, memory=Memory(location=nilearn_cache\\joblib), confounds=None, dtype=None, verbose=5, memory_level=1)\n",
      "[NiftiLabelsMasker.transform_single_imgs] Loading data from F:\\ece\\capstone\\code\\py\\data\\abide\\traindata\\29218_3_rest_1.nii.gz\n"
     ]
    },
    {
     "name": "stderr",
     "output_type": "stream",
     "text": [
      "C:\\Users\\June Cai\\AppData\\Roaming\\Python\\Python35\\site-packages\\nilearn\\_utils\\cache_mixin.py:232: DeprecationWarning: The 'cachedir' attribute has been deprecated in version 0.12 and will be removed in version 0.14.\n",
      "Use os.path.join(memory.location, 'joblib') attribute instead.\n",
      "  if (memory.cachedir is None and memory_level is not None\n"
     ]
    },
    {
     "name": "stdout",
     "output_type": "stream",
     "text": [
      "[NiftiLabelsMasker.transform_single_imgs] Resampling images\n"
     ]
    },
    {
     "name": "stderr",
     "output_type": "stream",
     "text": [
      "C:\\Users\\June Cai\\AppData\\Roaming\\Python\\Python35\\site-packages\\nilearn\\image\\resampling.py:510: UserWarning: Casting data from int16 to float32\n",
      "  warnings.warn(\"Casting data from %s to %s\" % (data.dtype.name, aux))\n"
     ]
    },
    {
     "name": "stdout",
     "output_type": "stream",
     "text": [
      "[NiftiLabelsMasker.transform_single_imgs] Extracting region signals\n",
      "[NiftiLabelsMasker.transform_single_imgs] Cleaning extracted signals\n",
      "______________________________________________filter_and_extract - 37.8s, 0.6min\n",
      "[[1.         0.17617735 0.15039176 ... 0.11379027 0.14085923 0.05808051]\n",
      " [0.17617735 1.         0.16950487 ... 0.15606862 0.16379711 0.11972071]\n",
      " [0.15039176 0.16950487 1.         ... 0.10985204 0.18796611 0.10758334]\n",
      " ...\n",
      " [0.11379027 0.15606862 0.10985204 ... 1.         0.11266121 0.16473272]\n",
      " [0.14085923 0.16379711 0.18796611 ... 0.11266121 1.         0.11564364]\n",
      " [0.05808051 0.11972071 0.10758334 ... 0.16473272 0.11564364 1.        ]] (1, -1)\n",
      "(48, 48)\n",
      "processed: 43\n",
      "rest\n",
      "[NiftiLabelsMasker.fit_transform] loading data from C:\\Users\\June Cai/nilearn_data\\fsl\\data\\atlases\\HarvardOxford\\HarvardOxford-cort-maxprob-thr25-2mm.nii.gz\n",
      "________________________________________________________________________________\n",
      "[Memory] Calling nilearn.input_data.base_masker.filter_and_extract...\n",
      "filter_and_extract('F:\\\\ece\\\\capstone\\\\code\\\\py\\\\data\\\\abide\\\\traindata\\\\29219_3_rest_1.nii.gz', <nilearn.input_data.nifti_labels_masker._ExtractionFunctor object at 0x00000293025D4FD0>, \n",
      "{ 'background_label': 0,\n",
      "  'detrend': False,\n",
      "  'dtype': None,\n",
      "  'high_pass': None,\n",
      "  'labels_img': 'C:\\\\Users\\\\June '\n",
      "                'Cai/nilearn_data\\\\fsl\\\\data\\\\atlases\\\\HarvardOxford\\\\HarvardOxford-cort-maxprob-thr25-2mm.nii.gz',\n",
      "  'low_pass': None,\n",
      "  'mask_img': None,\n",
      "  'smoothing_fwhm': None,\n",
      "  'standardize': True,\n",
      "  't_r': None,\n",
      "  'target_affine': array([[  -2.,    0.,    0.,   90.],\n",
      "       [   0.,    2.,    0., -126.],\n",
      "       [   0.,    0.,    2.,  -72.],\n",
      "       [   0.,    0.,    0.,    1.]]),\n",
      "  'target_shape': (91, 109, 91)}, memory=Memory(location=nilearn_cache\\joblib), confounds=None, dtype=None, verbose=5, memory_level=1)\n",
      "[NiftiLabelsMasker.transform_single_imgs] Loading data from F:\\ece\\capstone\\code\\py\\data\\abide\\traindata\\29219_3_rest_1.nii.gz\n"
     ]
    },
    {
     "name": "stderr",
     "output_type": "stream",
     "text": [
      "C:\\Users\\June Cai\\AppData\\Roaming\\Python\\Python35\\site-packages\\nilearn\\_utils\\cache_mixin.py:232: DeprecationWarning: The 'cachedir' attribute has been deprecated in version 0.12 and will be removed in version 0.14.\n",
      "Use os.path.join(memory.location, 'joblib') attribute instead.\n",
      "  if (memory.cachedir is None and memory_level is not None\n"
     ]
    },
    {
     "name": "stdout",
     "output_type": "stream",
     "text": [
      "[NiftiLabelsMasker.transform_single_imgs] Resampling images\n"
     ]
    },
    {
     "name": "stderr",
     "output_type": "stream",
     "text": [
      "C:\\Users\\June Cai\\AppData\\Roaming\\Python\\Python35\\site-packages\\nilearn\\image\\resampling.py:510: UserWarning: Casting data from int16 to float32\n",
      "  warnings.warn(\"Casting data from %s to %s\" % (data.dtype.name, aux))\n"
     ]
    },
    {
     "name": "stdout",
     "output_type": "stream",
     "text": [
      "[NiftiLabelsMasker.transform_single_imgs] Extracting region signals\n",
      "[NiftiLabelsMasker.transform_single_imgs] Cleaning extracted signals\n",
      "______________________________________________filter_and_extract - 36.1s, 0.6min\n",
      "[[1.         0.22071153 0.22283512 ... 0.16357438 0.20103894 0.06469494]\n",
      " [0.22071153 1.         0.21137348 ... 0.19377485 0.204478   0.05670016]\n",
      " [0.22283512 0.21137348 1.         ... 0.1543516  0.19778115 0.0698095 ]\n",
      " ...\n",
      " [0.16357438 0.19377485 0.1543516  ... 1.         0.16465078 0.04329731]\n",
      " [0.20103894 0.204478   0.19778115 ... 0.16465078 1.         0.05538028]\n",
      " [0.06469494 0.05670016 0.0698095  ... 0.04329731 0.05538029 1.        ]] (1, -1)\n",
      "(48, 48)\n",
      "processed: 44\n",
      "rest\n",
      "[NiftiLabelsMasker.fit_transform] loading data from C:\\Users\\June Cai/nilearn_data\\fsl\\data\\atlases\\HarvardOxford\\HarvardOxford-cort-maxprob-thr25-2mm.nii.gz\n",
      "________________________________________________________________________________\n",
      "[Memory] Calling nilearn.input_data.base_masker.filter_and_extract...\n",
      "filter_and_extract('F:\\\\ece\\\\capstone\\\\code\\\\py\\\\data\\\\abide\\\\traindata\\\\29220_3_rest_1.nii.gz', <nilearn.input_data.nifti_labels_masker._ExtractionFunctor object at 0x0000029304915358>, \n",
      "{ 'background_label': 0,\n",
      "  'detrend': False,\n",
      "  'dtype': None,\n",
      "  'high_pass': None,\n",
      "  'labels_img': 'C:\\\\Users\\\\June '\n",
      "                'Cai/nilearn_data\\\\fsl\\\\data\\\\atlases\\\\HarvardOxford\\\\HarvardOxford-cort-maxprob-thr25-2mm.nii.gz',\n",
      "  'low_pass': None,\n",
      "  'mask_img': None,\n",
      "  'smoothing_fwhm': None,\n",
      "  'standardize': True,\n",
      "  't_r': None,\n",
      "  'target_affine': array([[  -2.,    0.,    0.,   90.],\n",
      "       [   0.,    2.,    0., -126.],\n",
      "       [   0.,    0.,    2.,  -72.],\n",
      "       [   0.,    0.,    0.,    1.]]),\n",
      "  'target_shape': (91, 109, 91)}, memory=Memory(location=nilearn_cache\\joblib), confounds=None, dtype=None, verbose=5, memory_level=1)\n",
      "[NiftiLabelsMasker.transform_single_imgs] Loading data from F:\\ece\\capstone\\code\\py\\data\\abide\\traindata\\29220_3_rest_1.nii.gz\n"
     ]
    },
    {
     "name": "stderr",
     "output_type": "stream",
     "text": [
      "C:\\Users\\June Cai\\AppData\\Roaming\\Python\\Python35\\site-packages\\nilearn\\_utils\\cache_mixin.py:232: DeprecationWarning: The 'cachedir' attribute has been deprecated in version 0.12 and will be removed in version 0.14.\n",
      "Use os.path.join(memory.location, 'joblib') attribute instead.\n",
      "  if (memory.cachedir is None and memory_level is not None\n"
     ]
    },
    {
     "name": "stdout",
     "output_type": "stream",
     "text": [
      "[NiftiLabelsMasker.transform_single_imgs] Resampling images\n"
     ]
    },
    {
     "name": "stderr",
     "output_type": "stream",
     "text": [
      "C:\\Users\\June Cai\\AppData\\Roaming\\Python\\Python35\\site-packages\\nilearn\\image\\resampling.py:510: UserWarning: Casting data from int16 to float32\n",
      "  warnings.warn(\"Casting data from %s to %s\" % (data.dtype.name, aux))\n"
     ]
    },
    {
     "name": "stdout",
     "output_type": "stream",
     "text": [
      "[NiftiLabelsMasker.transform_single_imgs] Extracting region signals\n",
      "[NiftiLabelsMasker.transform_single_imgs] Cleaning extracted signals\n",
      "______________________________________________filter_and_extract - 30.6s, 0.5min\n",
      "[[ 1.          0.07010272  0.22210369 ... -0.03946532  0.14763223\n",
      "   0.09765266]\n",
      " [ 0.07010272  1.          0.17505871 ...  0.15867698  0.10263946\n",
      "   0.03152067]\n",
      " [ 0.22210369  0.17505871  1.         ...  0.11643641  0.20398827\n",
      "   0.11792912]\n",
      " ...\n",
      " [-0.03946532  0.15867698  0.11643641 ...  1.          0.14628454\n",
      "   0.0653012 ]\n",
      " [ 0.14763223  0.10263946  0.20398827 ...  0.14628454  1.\n",
      "   0.11971055]\n",
      " [ 0.09765266  0.03152067  0.11792912 ...  0.0653012   0.11971055\n",
      "   1.        ]] (1, -1)\n",
      "(48, 48)\n",
      "processed: 45\n",
      "rest\n",
      "[NiftiLabelsMasker.fit_transform] loading data from C:\\Users\\June Cai/nilearn_data\\fsl\\data\\atlases\\HarvardOxford\\HarvardOxford-cort-maxprob-thr25-2mm.nii.gz\n",
      "________________________________________________________________________________\n",
      "[Memory] Calling nilearn.input_data.base_masker.filter_and_extract...\n",
      "filter_and_extract('F:\\\\ece\\\\capstone\\\\code\\\\py\\\\data\\\\abide\\\\traindata\\\\29221_3_rest_1.nii.gz', <nilearn.input_data.nifti_labels_masker._ExtractionFunctor object at 0x0000029372699588>, \n",
      "{ 'background_label': 0,\n",
      "  'detrend': False,\n",
      "  'dtype': None,\n",
      "  'high_pass': None,\n",
      "  'labels_img': 'C:\\\\Users\\\\June '\n",
      "                'Cai/nilearn_data\\\\fsl\\\\data\\\\atlases\\\\HarvardOxford\\\\HarvardOxford-cort-maxprob-thr25-2mm.nii.gz',\n",
      "  'low_pass': None,\n",
      "  'mask_img': None,\n",
      "  'smoothing_fwhm': None,\n",
      "  'standardize': True,\n",
      "  't_r': None,\n",
      "  'target_affine': array([[  -2.,    0.,    0.,   90.],\n",
      "       [   0.,    2.,    0., -126.],\n",
      "       [   0.,    0.,    2.,  -72.],\n",
      "       [   0.,    0.,    0.,    1.]]),\n",
      "  'target_shape': (91, 109, 91)}, memory=Memory(location=nilearn_cache\\joblib), confounds=None, dtype=None, verbose=5, memory_level=1)\n",
      "[NiftiLabelsMasker.transform_single_imgs] Loading data from F:\\ece\\capstone\\code\\py\\data\\abide\\traindata\\29221_3_rest_1.nii.gz\n"
     ]
    },
    {
     "name": "stderr",
     "output_type": "stream",
     "text": [
      "C:\\Users\\June Cai\\AppData\\Roaming\\Python\\Python35\\site-packages\\nilearn\\_utils\\cache_mixin.py:232: DeprecationWarning: The 'cachedir' attribute has been deprecated in version 0.12 and will be removed in version 0.14.\n",
      "Use os.path.join(memory.location, 'joblib') attribute instead.\n",
      "  if (memory.cachedir is None and memory_level is not None\n"
     ]
    },
    {
     "name": "stdout",
     "output_type": "stream",
     "text": [
      "[NiftiLabelsMasker.transform_single_imgs] Resampling images\n"
     ]
    },
    {
     "name": "stderr",
     "output_type": "stream",
     "text": [
      "C:\\Users\\June Cai\\AppData\\Roaming\\Python\\Python35\\site-packages\\nilearn\\image\\resampling.py:510: UserWarning: Casting data from int16 to float32\n",
      "  warnings.warn(\"Casting data from %s to %s\" % (data.dtype.name, aux))\n"
     ]
    },
    {
     "name": "stdout",
     "output_type": "stream",
     "text": [
      "[NiftiLabelsMasker.transform_single_imgs] Extracting region signals\n",
      "[NiftiLabelsMasker.transform_single_imgs] Cleaning extracted signals\n",
      "______________________________________________filter_and_extract - 30.8s, 0.5min\n",
      "[[ 1.          0.06203071  0.07586379 ...  0.07292091  0.02062769\n",
      "   0.06265152]\n",
      " [ 0.06203071  1.          0.06057167 ...  0.06690975 -0.00233251\n",
      "   0.04671955]\n",
      " [ 0.07586379  0.06057167  1.         ...  0.07332273  0.0177866\n",
      "   0.06233703]\n",
      " ...\n",
      " [ 0.07292092  0.06690975  0.07332273 ...  1.          0.01092205\n",
      "   0.05858925]\n",
      " [ 0.02062769 -0.00233251  0.0177866  ...  0.01092205  1.\n",
      "   0.0166795 ]\n",
      " [ 0.06265152  0.04671955  0.06233703 ...  0.05858925  0.0166795\n",
      "   1.        ]] (1, -1)\n",
      "(48, 48)\n",
      "processed: 46\n",
      "rest\n",
      "[NiftiLabelsMasker.fit_transform] loading data from C:\\Users\\June Cai/nilearn_data\\fsl\\data\\atlases\\HarvardOxford\\HarvardOxford-cort-maxprob-thr25-2mm.nii.gz\n",
      "________________________________________________________________________________\n",
      "[Memory] Calling nilearn.input_data.base_masker.filter_and_extract...\n",
      "filter_and_extract('F:\\\\ece\\\\capstone\\\\code\\\\py\\\\data\\\\abide\\\\traindata\\\\29222_3_rest_1.nii.gz', <nilearn.input_data.nifti_labels_masker._ExtractionFunctor object at 0x000002930498D7F0>, \n",
      "{ 'background_label': 0,\n",
      "  'detrend': False,\n",
      "  'dtype': None,\n",
      "  'high_pass': None,\n",
      "  'labels_img': 'C:\\\\Users\\\\June '\n",
      "                'Cai/nilearn_data\\\\fsl\\\\data\\\\atlases\\\\HarvardOxford\\\\HarvardOxford-cort-maxprob-thr25-2mm.nii.gz',\n",
      "  'low_pass': None,\n",
      "  'mask_img': None,\n",
      "  'smoothing_fwhm': None,\n",
      "  'standardize': True,\n",
      "  't_r': None,\n",
      "  'target_affine': array([[  -2.,    0.,    0.,   90.],\n",
      "       [   0.,    2.,    0., -126.],\n",
      "       [   0.,    0.,    2.,  -72.],\n",
      "       [   0.,    0.,    0.,    1.]]),\n",
      "  'target_shape': (91, 109, 91)}, memory=Memory(location=nilearn_cache\\joblib), confounds=None, dtype=None, verbose=5, memory_level=1)\n",
      "[NiftiLabelsMasker.transform_single_imgs] Loading data from F:\\ece\\capstone\\code\\py\\data\\abide\\traindata\\29222_3_rest_1.nii.gz\n"
     ]
    },
    {
     "name": "stderr",
     "output_type": "stream",
     "text": [
      "C:\\Users\\June Cai\\AppData\\Roaming\\Python\\Python35\\site-packages\\nilearn\\_utils\\cache_mixin.py:232: DeprecationWarning: The 'cachedir' attribute has been deprecated in version 0.12 and will be removed in version 0.14.\n",
      "Use os.path.join(memory.location, 'joblib') attribute instead.\n",
      "  if (memory.cachedir is None and memory_level is not None\n"
     ]
    },
    {
     "name": "stdout",
     "output_type": "stream",
     "text": [
      "[NiftiLabelsMasker.transform_single_imgs] Resampling images\n"
     ]
    },
    {
     "name": "stderr",
     "output_type": "stream",
     "text": [
      "C:\\Users\\June Cai\\AppData\\Roaming\\Python\\Python35\\site-packages\\nilearn\\image\\resampling.py:510: UserWarning: Casting data from int16 to float32\n",
      "  warnings.warn(\"Casting data from %s to %s\" % (data.dtype.name, aux))\n"
     ]
    },
    {
     "name": "stdout",
     "output_type": "stream",
     "text": [
      "[NiftiLabelsMasker.transform_single_imgs] Extracting region signals\n",
      "[NiftiLabelsMasker.transform_single_imgs] Cleaning extracted signals\n",
      "______________________________________________filter_and_extract - 38.2s, 0.6min\n",
      "[[1.         0.4168359  0.3920992  ... 0.3924073  0.39069337 0.31023446]\n",
      " [0.4168359  1.         0.33370584 ... 0.3648234  0.39075115 0.3963492 ]\n",
      " [0.3920992  0.33370584 1.         ... 0.4299057  0.3957336  0.19337238]\n",
      " ...\n",
      " [0.3924073  0.36482343 0.4299057  ... 1.         0.41276833 0.25176585]\n",
      " [0.39069337 0.39075118 0.3957336  ... 0.41276833 1.         0.31871024]\n",
      " [0.31023446 0.3963492  0.19337238 ... 0.25176585 0.31871024 1.        ]] (1, -1)\n",
      "(48, 48)\n",
      "processed: 47\n",
      "rest\n",
      "[NiftiLabelsMasker.fit_transform] loading data from C:\\Users\\June Cai/nilearn_data\\fsl\\data\\atlases\\HarvardOxford\\HarvardOxford-cort-maxprob-thr25-2mm.nii.gz\n",
      "________________________________________________________________________________\n",
      "[Memory] Calling nilearn.input_data.base_masker.filter_and_extract...\n",
      "filter_and_extract('F:\\\\ece\\\\capstone\\\\code\\\\py\\\\data\\\\abide\\\\traindata\\\\29223_3_rest_1.nii.gz', <nilearn.input_data.nifti_labels_masker._ExtractionFunctor object at 0x0000029302D70EF0>, \n",
      "{ 'background_label': 0,\n",
      "  'detrend': False,\n",
      "  'dtype': None,\n",
      "  'high_pass': None,\n",
      "  'labels_img': 'C:\\\\Users\\\\June '\n",
      "                'Cai/nilearn_data\\\\fsl\\\\data\\\\atlases\\\\HarvardOxford\\\\HarvardOxford-cort-maxprob-thr25-2mm.nii.gz',\n",
      "  'low_pass': None,\n",
      "  'mask_img': None,\n",
      "  'smoothing_fwhm': None,\n",
      "  'standardize': True,\n",
      "  't_r': None,\n",
      "  'target_affine': array([[  -2.,    0.,    0.,   90.],\n",
      "       [   0.,    2.,    0., -126.],\n",
      "       [   0.,    0.,    2.,  -72.],\n",
      "       [   0.,    0.,    0.,    1.]]),\n",
      "  'target_shape': (91, 109, 91)}, memory=Memory(location=nilearn_cache\\joblib), confounds=None, dtype=None, verbose=5, memory_level=1)\n",
      "[NiftiLabelsMasker.transform_single_imgs] Loading data from F:\\ece\\capstone\\code\\py\\data\\abide\\traindata\\29223_3_rest_1.nii.gz\n"
     ]
    },
    {
     "name": "stderr",
     "output_type": "stream",
     "text": [
      "C:\\Users\\June Cai\\AppData\\Roaming\\Python\\Python35\\site-packages\\nilearn\\_utils\\cache_mixin.py:232: DeprecationWarning: The 'cachedir' attribute has been deprecated in version 0.12 and will be removed in version 0.14.\n",
      "Use os.path.join(memory.location, 'joblib') attribute instead.\n",
      "  if (memory.cachedir is None and memory_level is not None\n"
     ]
    },
    {
     "name": "stdout",
     "output_type": "stream",
     "text": [
      "[NiftiLabelsMasker.transform_single_imgs] Resampling images\n"
     ]
    },
    {
     "name": "stderr",
     "output_type": "stream",
     "text": [
      "C:\\Users\\June Cai\\AppData\\Roaming\\Python\\Python35\\site-packages\\nilearn\\image\\resampling.py:510: UserWarning: Casting data from int16 to float32\n",
      "  warnings.warn(\"Casting data from %s to %s\" % (data.dtype.name, aux))\n"
     ]
    },
    {
     "name": "stdout",
     "output_type": "stream",
     "text": [
      "[NiftiLabelsMasker.transform_single_imgs] Extracting region signals\n",
      "[NiftiLabelsMasker.transform_single_imgs] Cleaning extracted signals\n",
      "______________________________________________filter_and_extract - 35.8s, 0.6min\n",
      "[[1.         0.45033538 0.464254   ... 0.311646   0.43751928 0.35388052]\n",
      " [0.45033535 1.         0.40089685 ... 0.40465203 0.4268397  0.32742107]\n",
      " [0.464254   0.40089688 1.         ... 0.3629932  0.46769863 0.3338818 ]\n",
      " ...\n",
      " [0.31164604 0.40465203 0.3629932  ... 1.         0.3981746  0.2176833 ]\n",
      " [0.43751922 0.4268397  0.46769863 ... 0.3981746  1.         0.32931417]\n",
      " [0.35388052 0.3274211  0.3338818  ... 0.21768332 0.32931417 1.        ]] (1, -1)\n",
      "(48, 48)\n",
      "processed: 48\n",
      "rest\n",
      "[NiftiLabelsMasker.fit_transform] loading data from C:\\Users\\June Cai/nilearn_data\\fsl\\data\\atlases\\HarvardOxford\\HarvardOxford-cort-maxprob-thr25-2mm.nii.gz\n",
      "________________________________________________________________________________\n",
      "[Memory] Calling nilearn.input_data.base_masker.filter_and_extract...\n",
      "filter_and_extract('F:\\\\ece\\\\capstone\\\\code\\\\py\\\\data\\\\abide\\\\traindata\\\\29224_3_rest_1.nii.gz', <nilearn.input_data.nifti_labels_masker._ExtractionFunctor object at 0x000002930499E9B0>, \n",
      "{ 'background_label': 0,\n",
      "  'detrend': False,\n",
      "  'dtype': None,\n",
      "  'high_pass': None,\n",
      "  'labels_img': 'C:\\\\Users\\\\June '\n",
      "                'Cai/nilearn_data\\\\fsl\\\\data\\\\atlases\\\\HarvardOxford\\\\HarvardOxford-cort-maxprob-thr25-2mm.nii.gz',\n",
      "  'low_pass': None,\n",
      "  'mask_img': None,\n",
      "  'smoothing_fwhm': None,\n",
      "  'standardize': True,\n",
      "  't_r': None,\n",
      "  'target_affine': array([[  -2.,    0.,    0.,   90.],\n",
      "       [   0.,    2.,    0., -126.],\n",
      "       [   0.,    0.,    2.,  -72.],\n",
      "       [   0.,    0.,    0.,    1.]]),\n",
      "  'target_shape': (91, 109, 91)}, memory=Memory(location=nilearn_cache\\joblib), confounds=None, dtype=None, verbose=5, memory_level=1)\n",
      "[NiftiLabelsMasker.transform_single_imgs] Loading data from F:\\ece\\capstone\\code\\py\\data\\abide\\traindata\\29224_3_rest_1.nii.gz\n"
     ]
    },
    {
     "name": "stderr",
     "output_type": "stream",
     "text": [
      "C:\\Users\\June Cai\\AppData\\Roaming\\Python\\Python35\\site-packages\\nilearn\\_utils\\cache_mixin.py:232: DeprecationWarning: The 'cachedir' attribute has been deprecated in version 0.12 and will be removed in version 0.14.\n",
      "Use os.path.join(memory.location, 'joblib') attribute instead.\n",
      "  if (memory.cachedir is None and memory_level is not None\n"
     ]
    },
    {
     "name": "stdout",
     "output_type": "stream",
     "text": [
      "[NiftiLabelsMasker.transform_single_imgs] Resampling images\n"
     ]
    },
    {
     "name": "stderr",
     "output_type": "stream",
     "text": [
      "C:\\Users\\June Cai\\AppData\\Roaming\\Python\\Python35\\site-packages\\nilearn\\image\\resampling.py:510: UserWarning: Casting data from int16 to float32\n",
      "  warnings.warn(\"Casting data from %s to %s\" % (data.dtype.name, aux))\n"
     ]
    },
    {
     "name": "stdout",
     "output_type": "stream",
     "text": [
      "[NiftiLabelsMasker.transform_single_imgs] Extracting region signals\n",
      "[NiftiLabelsMasker.transform_single_imgs] Cleaning extracted signals\n",
      "______________________________________________filter_and_extract - 34.0s, 0.6min\n",
      "[[1.         0.05578199 0.05669302 ... 0.05487162 0.04449334 0.00649013]\n",
      " [0.05578199 1.         0.05481208 ... 0.05535026 0.04372831 0.00770287]\n",
      " [0.05669302 0.05481208 1.         ... 0.05371866 0.04330334 0.00638968]\n",
      " ...\n",
      " [0.05487162 0.05535026 0.05371866 ... 1.         0.04036766 0.00624751]\n",
      " [0.04449334 0.04372831 0.04330334 ... 0.04036766 1.         0.00984059]\n",
      " [0.00649013 0.00770287 0.00638968 ... 0.00624751 0.0098406  1.        ]] (1, -1)\n",
      "(48, 48)\n",
      "processed: 49\n",
      "rest\n",
      "[NiftiLabelsMasker.fit_transform] loading data from C:\\Users\\June Cai/nilearn_data\\fsl\\data\\atlases\\HarvardOxford\\HarvardOxford-cort-maxprob-thr25-2mm.nii.gz\n",
      "________________________________________________________________________________\n",
      "[Memory] Calling nilearn.input_data.base_masker.filter_and_extract...\n",
      "filter_and_extract('F:\\\\ece\\\\capstone\\\\code\\\\py\\\\data\\\\abide\\\\traindata\\\\29225_0_rest_1.nii.gz', <nilearn.input_data.nifti_labels_masker._ExtractionFunctor object at 0x0000029302D70EF0>, \n",
      "{ 'background_label': 0,\n",
      "  'detrend': False,\n",
      "  'dtype': None,\n",
      "  'high_pass': None,\n",
      "  'labels_img': 'C:\\\\Users\\\\June '\n",
      "                'Cai/nilearn_data\\\\fsl\\\\data\\\\atlases\\\\HarvardOxford\\\\HarvardOxford-cort-maxprob-thr25-2mm.nii.gz',\n",
      "  'low_pass': None,\n",
      "  'mask_img': None,\n",
      "  'smoothing_fwhm': None,\n",
      "  'standardize': True,\n",
      "  't_r': None,\n",
      "  'target_affine': array([[  -2.,    0.,    0.,   90.],\n",
      "       [   0.,    2.,    0., -126.],\n",
      "       [   0.,    0.,    2.,  -72.],\n",
      "       [   0.,    0.,    0.,    1.]]),\n",
      "  'target_shape': (91, 109, 91)}, memory=Memory(location=nilearn_cache\\joblib), confounds=None, dtype=None, verbose=5, memory_level=1)\n",
      "[NiftiLabelsMasker.transform_single_imgs] Loading data from F:\\ece\\capstone\\code\\py\\data\\abide\\traindata\\29225_0_rest_1.nii.gz\n"
     ]
    },
    {
     "name": "stderr",
     "output_type": "stream",
     "text": [
      "C:\\Users\\June Cai\\AppData\\Roaming\\Python\\Python35\\site-packages\\nilearn\\_utils\\cache_mixin.py:232: DeprecationWarning: The 'cachedir' attribute has been deprecated in version 0.12 and will be removed in version 0.14.\n",
      "Use os.path.join(memory.location, 'joblib') attribute instead.\n",
      "  if (memory.cachedir is None and memory_level is not None\n"
     ]
    },
    {
     "name": "stdout",
     "output_type": "stream",
     "text": [
      "[NiftiLabelsMasker.transform_single_imgs] Resampling images\n"
     ]
    },
    {
     "name": "stderr",
     "output_type": "stream",
     "text": [
      "C:\\Users\\June Cai\\AppData\\Roaming\\Python\\Python35\\site-packages\\nilearn\\image\\resampling.py:510: UserWarning: Casting data from int16 to float32\n",
      "  warnings.warn(\"Casting data from %s to %s\" % (data.dtype.name, aux))\n"
     ]
    },
    {
     "name": "stdout",
     "output_type": "stream",
     "text": [
      "[NiftiLabelsMasker.transform_single_imgs] Extracting region signals\n",
      "[NiftiLabelsMasker.transform_single_imgs] Cleaning extracted signals\n",
      "______________________________________________filter_and_extract - 33.0s, 0.6min\n",
      "[[1.         0.13016191 0.12141365 ... 0.07127614 0.11468488 0.05984647]\n",
      " [0.13016191 1.         0.11564074 ... 0.0679623  0.12144159 0.06571449]\n",
      " [0.12141365 0.11564074 1.         ... 0.10576019 0.09178547 0.05455811]\n",
      " ...\n",
      " [0.07127614 0.0679623  0.10576019 ... 1.         0.04013277 0.02434641]\n",
      " [0.11468488 0.12144159 0.09178547 ... 0.04013277 1.         0.06500287]\n",
      " [0.05984647 0.06571449 0.05455811 ... 0.02434641 0.06500287 1.        ]] (1, -1)\n",
      "(48, 48)\n",
      "processed: 50\n",
      "rest\n",
      "[NiftiLabelsMasker.fit_transform] loading data from C:\\Users\\June Cai/nilearn_data\\fsl\\data\\atlases\\HarvardOxford\\HarvardOxford-cort-maxprob-thr25-2mm.nii.gz\n",
      "________________________________________________________________________________\n",
      "[Memory] Calling nilearn.input_data.base_masker.filter_and_extract...\n",
      "filter_and_extract('F:\\\\ece\\\\capstone\\\\code\\\\py\\\\data\\\\abide\\\\traindata\\\\29226_0_rest_1.nii.gz', <nilearn.input_data.nifti_labels_masker._ExtractionFunctor object at 0x0000029372699588>, \n",
      "{ 'background_label': 0,\n",
      "  'detrend': False,\n",
      "  'dtype': None,\n",
      "  'high_pass': None,\n",
      "  'labels_img': 'C:\\\\Users\\\\June '\n",
      "                'Cai/nilearn_data\\\\fsl\\\\data\\\\atlases\\\\HarvardOxford\\\\HarvardOxford-cort-maxprob-thr25-2mm.nii.gz',\n",
      "  'low_pass': None,\n",
      "  'mask_img': None,\n",
      "  'smoothing_fwhm': None,\n",
      "  'standardize': True,\n",
      "  't_r': None,\n",
      "  'target_affine': array([[  -2.,    0.,    0.,   90.],\n",
      "       [   0.,    2.,    0., -126.],\n",
      "       [   0.,    0.,    2.,  -72.],\n",
      "       [   0.,    0.,    0.,    1.]]),\n",
      "  'target_shape': (91, 109, 91)}, memory=Memory(location=nilearn_cache\\joblib), confounds=None, dtype=None, verbose=5, memory_level=1)\n",
      "[NiftiLabelsMasker.transform_single_imgs] Loading data from F:\\ece\\capstone\\code\\py\\data\\abide\\traindata\\29226_0_rest_1.nii.gz\n"
     ]
    },
    {
     "name": "stderr",
     "output_type": "stream",
     "text": [
      "C:\\Users\\June Cai\\AppData\\Roaming\\Python\\Python35\\site-packages\\nilearn\\_utils\\cache_mixin.py:232: DeprecationWarning: The 'cachedir' attribute has been deprecated in version 0.12 and will be removed in version 0.14.\n",
      "Use os.path.join(memory.location, 'joblib') attribute instead.\n",
      "  if (memory.cachedir is None and memory_level is not None\n"
     ]
    },
    {
     "name": "stdout",
     "output_type": "stream",
     "text": [
      "[NiftiLabelsMasker.transform_single_imgs] Resampling images\n"
     ]
    },
    {
     "name": "stderr",
     "output_type": "stream",
     "text": [
      "C:\\Users\\June Cai\\AppData\\Roaming\\Python\\Python35\\site-packages\\nilearn\\image\\resampling.py:510: UserWarning: Casting data from int16 to float32\n",
      "  warnings.warn(\"Casting data from %s to %s\" % (data.dtype.name, aux))\n"
     ]
    },
    {
     "name": "stdout",
     "output_type": "stream",
     "text": [
      "[NiftiLabelsMasker.transform_single_imgs] Extracting region signals\n",
      "[NiftiLabelsMasker.transform_single_imgs] Cleaning extracted signals\n",
      "______________________________________________filter_and_extract - 27.0s, 0.4min\n",
      "[[1.         0.         0.04622952 ... 0.00849099 0.         0.0290934 ]\n",
      " [0.         1.         0.         ... 0.         0.         0.        ]\n",
      " [0.04622952 0.         1.         ... 0.00869612 0.         0.02979604]\n",
      " ...\n",
      " [0.00849099 0.         0.00869612 ... 1.         0.         0.00654807]\n",
      " [0.         0.         0.         ... 0.         1.         0.        ]\n",
      " [0.0290934  0.         0.02979604 ... 0.00654807 0.         1.        ]] (1, -1)\n",
      "(48, 48)\n",
      "processed: 51\n",
      "rest\n",
      "[NiftiLabelsMasker.fit_transform] loading data from C:\\Users\\June Cai/nilearn_data\\fsl\\data\\atlases\\HarvardOxford\\HarvardOxford-cort-maxprob-thr25-2mm.nii.gz\n",
      "________________________________________________________________________________\n",
      "[Memory] Calling nilearn.input_data.base_masker.filter_and_extract...\n",
      "filter_and_extract('F:\\\\ece\\\\capstone\\\\code\\\\py\\\\data\\\\abide\\\\traindata\\\\29227_0_rest_1.nii.gz', <nilearn.input_data.nifti_labels_masker._ExtractionFunctor object at 0x000002930498D7F0>, \n",
      "{ 'background_label': 0,\n",
      "  'detrend': False,\n",
      "  'dtype': None,\n",
      "  'high_pass': None,\n",
      "  'labels_img': 'C:\\\\Users\\\\June '\n",
      "                'Cai/nilearn_data\\\\fsl\\\\data\\\\atlases\\\\HarvardOxford\\\\HarvardOxford-cort-maxprob-thr25-2mm.nii.gz',\n",
      "  'low_pass': None,\n",
      "  'mask_img': None,\n",
      "  'smoothing_fwhm': None,\n",
      "  'standardize': True,\n",
      "  't_r': None,\n",
      "  'target_affine': array([[  -2.,    0.,    0.,   90.],\n",
      "       [   0.,    2.,    0., -126.],\n",
      "       [   0.,    0.,    2.,  -72.],\n",
      "       [   0.,    0.,    0.,    1.]]),\n",
      "  'target_shape': (91, 109, 91)}, memory=Memory(location=nilearn_cache\\joblib), confounds=None, dtype=None, verbose=5, memory_level=1)\n",
      "[NiftiLabelsMasker.transform_single_imgs] Loading data from F:\\ece\\capstone\\code\\py\\data\\abide\\traindata\\29227_0_rest_1.nii.gz\n"
     ]
    },
    {
     "name": "stderr",
     "output_type": "stream",
     "text": [
      "C:\\Users\\June Cai\\AppData\\Roaming\\Python\\Python35\\site-packages\\nilearn\\_utils\\cache_mixin.py:232: DeprecationWarning: The 'cachedir' attribute has been deprecated in version 0.12 and will be removed in version 0.14.\n",
      "Use os.path.join(memory.location, 'joblib') attribute instead.\n",
      "  if (memory.cachedir is None and memory_level is not None\n"
     ]
    },
    {
     "name": "stdout",
     "output_type": "stream",
     "text": [
      "[NiftiLabelsMasker.transform_single_imgs] Resampling images\n"
     ]
    },
    {
     "name": "stderr",
     "output_type": "stream",
     "text": [
      "C:\\Users\\June Cai\\AppData\\Roaming\\Python\\Python35\\site-packages\\nilearn\\image\\resampling.py:510: UserWarning: Casting data from int16 to float32\n",
      "  warnings.warn(\"Casting data from %s to %s\" % (data.dtype.name, aux))\n"
     ]
    },
    {
     "name": "stdout",
     "output_type": "stream",
     "text": [
      "[NiftiLabelsMasker.transform_single_imgs] Extracting region signals\n",
      "[NiftiLabelsMasker.transform_single_imgs] Cleaning extracted signals\n",
      "______________________________________________filter_and_extract - 30.8s, 0.5min\n",
      "[[1.         0.0623573  0.06266671 ... 0.05076639 0.06141774 0.05695141]\n",
      " [0.0623573  1.         0.06295756 ... 0.0506873  0.06210094 0.05833708]\n",
      " [0.06266671 0.06295756 1.         ... 0.04992545 0.06252427 0.05862833]\n",
      " ...\n",
      " [0.05076639 0.0506873  0.04992545 ... 1.         0.05111466 0.0468129 ]\n",
      " [0.06141774 0.06210094 0.06252427 ... 0.05111466 1.         0.05753091]\n",
      " [0.05695141 0.05833708 0.05862833 ... 0.0468129  0.05753091 1.        ]] (1, -1)\n",
      "(48, 48)\n",
      "processed: 52\n",
      "rest\n",
      "[NiftiLabelsMasker.fit_transform] loading data from C:\\Users\\June Cai/nilearn_data\\fsl\\data\\atlases\\HarvardOxford\\HarvardOxford-cort-maxprob-thr25-2mm.nii.gz\n",
      "________________________________________________________________________________\n",
      "[Memory] Calling nilearn.input_data.base_masker.filter_and_extract...\n",
      "filter_and_extract('F:\\\\ece\\\\capstone\\\\code\\\\py\\\\data\\\\abide\\\\traindata\\\\29228_0_rest_1.nii.gz', <nilearn.input_data.nifti_labels_masker._ExtractionFunctor object at 0x00000293736FA278>, \n",
      "{ 'background_label': 0,\n",
      "  'detrend': False,\n",
      "  'dtype': None,\n",
      "  'high_pass': None,\n",
      "  'labels_img': 'C:\\\\Users\\\\June '\n",
      "                'Cai/nilearn_data\\\\fsl\\\\data\\\\atlases\\\\HarvardOxford\\\\HarvardOxford-cort-maxprob-thr25-2mm.nii.gz',\n",
      "  'low_pass': None,\n",
      "  'mask_img': None,\n",
      "  'smoothing_fwhm': None,\n",
      "  'standardize': True,\n",
      "  't_r': None,\n",
      "  'target_affine': array([[  -2.,    0.,    0.,   90.],\n",
      "       [   0.,    2.,    0., -126.],\n",
      "       [   0.,    0.,    2.,  -72.],\n",
      "       [   0.,    0.,    0.,    1.]]),\n",
      "  'target_shape': (91, 109, 91)}, memory=Memory(location=nilearn_cache\\joblib), confounds=None, dtype=None, verbose=5, memory_level=1)\n",
      "[NiftiLabelsMasker.transform_single_imgs] Loading data from F:\\ece\\capstone\\code\\py\\data\\abide\\traindata\\29228_0_rest_1.nii.gz\n"
     ]
    },
    {
     "name": "stderr",
     "output_type": "stream",
     "text": [
      "C:\\Users\\June Cai\\AppData\\Roaming\\Python\\Python35\\site-packages\\nilearn\\_utils\\cache_mixin.py:232: DeprecationWarning: The 'cachedir' attribute has been deprecated in version 0.12 and will be removed in version 0.14.\n",
      "Use os.path.join(memory.location, 'joblib') attribute instead.\n",
      "  if (memory.cachedir is None and memory_level is not None\n"
     ]
    },
    {
     "name": "stdout",
     "output_type": "stream",
     "text": [
      "[NiftiLabelsMasker.transform_single_imgs] Resampling images\n"
     ]
    },
    {
     "name": "stderr",
     "output_type": "stream",
     "text": [
      "C:\\Users\\June Cai\\AppData\\Roaming\\Python\\Python35\\site-packages\\nilearn\\image\\resampling.py:510: UserWarning: Casting data from int16 to float32\n",
      "  warnings.warn(\"Casting data from %s to %s\" % (data.dtype.name, aux))\n"
     ]
    },
    {
     "name": "stdout",
     "output_type": "stream",
     "text": [
      "[NiftiLabelsMasker.transform_single_imgs] Extracting region signals\n",
      "[NiftiLabelsMasker.transform_single_imgs] Cleaning extracted signals\n",
      "______________________________________________filter_and_extract - 34.4s, 0.6min\n",
      "[[1.         0.22370686 0.23346913 ... 0.1698257  0.18949217 0.13382557]\n",
      " [0.22370686 1.         0.19810358 ... 0.20699927 0.2578443  0.1534757 ]\n",
      " [0.2334691  0.19810358 1.         ... 0.17054749 0.16565244 0.13557082]\n",
      " ...\n",
      " [0.1698257  0.20699927 0.17054749 ... 1.         0.23917495 0.11932609]\n",
      " [0.18949215 0.25784427 0.16565244 ... 0.23917493 1.         0.13847359]\n",
      " [0.13382556 0.1534757  0.13557082 ... 0.11932609 0.13847359 1.        ]] (1, -1)\n",
      "(48, 48)\n",
      "processed: 53\n",
      "rest\n",
      "[NiftiLabelsMasker.fit_transform] loading data from C:\\Users\\June Cai/nilearn_data\\fsl\\data\\atlases\\HarvardOxford\\HarvardOxford-cort-maxprob-thr25-2mm.nii.gz\n",
      "________________________________________________________________________________\n",
      "[Memory] Calling nilearn.input_data.base_masker.filter_and_extract...\n",
      "filter_and_extract('F:\\\\ece\\\\capstone\\\\code\\\\py\\\\data\\\\abide\\\\traindata\\\\29229_0_rest_1.nii.gz', <nilearn.input_data.nifti_labels_masker._ExtractionFunctor object at 0x000002930499E940>, \n",
      "{ 'background_label': 0,\n",
      "  'detrend': False,\n",
      "  'dtype': None,\n",
      "  'high_pass': None,\n",
      "  'labels_img': 'C:\\\\Users\\\\June '\n",
      "                'Cai/nilearn_data\\\\fsl\\\\data\\\\atlases\\\\HarvardOxford\\\\HarvardOxford-cort-maxprob-thr25-2mm.nii.gz',\n",
      "  'low_pass': None,\n",
      "  'mask_img': None,\n",
      "  'smoothing_fwhm': None,\n",
      "  'standardize': True,\n",
      "  't_r': None,\n",
      "  'target_affine': array([[  -2.,    0.,    0.,   90.],\n",
      "       [   0.,    2.,    0., -126.],\n",
      "       [   0.,    0.,    2.,  -72.],\n",
      "       [   0.,    0.,    0.,    1.]]),\n",
      "  'target_shape': (91, 109, 91)}, memory=Memory(location=nilearn_cache\\joblib), confounds=None, dtype=None, verbose=5, memory_level=1)\n",
      "[NiftiLabelsMasker.transform_single_imgs] Loading data from F:\\ece\\capstone\\code\\py\\data\\abide\\traindata\\29229_0_rest_1.nii.gz\n"
     ]
    },
    {
     "name": "stderr",
     "output_type": "stream",
     "text": [
      "C:\\Users\\June Cai\\AppData\\Roaming\\Python\\Python35\\site-packages\\nilearn\\_utils\\cache_mixin.py:232: DeprecationWarning: The 'cachedir' attribute has been deprecated in version 0.12 and will be removed in version 0.14.\n",
      "Use os.path.join(memory.location, 'joblib') attribute instead.\n",
      "  if (memory.cachedir is None and memory_level is not None\n"
     ]
    },
    {
     "name": "stdout",
     "output_type": "stream",
     "text": [
      "[NiftiLabelsMasker.transform_single_imgs] Resampling images\n"
     ]
    },
    {
     "name": "stderr",
     "output_type": "stream",
     "text": [
      "C:\\Users\\June Cai\\AppData\\Roaming\\Python\\Python35\\site-packages\\nilearn\\image\\resampling.py:510: UserWarning: Casting data from int16 to float32\n",
      "  warnings.warn(\"Casting data from %s to %s\" % (data.dtype.name, aux))\n"
     ]
    },
    {
     "name": "stdout",
     "output_type": "stream",
     "text": [
      "[NiftiLabelsMasker.transform_single_imgs] Extracting region signals\n",
      "[NiftiLabelsMasker.transform_single_imgs] Cleaning extracted signals\n",
      "______________________________________________filter_and_extract - 30.3s, 0.5min\n",
      "[[ 1.          0.33677784  0.3636877  ...  0.08983549  0.26067814\n",
      "   0.1622657 ]\n",
      " [ 0.33677784  1.          0.29499838 ... -0.00894742  0.31305555\n",
      "   0.24936347]\n",
      " [ 0.3636877   0.29499838  1.         ...  0.15469317  0.20749485\n",
      "   0.10263169]\n",
      " ...\n",
      " [ 0.08983549 -0.00894742  0.15469317 ...  1.         -0.15084553\n",
      "  -0.16731668]\n",
      " [ 0.26067814  0.31305555  0.20749485 ... -0.15084553  1.\n",
      "   0.25472268]\n",
      " [ 0.1622657   0.24936347  0.10263169 ... -0.16731668  0.25472268\n",
      "   1.        ]] (1, -1)\n",
      "(48, 48)\n",
      "processed: 54\n",
      "rest\n",
      "[NiftiLabelsMasker.fit_transform] loading data from C:\\Users\\June Cai/nilearn_data\\fsl\\data\\atlases\\HarvardOxford\\HarvardOxford-cort-maxprob-thr25-2mm.nii.gz\n",
      "________________________________________________________________________________\n",
      "[Memory] Calling nilearn.input_data.base_masker.filter_and_extract...\n",
      "filter_and_extract('F:\\\\ece\\\\capstone\\\\code\\\\py\\\\data\\\\abide\\\\traindata\\\\29230_0_rest_1.nii.gz', <nilearn.input_data.nifti_labels_masker._ExtractionFunctor object at 0x0000029304957128>, \n",
      "{ 'background_label': 0,\n",
      "  'detrend': False,\n",
      "  'dtype': None,\n",
      "  'high_pass': None,\n",
      "  'labels_img': 'C:\\\\Users\\\\June '\n",
      "                'Cai/nilearn_data\\\\fsl\\\\data\\\\atlases\\\\HarvardOxford\\\\HarvardOxford-cort-maxprob-thr25-2mm.nii.gz',\n",
      "  'low_pass': None,\n",
      "  'mask_img': None,\n",
      "  'smoothing_fwhm': None,\n",
      "  'standardize': True,\n",
      "  't_r': None,\n",
      "  'target_affine': array([[  -2.,    0.,    0.,   90.],\n",
      "       [   0.,    2.,    0., -126.],\n",
      "       [   0.,    0.,    2.,  -72.],\n",
      "       [   0.,    0.,    0.,    1.]]),\n",
      "  'target_shape': (91, 109, 91)}, memory=Memory(location=nilearn_cache\\joblib), confounds=None, dtype=None, verbose=5, memory_level=1)\n",
      "[NiftiLabelsMasker.transform_single_imgs] Loading data from F:\\ece\\capstone\\code\\py\\data\\abide\\traindata\\29230_0_rest_1.nii.gz\n"
     ]
    },
    {
     "name": "stderr",
     "output_type": "stream",
     "text": [
      "C:\\Users\\June Cai\\AppData\\Roaming\\Python\\Python35\\site-packages\\nilearn\\_utils\\cache_mixin.py:232: DeprecationWarning: The 'cachedir' attribute has been deprecated in version 0.12 and will be removed in version 0.14.\n",
      "Use os.path.join(memory.location, 'joblib') attribute instead.\n",
      "  if (memory.cachedir is None and memory_level is not None\n"
     ]
    },
    {
     "name": "stdout",
     "output_type": "stream",
     "text": [
      "[NiftiLabelsMasker.transform_single_imgs] Resampling images\n"
     ]
    },
    {
     "name": "stderr",
     "output_type": "stream",
     "text": [
      "C:\\Users\\June Cai\\AppData\\Roaming\\Python\\Python35\\site-packages\\nilearn\\image\\resampling.py:510: UserWarning: Casting data from int16 to float32\n",
      "  warnings.warn(\"Casting data from %s to %s\" % (data.dtype.name, aux))\n"
     ]
    },
    {
     "name": "stdout",
     "output_type": "stream",
     "text": [
      "[NiftiLabelsMasker.transform_single_imgs] Extracting region signals\n",
      "[NiftiLabelsMasker.transform_single_imgs] Cleaning extracted signals\n",
      "______________________________________________filter_and_extract - 32.4s, 0.5min\n",
      "[[1.         0.3939263  0.4112448  ... 0.31828883 0.35826546 0.24514395]\n",
      " [0.3939263  1.         0.3823999  ... 0.36752763 0.3830768  0.3163023 ]\n",
      " [0.4112448  0.3823999  1.         ... 0.30662733 0.35135466 0.2270885 ]\n",
      " ...\n",
      " [0.31828883 0.36752763 0.30662733 ... 1.         0.39036503 0.36350775]\n",
      " [0.35826546 0.3830768  0.35135466 ... 0.39036503 1.         0.3381368 ]\n",
      " [0.24514395 0.31630233 0.22708851 ... 0.36350775 0.3381368  1.        ]] (1, -1)\n",
      "(48, 48)\n",
      "processed: 55\n",
      "rest\n",
      "[NiftiLabelsMasker.fit_transform] loading data from C:\\Users\\June Cai/nilearn_data\\fsl\\data\\atlases\\HarvardOxford\\HarvardOxford-cort-maxprob-thr25-2mm.nii.gz\n",
      "________________________________________________________________________________\n",
      "[Memory] Calling nilearn.input_data.base_masker.filter_and_extract...\n",
      "filter_and_extract('F:\\\\ece\\\\capstone\\\\code\\\\py\\\\data\\\\abide\\\\traindata\\\\29231_0_rest_1.nii.gz', <nilearn.input_data.nifti_labels_masker._ExtractionFunctor object at 0x000002930499E9B0>, \n",
      "{ 'background_label': 0,\n",
      "  'detrend': False,\n",
      "  'dtype': None,\n",
      "  'high_pass': None,\n",
      "  'labels_img': 'C:\\\\Users\\\\June '\n",
      "                'Cai/nilearn_data\\\\fsl\\\\data\\\\atlases\\\\HarvardOxford\\\\HarvardOxford-cort-maxprob-thr25-2mm.nii.gz',\n",
      "  'low_pass': None,\n",
      "  'mask_img': None,\n",
      "  'smoothing_fwhm': None,\n",
      "  'standardize': True,\n",
      "  't_r': None,\n",
      "  'target_affine': array([[  -2.,    0.,    0.,   90.],\n",
      "       [   0.,    2.,    0., -126.],\n",
      "       [   0.,    0.,    2.,  -72.],\n",
      "       [   0.,    0.,    0.,    1.]]),\n",
      "  'target_shape': (91, 109, 91)}, memory=Memory(location=nilearn_cache\\joblib), confounds=None, dtype=None, verbose=5, memory_level=1)\n",
      "[NiftiLabelsMasker.transform_single_imgs] Loading data from F:\\ece\\capstone\\code\\py\\data\\abide\\traindata\\29231_0_rest_1.nii.gz\n"
     ]
    },
    {
     "name": "stderr",
     "output_type": "stream",
     "text": [
      "C:\\Users\\June Cai\\AppData\\Roaming\\Python\\Python35\\site-packages\\nilearn\\_utils\\cache_mixin.py:232: DeprecationWarning: The 'cachedir' attribute has been deprecated in version 0.12 and will be removed in version 0.14.\n",
      "Use os.path.join(memory.location, 'joblib') attribute instead.\n",
      "  if (memory.cachedir is None and memory_level is not None\n"
     ]
    },
    {
     "name": "stdout",
     "output_type": "stream",
     "text": [
      "[NiftiLabelsMasker.transform_single_imgs] Resampling images\n"
     ]
    },
    {
     "name": "stderr",
     "output_type": "stream",
     "text": [
      "C:\\Users\\June Cai\\AppData\\Roaming\\Python\\Python35\\site-packages\\nilearn\\image\\resampling.py:510: UserWarning: Casting data from int16 to float32\n",
      "  warnings.warn(\"Casting data from %s to %s\" % (data.dtype.name, aux))\n"
     ]
    },
    {
     "name": "stdout",
     "output_type": "stream",
     "text": [
      "[NiftiLabelsMasker.transform_single_imgs] Extracting region signals\n",
      "[NiftiLabelsMasker.transform_single_imgs] Cleaning extracted signals\n",
      "______________________________________________filter_and_extract - 38.3s, 0.6min\n",
      "[[1.         0.14038919 0.15725344 ... 0.12028486 0.13199301 0.07651537]\n",
      " [0.14038919 1.         0.14736535 ... 0.15715489 0.15332763 0.12609293]\n",
      " [0.15725344 0.14736535 1.         ... 0.13986877 0.14266965 0.09461434]\n",
      " ...\n",
      " [0.12028487 0.15715489 0.13986877 ... 1.         0.15014759 0.13357265]\n",
      " [0.13199303 0.15332763 0.14266965 ... 0.15014759 1.         0.12602161]\n",
      " [0.07651537 0.12609293 0.09461434 ... 0.13357265 0.12602161 1.        ]] (1, -1)\n",
      "(48, 48)\n",
      "processed: 56\n",
      "rest\n",
      "[NiftiLabelsMasker.fit_transform] loading data from C:\\Users\\June Cai/nilearn_data\\fsl\\data\\atlases\\HarvardOxford\\HarvardOxford-cort-maxprob-thr25-2mm.nii.gz\n",
      "________________________________________________________________________________\n",
      "[Memory] Calling nilearn.input_data.base_masker.filter_and_extract...\n",
      "filter_and_extract('F:\\\\ece\\\\capstone\\\\code\\\\py\\\\data\\\\abide\\\\traindata\\\\29232_0_rest_1.nii.gz', <nilearn.input_data.nifti_labels_masker._ExtractionFunctor object at 0x0000029302D70EF0>, \n",
      "{ 'background_label': 0,\n",
      "  'detrend': False,\n",
      "  'dtype': None,\n",
      "  'high_pass': None,\n",
      "  'labels_img': 'C:\\\\Users\\\\June '\n",
      "                'Cai/nilearn_data\\\\fsl\\\\data\\\\atlases\\\\HarvardOxford\\\\HarvardOxford-cort-maxprob-thr25-2mm.nii.gz',\n",
      "  'low_pass': None,\n",
      "  'mask_img': None,\n",
      "  'smoothing_fwhm': None,\n",
      "  'standardize': True,\n",
      "  't_r': None,\n",
      "  'target_affine': array([[  -2.,    0.,    0.,   90.],\n",
      "       [   0.,    2.,    0., -126.],\n",
      "       [   0.,    0.,    2.,  -72.],\n",
      "       [   0.,    0.,    0.,    1.]]),\n",
      "  'target_shape': (91, 109, 91)}, memory=Memory(location=nilearn_cache\\joblib), confounds=None, dtype=None, verbose=5, memory_level=1)\n",
      "[NiftiLabelsMasker.transform_single_imgs] Loading data from F:\\ece\\capstone\\code\\py\\data\\abide\\traindata\\29232_0_rest_1.nii.gz\n"
     ]
    },
    {
     "name": "stderr",
     "output_type": "stream",
     "text": [
      "C:\\Users\\June Cai\\AppData\\Roaming\\Python\\Python35\\site-packages\\nilearn\\_utils\\cache_mixin.py:232: DeprecationWarning: The 'cachedir' attribute has been deprecated in version 0.12 and will be removed in version 0.14.\n",
      "Use os.path.join(memory.location, 'joblib') attribute instead.\n",
      "  if (memory.cachedir is None and memory_level is not None\n"
     ]
    },
    {
     "name": "stdout",
     "output_type": "stream",
     "text": [
      "[NiftiLabelsMasker.transform_single_imgs] Resampling images\n"
     ]
    },
    {
     "name": "stderr",
     "output_type": "stream",
     "text": [
      "C:\\Users\\June Cai\\AppData\\Roaming\\Python\\Python35\\site-packages\\nilearn\\image\\resampling.py:510: UserWarning: Casting data from int16 to float32\n",
      "  warnings.warn(\"Casting data from %s to %s\" % (data.dtype.name, aux))\n"
     ]
    },
    {
     "name": "stdout",
     "output_type": "stream",
     "text": [
      "[NiftiLabelsMasker.transform_single_imgs] Extracting region signals\n",
      "[NiftiLabelsMasker.transform_single_imgs] Cleaning extracted signals\n",
      "______________________________________________filter_and_extract - 35.8s, 0.6min\n",
      "[[1.         0.12043546 0.12826979 ... 0.11387379 0.11731531 0.04537256]\n",
      " [0.12043547 1.         0.1282341  ... 0.11650331 0.12227756 0.04950205]\n",
      " [0.12826979 0.12823409 1.         ... 0.12951848 0.12499426 0.05471921]\n",
      " ...\n",
      " [0.11387379 0.11650329 0.12951848 ... 1.         0.12552279 0.05719023]\n",
      " [0.11731531 0.12227756 0.12499426 ... 0.12552279 1.         0.04405519]\n",
      " [0.04537256 0.04950205 0.05471921 ... 0.05719023 0.04405519 1.        ]] (1, -1)\n",
      "(48, 48)\n",
      "processed: 57\n",
      "rest\n",
      "[NiftiLabelsMasker.fit_transform] loading data from C:\\Users\\June Cai/nilearn_data\\fsl\\data\\atlases\\HarvardOxford\\HarvardOxford-cort-maxprob-thr25-2mm.nii.gz\n",
      "________________________________________________________________________________\n",
      "[Memory] Calling nilearn.input_data.base_masker.filter_and_extract...\n",
      "filter_and_extract('F:\\\\ece\\\\capstone\\\\code\\\\py\\\\data\\\\abide\\\\traindata\\\\29233_0_rest_1.nii.gz', <nilearn.input_data.nifti_labels_masker._ExtractionFunctor object at 0x00000293736FFBE0>, \n",
      "{ 'background_label': 0,\n",
      "  'detrend': False,\n",
      "  'dtype': None,\n",
      "  'high_pass': None,\n",
      "  'labels_img': 'C:\\\\Users\\\\June '\n",
      "                'Cai/nilearn_data\\\\fsl\\\\data\\\\atlases\\\\HarvardOxford\\\\HarvardOxford-cort-maxprob-thr25-2mm.nii.gz',\n",
      "  'low_pass': None,\n",
      "  'mask_img': None,\n",
      "  'smoothing_fwhm': None,\n",
      "  'standardize': True,\n",
      "  't_r': None,\n",
      "  'target_affine': array([[  -2.,    0.,    0.,   90.],\n",
      "       [   0.,    2.,    0., -126.],\n",
      "       [   0.,    0.,    2.,  -72.],\n",
      "       [   0.,    0.,    0.,    1.]]),\n",
      "  'target_shape': (91, 109, 91)}, memory=Memory(location=nilearn_cache\\joblib), confounds=None, dtype=None, verbose=5, memory_level=1)\n",
      "[NiftiLabelsMasker.transform_single_imgs] Loading data from F:\\ece\\capstone\\code\\py\\data\\abide\\traindata\\29233_0_rest_1.nii.gz\n"
     ]
    },
    {
     "name": "stderr",
     "output_type": "stream",
     "text": [
      "C:\\Users\\June Cai\\AppData\\Roaming\\Python\\Python35\\site-packages\\nilearn\\_utils\\cache_mixin.py:232: DeprecationWarning: The 'cachedir' attribute has been deprecated in version 0.12 and will be removed in version 0.14.\n",
      "Use os.path.join(memory.location, 'joblib') attribute instead.\n",
      "  if (memory.cachedir is None and memory_level is not None\n"
     ]
    },
    {
     "name": "stdout",
     "output_type": "stream",
     "text": [
      "[NiftiLabelsMasker.transform_single_imgs] Resampling images\n"
     ]
    },
    {
     "name": "stderr",
     "output_type": "stream",
     "text": [
      "C:\\Users\\June Cai\\AppData\\Roaming\\Python\\Python35\\site-packages\\nilearn\\image\\resampling.py:510: UserWarning: Casting data from int16 to float32\n",
      "  warnings.warn(\"Casting data from %s to %s\" % (data.dtype.name, aux))\n"
     ]
    },
    {
     "name": "stdout",
     "output_type": "stream",
     "text": [
      "[NiftiLabelsMasker.transform_single_imgs] Extracting region signals\n",
      "[NiftiLabelsMasker.transform_single_imgs] Cleaning extracted signals\n",
      "______________________________________________filter_and_extract - 34.0s, 0.6min\n",
      "[[1.         0.16576625 0.16748935 ... 0.1386398  0.16469328 0.14069793]\n",
      " [0.16576625 1.         0.16568588 ... 0.14621873 0.16593309 0.1470494 ]\n",
      " [0.16748935 0.16568588 1.         ... 0.13421912 0.16450915 0.13582954]\n",
      " ...\n",
      " [0.1386398  0.14621873 0.13421912 ... 1.         0.14764826 0.16201468]\n",
      " [0.16469328 0.16593309 0.16450915 ... 0.14764826 1.         0.14859901]\n",
      " [0.14069793 0.1470494  0.13582954 ... 0.16201468 0.14859901 1.        ]] (1, -1)\n",
      "(48, 48)\n",
      "processed: 58\n",
      "rest\n",
      "[NiftiLabelsMasker.fit_transform] loading data from C:\\Users\\June Cai/nilearn_data\\fsl\\data\\atlases\\HarvardOxford\\HarvardOxford-cort-maxprob-thr25-2mm.nii.gz\n",
      "________________________________________________________________________________\n",
      "[Memory] Calling nilearn.input_data.base_masker.filter_and_extract...\n",
      "filter_and_extract('F:\\\\ece\\\\capstone\\\\code\\\\py\\\\data\\\\abide\\\\traindata\\\\29234_0_rest_1.nii.gz', <nilearn.input_data.nifti_labels_masker._ExtractionFunctor object at 0x000002937F76E358>, \n",
      "{ 'background_label': 0,\n",
      "  'detrend': False,\n",
      "  'dtype': None,\n",
      "  'high_pass': None,\n",
      "  'labels_img': 'C:\\\\Users\\\\June '\n",
      "                'Cai/nilearn_data\\\\fsl\\\\data\\\\atlases\\\\HarvardOxford\\\\HarvardOxford-cort-maxprob-thr25-2mm.nii.gz',\n",
      "  'low_pass': None,\n",
      "  'mask_img': None,\n",
      "  'smoothing_fwhm': None,\n",
      "  'standardize': True,\n",
      "  't_r': None,\n",
      "  'target_affine': array([[  -2.,    0.,    0.,   90.],\n",
      "       [   0.,    2.,    0., -126.],\n",
      "       [   0.,    0.,    2.,  -72.],\n",
      "       [   0.,    0.,    0.,    1.]]),\n",
      "  'target_shape': (91, 109, 91)}, memory=Memory(location=nilearn_cache\\joblib), confounds=None, dtype=None, verbose=5, memory_level=1)\n",
      "[NiftiLabelsMasker.transform_single_imgs] Loading data from F:\\ece\\capstone\\code\\py\\data\\abide\\traindata\\29234_0_rest_1.nii.gz\n"
     ]
    },
    {
     "name": "stderr",
     "output_type": "stream",
     "text": [
      "C:\\Users\\June Cai\\AppData\\Roaming\\Python\\Python35\\site-packages\\nilearn\\_utils\\cache_mixin.py:232: DeprecationWarning: The 'cachedir' attribute has been deprecated in version 0.12 and will be removed in version 0.14.\n",
      "Use os.path.join(memory.location, 'joblib') attribute instead.\n",
      "  if (memory.cachedir is None and memory_level is not None\n"
     ]
    },
    {
     "name": "stdout",
     "output_type": "stream",
     "text": [
      "[NiftiLabelsMasker.transform_single_imgs] Resampling images\n"
     ]
    },
    {
     "name": "stderr",
     "output_type": "stream",
     "text": [
      "C:\\Users\\June Cai\\AppData\\Roaming\\Python\\Python35\\site-packages\\nilearn\\image\\resampling.py:510: UserWarning: Casting data from int16 to float32\n",
      "  warnings.warn(\"Casting data from %s to %s\" % (data.dtype.name, aux))\n"
     ]
    },
    {
     "name": "stdout",
     "output_type": "stream",
     "text": [
      "[NiftiLabelsMasker.transform_single_imgs] Extracting region signals\n",
      "[NiftiLabelsMasker.transform_single_imgs] Cleaning extracted signals\n",
      "______________________________________________filter_and_extract - 32.4s, 0.5min\n",
      "[[1.         0.3773924  0.53873014 ... 0.37294993 0.4674229  0.3942666 ]\n",
      " [0.3773924  1.         0.2316753  ... 0.5214355  0.72468626 0.7580278 ]\n",
      " [0.53873014 0.2316753  1.         ... 0.29302847 0.39182237 0.27758747]\n",
      " ...\n",
      " [0.37294993 0.52143556 0.29302847 ... 1.         0.5539955  0.53186697]\n",
      " [0.4674229  0.7246862  0.39182237 ... 0.5539955  1.         0.7373511 ]\n",
      " [0.3942666  0.7580278  0.27758747 ... 0.53186697 0.7373511  1.        ]] (1, -1)\n",
      "(48, 48)\n",
      "processed: 59\n",
      "rest\n",
      "[NiftiLabelsMasker.fit_transform] loading data from C:\\Users\\June Cai/nilearn_data\\fsl\\data\\atlases\\HarvardOxford\\HarvardOxford-cort-maxprob-thr25-2mm.nii.gz\n",
      "________________________________________________________________________________\n",
      "[Memory] Calling nilearn.input_data.base_masker.filter_and_extract...\n",
      "filter_and_extract('F:\\\\ece\\\\capstone\\\\code\\\\py\\\\data\\\\abide\\\\traindata\\\\29235_0_rest_1.nii.gz', <nilearn.input_data.nifti_labels_masker._ExtractionFunctor object at 0x00000293049150B8>, \n",
      "{ 'background_label': 0,\n",
      "  'detrend': False,\n",
      "  'dtype': None,\n",
      "  'high_pass': None,\n",
      "  'labels_img': 'C:\\\\Users\\\\June '\n",
      "                'Cai/nilearn_data\\\\fsl\\\\data\\\\atlases\\\\HarvardOxford\\\\HarvardOxford-cort-maxprob-thr25-2mm.nii.gz',\n",
      "  'low_pass': None,\n",
      "  'mask_img': None,\n",
      "  'smoothing_fwhm': None,\n",
      "  'standardize': True,\n",
      "  't_r': None,\n",
      "  'target_affine': array([[  -2.,    0.,    0.,   90.],\n",
      "       [   0.,    2.,    0., -126.],\n",
      "       [   0.,    0.,    2.,  -72.],\n",
      "       [   0.,    0.,    0.,    1.]]),\n",
      "  'target_shape': (91, 109, 91)}, memory=Memory(location=nilearn_cache\\joblib), confounds=None, dtype=None, verbose=5, memory_level=1)\n",
      "[NiftiLabelsMasker.transform_single_imgs] Loading data from F:\\ece\\capstone\\code\\py\\data\\abide\\traindata\\29235_0_rest_1.nii.gz\n"
     ]
    },
    {
     "name": "stderr",
     "output_type": "stream",
     "text": [
      "C:\\Users\\June Cai\\AppData\\Roaming\\Python\\Python35\\site-packages\\nilearn\\_utils\\cache_mixin.py:232: DeprecationWarning: The 'cachedir' attribute has been deprecated in version 0.12 and will be removed in version 0.14.\n",
      "Use os.path.join(memory.location, 'joblib') attribute instead.\n",
      "  if (memory.cachedir is None and memory_level is not None\n"
     ]
    },
    {
     "name": "stdout",
     "output_type": "stream",
     "text": [
      "[NiftiLabelsMasker.transform_single_imgs] Resampling images\n"
     ]
    },
    {
     "name": "stderr",
     "output_type": "stream",
     "text": [
      "C:\\Users\\June Cai\\AppData\\Roaming\\Python\\Python35\\site-packages\\nilearn\\image\\resampling.py:510: UserWarning: Casting data from int16 to float32\n",
      "  warnings.warn(\"Casting data from %s to %s\" % (data.dtype.name, aux))\n"
     ]
    },
    {
     "name": "stdout",
     "output_type": "stream",
     "text": [
      "[NiftiLabelsMasker.transform_single_imgs] Extracting region signals\n",
      "[NiftiLabelsMasker.transform_single_imgs] Cleaning extracted signals\n",
      "______________________________________________filter_and_extract - 33.7s, 0.6min\n",
      "[[1.         0.08577359 0.08867925 ... 0.08258959 0.08740395 0.06849398]\n",
      " [0.08577359 1.         0.08212849 ... 0.07175429 0.08599189 0.06547618]\n",
      " [0.08867925 0.08212849 1.         ... 0.08585116 0.08613554 0.06847258]\n",
      " ...\n",
      " [0.08258959 0.07175429 0.08585116 ... 1.         0.07945627 0.06419153]\n",
      " [0.08740395 0.08599189 0.08613554 ... 0.07945627 1.         0.06599587]\n",
      " [0.06849398 0.06547618 0.06847258 ... 0.06419153 0.06599587 1.        ]] (1, -1)\n",
      "(48, 48)\n",
      "processed: 60\n",
      "rest\n",
      "[NiftiLabelsMasker.fit_transform] loading data from C:\\Users\\June Cai/nilearn_data\\fsl\\data\\atlases\\HarvardOxford\\HarvardOxford-cort-maxprob-thr25-2mm.nii.gz\n",
      "________________________________________________________________________________\n",
      "[Memory] Calling nilearn.input_data.base_masker.filter_and_extract...\n",
      "filter_and_extract('F:\\\\ece\\\\capstone\\\\code\\\\py\\\\data\\\\abide\\\\traindata\\\\29236_0_rest_1.nii.gz', <nilearn.input_data.nifti_labels_masker._ExtractionFunctor object at 0x000002930499E940>, \n",
      "{ 'background_label': 0,\n",
      "  'detrend': False,\n",
      "  'dtype': None,\n",
      "  'high_pass': None,\n",
      "  'labels_img': 'C:\\\\Users\\\\June '\n",
      "                'Cai/nilearn_data\\\\fsl\\\\data\\\\atlases\\\\HarvardOxford\\\\HarvardOxford-cort-maxprob-thr25-2mm.nii.gz',\n",
      "  'low_pass': None,\n",
      "  'mask_img': None,\n",
      "  'smoothing_fwhm': None,\n",
      "  'standardize': True,\n",
      "  't_r': None,\n",
      "  'target_affine': array([[  -2.,    0.,    0.,   90.],\n",
      "       [   0.,    2.,    0., -126.],\n",
      "       [   0.,    0.,    2.,  -72.],\n",
      "       [   0.,    0.,    0.,    1.]]),\n",
      "  'target_shape': (91, 109, 91)}, memory=Memory(location=nilearn_cache\\joblib), confounds=None, dtype=None, verbose=5, memory_level=1)\n",
      "[NiftiLabelsMasker.transform_single_imgs] Loading data from F:\\ece\\capstone\\code\\py\\data\\abide\\traindata\\29236_0_rest_1.nii.gz\n"
     ]
    },
    {
     "name": "stderr",
     "output_type": "stream",
     "text": [
      "C:\\Users\\June Cai\\AppData\\Roaming\\Python\\Python35\\site-packages\\nilearn\\_utils\\cache_mixin.py:232: DeprecationWarning: The 'cachedir' attribute has been deprecated in version 0.12 and will be removed in version 0.14.\n",
      "Use os.path.join(memory.location, 'joblib') attribute instead.\n",
      "  if (memory.cachedir is None and memory_level is not None\n"
     ]
    },
    {
     "name": "stdout",
     "output_type": "stream",
     "text": [
      "[NiftiLabelsMasker.transform_single_imgs] Resampling images\n"
     ]
    },
    {
     "name": "stderr",
     "output_type": "stream",
     "text": [
      "C:\\Users\\June Cai\\AppData\\Roaming\\Python\\Python35\\site-packages\\nilearn\\image\\resampling.py:510: UserWarning: Casting data from int16 to float32\n",
      "  warnings.warn(\"Casting data from %s to %s\" % (data.dtype.name, aux))\n"
     ]
    },
    {
     "name": "stdout",
     "output_type": "stream",
     "text": [
      "[NiftiLabelsMasker.transform_single_imgs] Extracting region signals\n",
      "[NiftiLabelsMasker.transform_single_imgs] Cleaning extracted signals\n",
      "______________________________________________filter_and_extract - 35.9s, 0.6min\n",
      "[[1.         0.07406539 0.07417994 ... 0.06811687 0.07159149 0.02233609]\n",
      " [0.07406539 1.         0.07413423 ... 0.06874205 0.07220447 0.02219848]\n",
      " [0.07417994 0.07413423 1.         ... 0.06739758 0.07160968 0.02113475]\n",
      " ...\n",
      " [0.06811687 0.06874205 0.06739758 ... 1.         0.0661841  0.02324837]\n",
      " [0.07159149 0.07220447 0.07160968 ... 0.0661841  1.         0.02112603]\n",
      " [0.02233609 0.02219848 0.02113475 ... 0.02324837 0.02112603 1.        ]] (1, -1)\n",
      "(48, 48)\n",
      "processed: 61\n",
      "rest\n",
      "[NiftiLabelsMasker.fit_transform] loading data from C:\\Users\\June Cai/nilearn_data\\fsl\\data\\atlases\\HarvardOxford\\HarvardOxford-cort-maxprob-thr25-2mm.nii.gz\n",
      "________________________________________________________________________________\n",
      "[Memory] Calling nilearn.input_data.base_masker.filter_and_extract...\n",
      "filter_and_extract('F:\\\\ece\\\\capstone\\\\code\\\\py\\\\data\\\\abide\\\\traindata\\\\29237_0_rest_1.nii.gz', <nilearn.input_data.nifti_labels_masker._ExtractionFunctor object at 0x000002930474C7B8>, \n",
      "{ 'background_label': 0,\n",
      "  'detrend': False,\n",
      "  'dtype': None,\n",
      "  'high_pass': None,\n",
      "  'labels_img': 'C:\\\\Users\\\\June '\n",
      "                'Cai/nilearn_data\\\\fsl\\\\data\\\\atlases\\\\HarvardOxford\\\\HarvardOxford-cort-maxprob-thr25-2mm.nii.gz',\n",
      "  'low_pass': None,\n",
      "  'mask_img': None,\n",
      "  'smoothing_fwhm': None,\n",
      "  'standardize': True,\n",
      "  't_r': None,\n",
      "  'target_affine': array([[  -2.,    0.,    0.,   90.],\n",
      "       [   0.,    2.,    0., -126.],\n",
      "       [   0.,    0.,    2.,  -72.],\n",
      "       [   0.,    0.,    0.,    1.]]),\n",
      "  'target_shape': (91, 109, 91)}, memory=Memory(location=nilearn_cache\\joblib), confounds=None, dtype=None, verbose=5, memory_level=1)\n",
      "[NiftiLabelsMasker.transform_single_imgs] Loading data from F:\\ece\\capstone\\code\\py\\data\\abide\\traindata\\29237_0_rest_1.nii.gz\n"
     ]
    },
    {
     "name": "stderr",
     "output_type": "stream",
     "text": [
      "C:\\Users\\June Cai\\AppData\\Roaming\\Python\\Python35\\site-packages\\nilearn\\_utils\\cache_mixin.py:232: DeprecationWarning: The 'cachedir' attribute has been deprecated in version 0.12 and will be removed in version 0.14.\n",
      "Use os.path.join(memory.location, 'joblib') attribute instead.\n",
      "  if (memory.cachedir is None and memory_level is not None\n"
     ]
    },
    {
     "name": "stdout",
     "output_type": "stream",
     "text": [
      "[NiftiLabelsMasker.transform_single_imgs] Resampling images\n"
     ]
    },
    {
     "name": "stderr",
     "output_type": "stream",
     "text": [
      "C:\\Users\\June Cai\\AppData\\Roaming\\Python\\Python35\\site-packages\\nilearn\\image\\resampling.py:510: UserWarning: Casting data from int16 to float32\n",
      "  warnings.warn(\"Casting data from %s to %s\" % (data.dtype.name, aux))\n"
     ]
    },
    {
     "name": "stdout",
     "output_type": "stream",
     "text": [
      "[NiftiLabelsMasker.transform_single_imgs] Extracting region signals\n",
      "[NiftiLabelsMasker.transform_single_imgs] Cleaning extracted signals\n",
      "______________________________________________filter_and_extract - 31.9s, 0.5min\n",
      "[[1.         0.04130886 0.04345839 ... 0.03245399 0.04301951 0.02781593]\n",
      " [0.04130886 1.         0.04853302 ... 0.04542138 0.04339983 0.02678355]\n",
      " [0.04345839 0.04853302 1.         ... 0.04338097 0.04800905 0.03022775]\n",
      " ...\n",
      " [0.03245399 0.04542138 0.04338097 ... 1.         0.03662534 0.02317264]\n",
      " [0.04301951 0.04339983 0.04800905 ... 0.03662534 1.         0.0309101 ]\n",
      " [0.02781593 0.02678355 0.03022775 ... 0.02317264 0.0309101  1.        ]] (1, -1)\n",
      "(48, 48)\n",
      "processed: 62\n",
      "rest\n",
      "[NiftiLabelsMasker.fit_transform] loading data from C:\\Users\\June Cai/nilearn_data\\fsl\\data\\atlases\\HarvardOxford\\HarvardOxford-cort-maxprob-thr25-2mm.nii.gz\n",
      "________________________________________________________________________________\n",
      "[Memory] Calling nilearn.input_data.base_masker.filter_and_extract...\n",
      "filter_and_extract('F:\\\\ece\\\\capstone\\\\code\\\\py\\\\data\\\\abide\\\\traindata\\\\29238_0_rest_1.nii.gz', <nilearn.input_data.nifti_labels_masker._ExtractionFunctor object at 0x000002937FEB9E10>, \n",
      "{ 'background_label': 0,\n",
      "  'detrend': False,\n",
      "  'dtype': None,\n",
      "  'high_pass': None,\n",
      "  'labels_img': 'C:\\\\Users\\\\June '\n",
      "                'Cai/nilearn_data\\\\fsl\\\\data\\\\atlases\\\\HarvardOxford\\\\HarvardOxford-cort-maxprob-thr25-2mm.nii.gz',\n",
      "  'low_pass': None,\n",
      "  'mask_img': None,\n",
      "  'smoothing_fwhm': None,\n",
      "  'standardize': True,\n",
      "  't_r': None,\n",
      "  'target_affine': array([[  -2.,    0.,    0.,   90.],\n",
      "       [   0.,    2.,    0., -126.],\n",
      "       [   0.,    0.,    2.,  -72.],\n",
      "       [   0.,    0.,    0.,    1.]]),\n",
      "  'target_shape': (91, 109, 91)}, memory=Memory(location=nilearn_cache\\joblib), confounds=None, dtype=None, verbose=5, memory_level=1)\n",
      "[NiftiLabelsMasker.transform_single_imgs] Loading data from F:\\ece\\capstone\\code\\py\\data\\abide\\traindata\\29238_0_rest_1.nii.gz\n"
     ]
    },
    {
     "name": "stderr",
     "output_type": "stream",
     "text": [
      "C:\\Users\\June Cai\\AppData\\Roaming\\Python\\Python35\\site-packages\\nilearn\\_utils\\cache_mixin.py:232: DeprecationWarning: The 'cachedir' attribute has been deprecated in version 0.12 and will be removed in version 0.14.\n",
      "Use os.path.join(memory.location, 'joblib') attribute instead.\n",
      "  if (memory.cachedir is None and memory_level is not None\n"
     ]
    },
    {
     "name": "stdout",
     "output_type": "stream",
     "text": [
      "[NiftiLabelsMasker.transform_single_imgs] Resampling images\n"
     ]
    },
    {
     "name": "stderr",
     "output_type": "stream",
     "text": [
      "C:\\Users\\June Cai\\AppData\\Roaming\\Python\\Python35\\site-packages\\nilearn\\image\\resampling.py:510: UserWarning: Casting data from int16 to float32\n",
      "  warnings.warn(\"Casting data from %s to %s\" % (data.dtype.name, aux))\n"
     ]
    },
    {
     "name": "stdout",
     "output_type": "stream",
     "text": [
      "[NiftiLabelsMasker.transform_single_imgs] Extracting region signals\n",
      "[NiftiLabelsMasker.transform_single_imgs] Cleaning extracted signals\n",
      "______________________________________________filter_and_extract - 37.0s, 0.6min\n",
      "[[1.         0.08005151 0.07993624 ... 0.07866804 0.0766663  0.05179014]\n",
      " [0.08005151 1.         0.07908892 ... 0.07908857 0.07650787 0.05173561]\n",
      " [0.07993624 0.07908892 1.         ... 0.07738543 0.07703113 0.05228227]\n",
      " ...\n",
      " [0.07866804 0.07908857 0.07738543 ... 1.         0.07636301 0.05006794]\n",
      " [0.0766663  0.07650787 0.07703113 ... 0.07636301 1.         0.05125207]\n",
      " [0.05179014 0.05173561 0.05228227 ... 0.05006794 0.05125207 1.        ]] (1, -1)\n",
      "(48, 48)\n",
      "processed: 63\n",
      "rest\n",
      "[NiftiLabelsMasker.fit_transform] loading data from C:\\Users\\June Cai/nilearn_data\\fsl\\data\\atlases\\HarvardOxford\\HarvardOxford-cort-maxprob-thr25-2mm.nii.gz\n",
      "________________________________________________________________________________\n",
      "[Memory] Calling nilearn.input_data.base_masker.filter_and_extract...\n",
      "filter_and_extract('F:\\\\ece\\\\capstone\\\\code\\\\py\\\\data\\\\abide\\\\traindata\\\\29239_0_rest_1.nii.gz', <nilearn.input_data.nifti_labels_masker._ExtractionFunctor object at 0x000002930474C7B8>, \n",
      "{ 'background_label': 0,\n",
      "  'detrend': False,\n",
      "  'dtype': None,\n",
      "  'high_pass': None,\n",
      "  'labels_img': 'C:\\\\Users\\\\June '\n",
      "                'Cai/nilearn_data\\\\fsl\\\\data\\\\atlases\\\\HarvardOxford\\\\HarvardOxford-cort-maxprob-thr25-2mm.nii.gz',\n",
      "  'low_pass': None,\n",
      "  'mask_img': None,\n",
      "  'smoothing_fwhm': None,\n",
      "  'standardize': True,\n",
      "  't_r': None,\n",
      "  'target_affine': array([[  -2.,    0.,    0.,   90.],\n",
      "       [   0.,    2.,    0., -126.],\n",
      "       [   0.,    0.,    2.,  -72.],\n",
      "       [   0.,    0.,    0.,    1.]]),\n",
      "  'target_shape': (91, 109, 91)}, memory=Memory(location=nilearn_cache\\joblib), confounds=None, dtype=None, verbose=5, memory_level=1)\n",
      "[NiftiLabelsMasker.transform_single_imgs] Loading data from F:\\ece\\capstone\\code\\py\\data\\abide\\traindata\\29239_0_rest_1.nii.gz\n"
     ]
    },
    {
     "name": "stderr",
     "output_type": "stream",
     "text": [
      "C:\\Users\\June Cai\\AppData\\Roaming\\Python\\Python35\\site-packages\\nilearn\\_utils\\cache_mixin.py:232: DeprecationWarning: The 'cachedir' attribute has been deprecated in version 0.12 and will be removed in version 0.14.\n",
      "Use os.path.join(memory.location, 'joblib') attribute instead.\n",
      "  if (memory.cachedir is None and memory_level is not None\n"
     ]
    },
    {
     "name": "stdout",
     "output_type": "stream",
     "text": [
      "[NiftiLabelsMasker.transform_single_imgs] Resampling images\n"
     ]
    },
    {
     "name": "stderr",
     "output_type": "stream",
     "text": [
      "C:\\Users\\June Cai\\AppData\\Roaming\\Python\\Python35\\site-packages\\nilearn\\image\\resampling.py:510: UserWarning: Casting data from int16 to float32\n",
      "  warnings.warn(\"Casting data from %s to %s\" % (data.dtype.name, aux))\n"
     ]
    },
    {
     "name": "stdout",
     "output_type": "stream",
     "text": [
      "[NiftiLabelsMasker.transform_single_imgs] Extracting region signals\n",
      "[NiftiLabelsMasker.transform_single_imgs] Cleaning extracted signals\n",
      "______________________________________________filter_and_extract - 38.3s, 0.6min\n",
      "[[1.         0.07389969 0.07420117 ... 0.05877584 0.06760076 0.06082534]\n",
      " [0.07389969 1.         0.07263963 ... 0.0671429  0.06590404 0.06362986]\n",
      " [0.07420117 0.07263963 1.         ... 0.05193465 0.07212833 0.05810204]\n",
      " ...\n",
      " [0.05877584 0.0671429  0.05193465 ... 1.         0.04359786 0.05901596]\n",
      " [0.06760076 0.06590404 0.07212833 ... 0.04359786 1.         0.05530749]\n",
      " [0.06082534 0.06362986 0.05810204 ... 0.05901596 0.05530749 1.        ]] (1, -1)\n",
      "(48, 48)\n",
      "processed: 64\n",
      "rest\n",
      "[NiftiLabelsMasker.fit_transform] loading data from C:\\Users\\June Cai/nilearn_data\\fsl\\data\\atlases\\HarvardOxford\\HarvardOxford-cort-maxprob-thr25-2mm.nii.gz\n",
      "________________________________________________________________________________\n",
      "[Memory] Calling nilearn.input_data.base_masker.filter_and_extract...\n",
      "filter_and_extract('F:\\\\ece\\\\capstone\\\\code\\\\py\\\\data\\\\abide\\\\traindata\\\\29240_0_rest_1.nii.gz', <nilearn.input_data.nifti_labels_masker._ExtractionFunctor object at 0x000002937F76E358>, \n",
      "{ 'background_label': 0,\n",
      "  'detrend': False,\n",
      "  'dtype': None,\n",
      "  'high_pass': None,\n",
      "  'labels_img': 'C:\\\\Users\\\\June '\n",
      "                'Cai/nilearn_data\\\\fsl\\\\data\\\\atlases\\\\HarvardOxford\\\\HarvardOxford-cort-maxprob-thr25-2mm.nii.gz',\n",
      "  'low_pass': None,\n",
      "  'mask_img': None,\n",
      "  'smoothing_fwhm': None,\n",
      "  'standardize': True,\n",
      "  't_r': None,\n",
      "  'target_affine': array([[  -2.,    0.,    0.,   90.],\n",
      "       [   0.,    2.,    0., -126.],\n",
      "       [   0.,    0.,    2.,  -72.],\n",
      "       [   0.,    0.,    0.,    1.]]),\n",
      "  'target_shape': (91, 109, 91)}, memory=Memory(location=nilearn_cache\\joblib), confounds=None, dtype=None, verbose=5, memory_level=1)\n",
      "[NiftiLabelsMasker.transform_single_imgs] Loading data from F:\\ece\\capstone\\code\\py\\data\\abide\\traindata\\29240_0_rest_1.nii.gz\n"
     ]
    },
    {
     "name": "stderr",
     "output_type": "stream",
     "text": [
      "C:\\Users\\June Cai\\AppData\\Roaming\\Python\\Python35\\site-packages\\nilearn\\_utils\\cache_mixin.py:232: DeprecationWarning: The 'cachedir' attribute has been deprecated in version 0.12 and will be removed in version 0.14.\n",
      "Use os.path.join(memory.location, 'joblib') attribute instead.\n",
      "  if (memory.cachedir is None and memory_level is not None\n"
     ]
    },
    {
     "name": "stdout",
     "output_type": "stream",
     "text": [
      "[NiftiLabelsMasker.transform_single_imgs] Resampling images\n"
     ]
    },
    {
     "name": "stderr",
     "output_type": "stream",
     "text": [
      "C:\\Users\\June Cai\\AppData\\Roaming\\Python\\Python35\\site-packages\\nilearn\\image\\resampling.py:510: UserWarning: Casting data from int16 to float32\n",
      "  warnings.warn(\"Casting data from %s to %s\" % (data.dtype.name, aux))\n"
     ]
    },
    {
     "name": "stdout",
     "output_type": "stream",
     "text": [
      "[NiftiLabelsMasker.transform_single_imgs] Extracting region signals\n",
      "[NiftiLabelsMasker.transform_single_imgs] Cleaning extracted signals\n",
      "______________________________________________filter_and_extract - 37.8s, 0.6min\n",
      "[[1.         0.35441813 0.3559565  ... 0.26965842 0.31111458 0.1597556 ]\n",
      " [0.35441813 1.         0.35232383 ... 0.30037528 0.31107652 0.18579833]\n",
      " [0.3559565  0.35232383 1.         ... 0.2766236  0.32293943 0.17109841]\n",
      " ...\n",
      " [0.26965842 0.30037528 0.2766236  ... 1.         0.27735624 0.25247985]\n",
      " [0.31111458 0.31107655 0.32293943 ... 0.2773562  1.         0.18332407]\n",
      " [0.15975559 0.18579833 0.17109841 ... 0.25247985 0.18332407 1.        ]] (1, -1)\n",
      "(48, 48)\n",
      "processed: 65\n",
      "rest\n",
      "[NiftiLabelsMasker.fit_transform] loading data from C:\\Users\\June Cai/nilearn_data\\fsl\\data\\atlases\\HarvardOxford\\HarvardOxford-cort-maxprob-thr25-2mm.nii.gz\n",
      "________________________________________________________________________________\n",
      "[Memory] Calling nilearn.input_data.base_masker.filter_and_extract...\n",
      "filter_and_extract('F:\\\\ece\\\\capstone\\\\code\\\\py\\\\data\\\\abide\\\\traindata\\\\29241_0_rest_1.nii.gz', <nilearn.input_data.nifti_labels_masker._ExtractionFunctor object at 0x0000029304957128>, \n",
      "{ 'background_label': 0,\n",
      "  'detrend': False,\n",
      "  'dtype': None,\n",
      "  'high_pass': None,\n",
      "  'labels_img': 'C:\\\\Users\\\\June '\n",
      "                'Cai/nilearn_data\\\\fsl\\\\data\\\\atlases\\\\HarvardOxford\\\\HarvardOxford-cort-maxprob-thr25-2mm.nii.gz',\n",
      "  'low_pass': None,\n",
      "  'mask_img': None,\n",
      "  'smoothing_fwhm': None,\n",
      "  'standardize': True,\n",
      "  't_r': None,\n",
      "  'target_affine': array([[  -2.,    0.,    0.,   90.],\n",
      "       [   0.,    2.,    0., -126.],\n",
      "       [   0.,    0.,    2.,  -72.],\n",
      "       [   0.,    0.,    0.,    1.]]),\n",
      "  'target_shape': (91, 109, 91)}, memory=Memory(location=nilearn_cache\\joblib), confounds=None, dtype=None, verbose=5, memory_level=1)\n",
      "[NiftiLabelsMasker.transform_single_imgs] Loading data from F:\\ece\\capstone\\code\\py\\data\\abide\\traindata\\29241_0_rest_1.nii.gz\n"
     ]
    },
    {
     "name": "stderr",
     "output_type": "stream",
     "text": [
      "C:\\Users\\June Cai\\AppData\\Roaming\\Python\\Python35\\site-packages\\nilearn\\_utils\\cache_mixin.py:232: DeprecationWarning: The 'cachedir' attribute has been deprecated in version 0.12 and will be removed in version 0.14.\n",
      "Use os.path.join(memory.location, 'joblib') attribute instead.\n",
      "  if (memory.cachedir is None and memory_level is not None\n"
     ]
    },
    {
     "name": "stdout",
     "output_type": "stream",
     "text": [
      "[NiftiLabelsMasker.transform_single_imgs] Resampling images\n"
     ]
    },
    {
     "name": "stderr",
     "output_type": "stream",
     "text": [
      "C:\\Users\\June Cai\\AppData\\Roaming\\Python\\Python35\\site-packages\\nilearn\\image\\resampling.py:510: UserWarning: Casting data from int16 to float32\n",
      "  warnings.warn(\"Casting data from %s to %s\" % (data.dtype.name, aux))\n"
     ]
    },
    {
     "name": "stdout",
     "output_type": "stream",
     "text": [
      "[NiftiLabelsMasker.transform_single_imgs] Extracting region signals\n",
      "[NiftiLabelsMasker.transform_single_imgs] Cleaning extracted signals\n",
      "______________________________________________filter_and_extract - 33.8s, 0.6min\n",
      "[[1.         0.04962545 0.04973407 ... 0.04853321 0.04766198 0.02756114]\n",
      " [0.04962545 1.         0.05344426 ... 0.05233303 0.05147475 0.03123533]\n",
      " [0.04973407 0.05344426 1.         ... 0.05309985 0.05215384 0.03201852]\n",
      " ...\n",
      " [0.04853321 0.05233303 0.05309985 ... 1.         0.05102973 0.03035018]\n",
      " [0.04766198 0.05147475 0.05215384 ... 0.05102973 1.         0.03135883]\n",
      " [0.02756114 0.03123533 0.03201852 ... 0.03035018 0.03135883 1.        ]] (1, -1)\n",
      "(48, 48)\n",
      "processed: 66\n",
      "rest\n",
      "[NiftiLabelsMasker.fit_transform] loading data from C:\\Users\\June Cai/nilearn_data\\fsl\\data\\atlases\\HarvardOxford\\HarvardOxford-cort-maxprob-thr25-2mm.nii.gz\n",
      "________________________________________________________________________________\n",
      "[Memory] Calling nilearn.input_data.base_masker.filter_and_extract...\n",
      "filter_and_extract('F:\\\\ece\\\\capstone\\\\code\\\\py\\\\data\\\\abide\\\\traindata\\\\29242_0_rest_1.nii.gz', <nilearn.input_data.nifti_labels_masker._ExtractionFunctor object at 0x0000029302D70EF0>, \n",
      "{ 'background_label': 0,\n",
      "  'detrend': False,\n",
      "  'dtype': None,\n",
      "  'high_pass': None,\n",
      "  'labels_img': 'C:\\\\Users\\\\June '\n",
      "                'Cai/nilearn_data\\\\fsl\\\\data\\\\atlases\\\\HarvardOxford\\\\HarvardOxford-cort-maxprob-thr25-2mm.nii.gz',\n",
      "  'low_pass': None,\n",
      "  'mask_img': None,\n",
      "  'smoothing_fwhm': None,\n",
      "  'standardize': True,\n",
      "  't_r': None,\n",
      "  'target_affine': array([[  -2.,    0.,    0.,   90.],\n",
      "       [   0.,    2.,    0., -126.],\n",
      "       [   0.,    0.,    2.,  -72.],\n",
      "       [   0.,    0.,    0.,    1.]]),\n",
      "  'target_shape': (91, 109, 91)}, memory=Memory(location=nilearn_cache\\joblib), confounds=None, dtype=None, verbose=5, memory_level=1)\n",
      "[NiftiLabelsMasker.transform_single_imgs] Loading data from F:\\ece\\capstone\\code\\py\\data\\abide\\traindata\\29242_0_rest_1.nii.gz\n"
     ]
    },
    {
     "name": "stderr",
     "output_type": "stream",
     "text": [
      "C:\\Users\\June Cai\\AppData\\Roaming\\Python\\Python35\\site-packages\\nilearn\\_utils\\cache_mixin.py:232: DeprecationWarning: The 'cachedir' attribute has been deprecated in version 0.12 and will be removed in version 0.14.\n",
      "Use os.path.join(memory.location, 'joblib') attribute instead.\n",
      "  if (memory.cachedir is None and memory_level is not None\n"
     ]
    },
    {
     "name": "stdout",
     "output_type": "stream",
     "text": [
      "[NiftiLabelsMasker.transform_single_imgs] Resampling images\n"
     ]
    },
    {
     "name": "stderr",
     "output_type": "stream",
     "text": [
      "C:\\Users\\June Cai\\AppData\\Roaming\\Python\\Python35\\site-packages\\nilearn\\image\\resampling.py:510: UserWarning: Casting data from int16 to float32\n",
      "  warnings.warn(\"Casting data from %s to %s\" % (data.dtype.name, aux))\n"
     ]
    },
    {
     "name": "stdout",
     "output_type": "stream",
     "text": [
      "[NiftiLabelsMasker.transform_single_imgs] Extracting region signals\n",
      "[NiftiLabelsMasker.transform_single_imgs] Cleaning extracted signals\n",
      "______________________________________________filter_and_extract - 35.0s, 0.6min\n",
      "[[1.         0.02485006 0.02481245 ... 0.02106393 0.02440911 0.01874813]\n",
      " [0.02485006 1.         0.02668995 ... 0.02314135 0.02632806 0.02008826]\n",
      " [0.02481245 0.02668995 1.         ... 0.02471229 0.0265063  0.01926159]\n",
      " ...\n",
      " [0.02106393 0.02314135 0.02471229 ... 1.         0.02409955 0.01389535]\n",
      " [0.02440911 0.02632806 0.0265063  ... 0.02409955 1.         0.01906076]\n",
      " [0.01874813 0.02008826 0.01926159 ... 0.01389535 0.01906076 1.        ]] (1, -1)\n",
      "(48, 48)\n",
      "processed: 67\n",
      "rest\n",
      "[NiftiLabelsMasker.fit_transform] loading data from C:\\Users\\June Cai/nilearn_data\\fsl\\data\\atlases\\HarvardOxford\\HarvardOxford-cort-maxprob-thr25-2mm.nii.gz\n",
      "________________________________________________________________________________\n",
      "[Memory] Calling nilearn.input_data.base_masker.filter_and_extract...\n",
      "filter_and_extract('F:\\\\ece\\\\capstone\\\\code\\\\py\\\\data\\\\abide\\\\traindata\\\\29243_0_rest_1.nii.gz', <nilearn.input_data.nifti_labels_masker._ExtractionFunctor object at 0x00000293024E1D68>, \n",
      "{ 'background_label': 0,\n",
      "  'detrend': False,\n",
      "  'dtype': None,\n",
      "  'high_pass': None,\n",
      "  'labels_img': 'C:\\\\Users\\\\June '\n",
      "                'Cai/nilearn_data\\\\fsl\\\\data\\\\atlases\\\\HarvardOxford\\\\HarvardOxford-cort-maxprob-thr25-2mm.nii.gz',\n",
      "  'low_pass': None,\n",
      "  'mask_img': None,\n",
      "  'smoothing_fwhm': None,\n",
      "  'standardize': True,\n",
      "  't_r': None,\n",
      "  'target_affine': array([[  -2.,    0.,    0.,   90.],\n",
      "       [   0.,    2.,    0., -126.],\n",
      "       [   0.,    0.,    2.,  -72.],\n",
      "       [   0.,    0.,    0.,    1.]]),\n",
      "  'target_shape': (91, 109, 91)}, memory=Memory(location=nilearn_cache\\joblib), confounds=None, dtype=None, verbose=5, memory_level=1)\n",
      "[NiftiLabelsMasker.transform_single_imgs] Loading data from F:\\ece\\capstone\\code\\py\\data\\abide\\traindata\\29243_0_rest_1.nii.gz\n"
     ]
    },
    {
     "name": "stderr",
     "output_type": "stream",
     "text": [
      "C:\\Users\\June Cai\\AppData\\Roaming\\Python\\Python35\\site-packages\\nilearn\\_utils\\cache_mixin.py:232: DeprecationWarning: The 'cachedir' attribute has been deprecated in version 0.12 and will be removed in version 0.14.\n",
      "Use os.path.join(memory.location, 'joblib') attribute instead.\n",
      "  if (memory.cachedir is None and memory_level is not None\n"
     ]
    },
    {
     "name": "stdout",
     "output_type": "stream",
     "text": [
      "[NiftiLabelsMasker.transform_single_imgs] Resampling images\n"
     ]
    },
    {
     "name": "stderr",
     "output_type": "stream",
     "text": [
      "C:\\Users\\June Cai\\AppData\\Roaming\\Python\\Python35\\site-packages\\nilearn\\image\\resampling.py:510: UserWarning: Casting data from int16 to float32\n",
      "  warnings.warn(\"Casting data from %s to %s\" % (data.dtype.name, aux))\n"
     ]
    },
    {
     "name": "stdout",
     "output_type": "stream",
     "text": [
      "[NiftiLabelsMasker.transform_single_imgs] Extracting region signals\n",
      "[NiftiLabelsMasker.transform_single_imgs] Cleaning extracted signals\n",
      "______________________________________________filter_and_extract - 36.3s, 0.6min\n",
      "[[1.         0.06877415 0.06932454 ... 0.06127996 0.06486262 0.04253094]\n",
      " [0.06877415 1.         0.0702548  ... 0.06070876 0.06689179 0.0481433 ]\n",
      " [0.06932454 0.0702548  1.         ... 0.0602577  0.06673819 0.04451445]\n",
      " ...\n",
      " [0.06127996 0.06070876 0.0602577  ... 1.         0.05053992 0.0261945 ]\n",
      " [0.06486263 0.06689179 0.06673819 ... 0.05053992 1.         0.05008828]\n",
      " [0.04253094 0.0481433  0.04451445 ... 0.0261945  0.05008828 1.        ]] (1, -1)\n",
      "(48, 48)\n",
      "processed: 68\n",
      "rest\n",
      "[NiftiLabelsMasker.fit_transform] loading data from C:\\Users\\June Cai/nilearn_data\\fsl\\data\\atlases\\HarvardOxford\\HarvardOxford-cort-maxprob-thr25-2mm.nii.gz\n",
      "________________________________________________________________________________\n",
      "[Memory] Calling nilearn.input_data.base_masker.filter_and_extract...\n",
      "filter_and_extract('F:\\\\ece\\\\capstone\\\\code\\\\py\\\\data\\\\abide\\\\traindata\\\\29244_0_rest_1.nii.gz', <nilearn.input_data.nifti_labels_masker._ExtractionFunctor object at 0x000002937FE8B080>, \n",
      "{ 'background_label': 0,\n",
      "  'detrend': False,\n",
      "  'dtype': None,\n",
      "  'high_pass': None,\n",
      "  'labels_img': 'C:\\\\Users\\\\June '\n",
      "                'Cai/nilearn_data\\\\fsl\\\\data\\\\atlases\\\\HarvardOxford\\\\HarvardOxford-cort-maxprob-thr25-2mm.nii.gz',\n",
      "  'low_pass': None,\n",
      "  'mask_img': None,\n",
      "  'smoothing_fwhm': None,\n",
      "  'standardize': True,\n",
      "  't_r': None,\n",
      "  'target_affine': array([[  -2.,    0.,    0.,   90.],\n",
      "       [   0.,    2.,    0., -126.],\n",
      "       [   0.,    0.,    2.,  -72.],\n",
      "       [   0.,    0.,    0.,    1.]]),\n",
      "  'target_shape': (91, 109, 91)}, memory=Memory(location=nilearn_cache\\joblib), confounds=None, dtype=None, verbose=5, memory_level=1)\n",
      "[NiftiLabelsMasker.transform_single_imgs] Loading data from F:\\ece\\capstone\\code\\py\\data\\abide\\traindata\\29244_0_rest_1.nii.gz\n"
     ]
    },
    {
     "name": "stderr",
     "output_type": "stream",
     "text": [
      "C:\\Users\\June Cai\\AppData\\Roaming\\Python\\Python35\\site-packages\\nilearn\\_utils\\cache_mixin.py:232: DeprecationWarning: The 'cachedir' attribute has been deprecated in version 0.12 and will be removed in version 0.14.\n",
      "Use os.path.join(memory.location, 'joblib') attribute instead.\n",
      "  if (memory.cachedir is None and memory_level is not None\n"
     ]
    },
    {
     "name": "stdout",
     "output_type": "stream",
     "text": [
      "[NiftiLabelsMasker.transform_single_imgs] Resampling images\n"
     ]
    },
    {
     "name": "stderr",
     "output_type": "stream",
     "text": [
      "C:\\Users\\June Cai\\AppData\\Roaming\\Python\\Python35\\site-packages\\nilearn\\image\\resampling.py:510: UserWarning: Casting data from int16 to float32\n",
      "  warnings.warn(\"Casting data from %s to %s\" % (data.dtype.name, aux))\n"
     ]
    },
    {
     "name": "stdout",
     "output_type": "stream",
     "text": [
      "[NiftiLabelsMasker.transform_single_imgs] Extracting region signals\n",
      "[NiftiLabelsMasker.transform_single_imgs] Cleaning extracted signals\n",
      "______________________________________________filter_and_extract - 34.2s, 0.6min\n",
      "[[1.         0.0694014  0.07061635 ... 0.04741819 0.06909687 0.04933078]\n",
      " [0.0694014  1.         0.0703208  ... 0.05377791 0.07295153 0.05019095]\n",
      " [0.07061635 0.0703208  1.         ... 0.05154729 0.07070033 0.0504529 ]\n",
      " ...\n",
      " [0.04741819 0.05377791 0.05154729 ... 1.         0.04584537 0.03063117]\n",
      " [0.06909687 0.07295153 0.07070033 ... 0.04584537 1.         0.05112505]\n",
      " [0.04933078 0.05019095 0.0504529  ... 0.03063117 0.05112505 1.        ]] (1, -1)\n",
      "(48, 48)\n",
      "processed: 69\n",
      "rest\n",
      "[NiftiLabelsMasker.fit_transform] loading data from C:\\Users\\June Cai/nilearn_data\\fsl\\data\\atlases\\HarvardOxford\\HarvardOxford-cort-maxprob-thr25-2mm.nii.gz\n",
      "________________________________________________________________________________\n",
      "[Memory] Calling nilearn.input_data.base_masker.filter_and_extract...\n",
      "filter_and_extract('F:\\\\ece\\\\capstone\\\\code\\\\py\\\\data\\\\abide\\\\traindata\\\\29245_0_rest_1.nii.gz', <nilearn.input_data.nifti_labels_masker._ExtractionFunctor object at 0x00000293049504A8>, \n",
      "{ 'background_label': 0,\n",
      "  'detrend': False,\n",
      "  'dtype': None,\n",
      "  'high_pass': None,\n",
      "  'labels_img': 'C:\\\\Users\\\\June '\n",
      "                'Cai/nilearn_data\\\\fsl\\\\data\\\\atlases\\\\HarvardOxford\\\\HarvardOxford-cort-maxprob-thr25-2mm.nii.gz',\n",
      "  'low_pass': None,\n",
      "  'mask_img': None,\n",
      "  'smoothing_fwhm': None,\n",
      "  'standardize': True,\n",
      "  't_r': None,\n",
      "  'target_affine': array([[  -2.,    0.,    0.,   90.],\n",
      "       [   0.,    2.,    0., -126.],\n",
      "       [   0.,    0.,    2.,  -72.],\n",
      "       [   0.,    0.,    0.,    1.]]),\n",
      "  'target_shape': (91, 109, 91)}, memory=Memory(location=nilearn_cache\\joblib), confounds=None, dtype=None, verbose=5, memory_level=1)\n",
      "[NiftiLabelsMasker.transform_single_imgs] Loading data from F:\\ece\\capstone\\code\\py\\data\\abide\\traindata\\29245_0_rest_1.nii.gz\n"
     ]
    },
    {
     "name": "stderr",
     "output_type": "stream",
     "text": [
      "C:\\Users\\June Cai\\AppData\\Roaming\\Python\\Python35\\site-packages\\nilearn\\_utils\\cache_mixin.py:232: DeprecationWarning: The 'cachedir' attribute has been deprecated in version 0.12 and will be removed in version 0.14.\n",
      "Use os.path.join(memory.location, 'joblib') attribute instead.\n",
      "  if (memory.cachedir is None and memory_level is not None\n"
     ]
    },
    {
     "name": "stdout",
     "output_type": "stream",
     "text": [
      "[NiftiLabelsMasker.transform_single_imgs] Resampling images\n"
     ]
    },
    {
     "name": "stderr",
     "output_type": "stream",
     "text": [
      "C:\\Users\\June Cai\\AppData\\Roaming\\Python\\Python35\\site-packages\\nilearn\\image\\resampling.py:510: UserWarning: Casting data from int16 to float32\n",
      "  warnings.warn(\"Casting data from %s to %s\" % (data.dtype.name, aux))\n"
     ]
    },
    {
     "name": "stdout",
     "output_type": "stream",
     "text": [
      "[NiftiLabelsMasker.transform_single_imgs] Extracting region signals\n",
      "[NiftiLabelsMasker.transform_single_imgs] Cleaning extracted signals\n",
      "______________________________________________filter_and_extract - 37.3s, 0.6min\n",
      "[[ 1.          0.15619686  0.15310673 ...  0.13200536  0.0674356\n",
      "   0.03805974]\n",
      " [ 0.15619685  1.          0.15340197 ...  0.1311251   0.06684453\n",
      "   0.03901365]\n",
      " [ 0.15310673  0.15340197  1.         ...  0.13620174  0.08353823\n",
      "   0.03465846]\n",
      " ...\n",
      " [ 0.13200536  0.13112512  0.13620174 ...  1.          0.11600295\n",
      "   0.02505184]\n",
      " [ 0.0674356   0.06684453  0.08353823 ...  0.11600295  1.\n",
      "  -0.00187907]\n",
      " [ 0.03805974  0.03901365  0.03465847 ...  0.02505184 -0.00187907\n",
      "   1.        ]] (1, -1)\n",
      "(48, 48)\n",
      "processed: 70\n",
      "rest\n",
      "[NiftiLabelsMasker.fit_transform] loading data from C:\\Users\\June Cai/nilearn_data\\fsl\\data\\atlases\\HarvardOxford\\HarvardOxford-cort-maxprob-thr25-2mm.nii.gz\n",
      "________________________________________________________________________________\n",
      "[Memory] Calling nilearn.input_data.base_masker.filter_and_extract...\n",
      "filter_and_extract('F:\\\\ece\\\\capstone\\\\code\\\\py\\\\data\\\\abide\\\\traindata\\\\29246_0_rest_1.nii.gz', <nilearn.input_data.nifti_labels_masker._ExtractionFunctor object at 0x0000029302D70EF0>, \n",
      "{ 'background_label': 0,\n",
      "  'detrend': False,\n",
      "  'dtype': None,\n",
      "  'high_pass': None,\n",
      "  'labels_img': 'C:\\\\Users\\\\June '\n",
      "                'Cai/nilearn_data\\\\fsl\\\\data\\\\atlases\\\\HarvardOxford\\\\HarvardOxford-cort-maxprob-thr25-2mm.nii.gz',\n",
      "  'low_pass': None,\n",
      "  'mask_img': None,\n",
      "  'smoothing_fwhm': None,\n",
      "  'standardize': True,\n",
      "  't_r': None,\n",
      "  'target_affine': array([[  -2.,    0.,    0.,   90.],\n",
      "       [   0.,    2.,    0., -126.],\n",
      "       [   0.,    0.,    2.,  -72.],\n",
      "       [   0.,    0.,    0.,    1.]]),\n",
      "  'target_shape': (91, 109, 91)}, memory=Memory(location=nilearn_cache\\joblib), confounds=None, dtype=None, verbose=5, memory_level=1)\n",
      "[NiftiLabelsMasker.transform_single_imgs] Loading data from F:\\ece\\capstone\\code\\py\\data\\abide\\traindata\\29246_0_rest_1.nii.gz\n"
     ]
    },
    {
     "name": "stderr",
     "output_type": "stream",
     "text": [
      "C:\\Users\\June Cai\\AppData\\Roaming\\Python\\Python35\\site-packages\\nilearn\\_utils\\cache_mixin.py:232: DeprecationWarning: The 'cachedir' attribute has been deprecated in version 0.12 and will be removed in version 0.14.\n",
      "Use os.path.join(memory.location, 'joblib') attribute instead.\n",
      "  if (memory.cachedir is None and memory_level is not None\n"
     ]
    },
    {
     "name": "stdout",
     "output_type": "stream",
     "text": [
      "[NiftiLabelsMasker.transform_single_imgs] Resampling images\n"
     ]
    },
    {
     "name": "stderr",
     "output_type": "stream",
     "text": [
      "C:\\Users\\June Cai\\AppData\\Roaming\\Python\\Python35\\site-packages\\nilearn\\image\\resampling.py:510: UserWarning: Casting data from int16 to float32\n",
      "  warnings.warn(\"Casting data from %s to %s\" % (data.dtype.name, aux))\n"
     ]
    },
    {
     "name": "stdout",
     "output_type": "stream",
     "text": [
      "[NiftiLabelsMasker.transform_single_imgs] Extracting region signals\n",
      "[NiftiLabelsMasker.transform_single_imgs] Cleaning extracted signals\n",
      "______________________________________________filter_and_extract - 34.4s, 0.6min\n",
      "[[1.         0.03688058 0.03843834 ... 0.03200351 0.03314257 0.01466052]\n",
      " [0.03688058 1.         0.0401258  ... 0.03806679 0.0369565  0.01536486]\n",
      " [0.03843834 0.0401258  1.         ... 0.03768248 0.036634   0.01579138]\n",
      " ...\n",
      " [0.03200351 0.03806679 0.03768248 ... 1.         0.03818576 0.0125392 ]\n",
      " [0.03314257 0.0369565  0.036634   ... 0.03818576 1.         0.01368251]\n",
      " [0.01466052 0.01536486 0.01579138 ... 0.0125392  0.01368251 1.        ]] (1, -1)\n",
      "(48, 48)\n",
      "processed: 71\n",
      "rest\n",
      "[NiftiLabelsMasker.fit_transform] loading data from C:\\Users\\June Cai/nilearn_data\\fsl\\data\\atlases\\HarvardOxford\\HarvardOxford-cort-maxprob-thr25-2mm.nii.gz\n",
      "________________________________________________________________________________\n",
      "[Memory] Calling nilearn.input_data.base_masker.filter_and_extract...\n",
      "filter_and_extract('F:\\\\ece\\\\capstone\\\\code\\\\py\\\\data\\\\abide\\\\traindata\\\\29247_0_rest_1.nii.gz', <nilearn.input_data.nifti_labels_masker._ExtractionFunctor object at 0x0000029304915748>, \n",
      "{ 'background_label': 0,\n",
      "  'detrend': False,\n",
      "  'dtype': None,\n",
      "  'high_pass': None,\n",
      "  'labels_img': 'C:\\\\Users\\\\June '\n",
      "                'Cai/nilearn_data\\\\fsl\\\\data\\\\atlases\\\\HarvardOxford\\\\HarvardOxford-cort-maxprob-thr25-2mm.nii.gz',\n",
      "  'low_pass': None,\n",
      "  'mask_img': None,\n",
      "  'smoothing_fwhm': None,\n",
      "  'standardize': True,\n",
      "  't_r': None,\n",
      "  'target_affine': array([[  -2.,    0.,    0.,   90.],\n",
      "       [   0.,    2.,    0., -126.],\n",
      "       [   0.,    0.,    2.,  -72.],\n",
      "       [   0.,    0.,    0.,    1.]]),\n",
      "  'target_shape': (91, 109, 91)}, memory=Memory(location=nilearn_cache\\joblib), confounds=None, dtype=None, verbose=5, memory_level=1)\n",
      "[NiftiLabelsMasker.transform_single_imgs] Loading data from F:\\ece\\capstone\\code\\py\\data\\abide\\traindata\\29247_0_rest_1.nii.gz\n"
     ]
    },
    {
     "name": "stderr",
     "output_type": "stream",
     "text": [
      "C:\\Users\\June Cai\\AppData\\Roaming\\Python\\Python35\\site-packages\\nilearn\\_utils\\cache_mixin.py:232: DeprecationWarning: The 'cachedir' attribute has been deprecated in version 0.12 and will be removed in version 0.14.\n",
      "Use os.path.join(memory.location, 'joblib') attribute instead.\n",
      "  if (memory.cachedir is None and memory_level is not None\n"
     ]
    },
    {
     "name": "stdout",
     "output_type": "stream",
     "text": [
      "[NiftiLabelsMasker.transform_single_imgs] Resampling images\n"
     ]
    },
    {
     "name": "stderr",
     "output_type": "stream",
     "text": [
      "C:\\Users\\June Cai\\AppData\\Roaming\\Python\\Python35\\site-packages\\nilearn\\image\\resampling.py:510: UserWarning: Casting data from int16 to float32\n",
      "  warnings.warn(\"Casting data from %s to %s\" % (data.dtype.name, aux))\n"
     ]
    },
    {
     "name": "stdout",
     "output_type": "stream",
     "text": [
      "[NiftiLabelsMasker.transform_single_imgs] Extracting region signals\n",
      "[NiftiLabelsMasker.transform_single_imgs] Cleaning extracted signals\n",
      "______________________________________________filter_and_extract - 36.4s, 0.6min\n",
      "[[1.         0.0693431  0.06681488 ... 0.06843711 0.06442596 0.0380949 ]\n",
      " [0.0693431  1.         0.06753684 ... 0.06887131 0.06509495 0.03843371]\n",
      " [0.06681488 0.06753684 1.         ... 0.06510471 0.06537473 0.0402426 ]\n",
      " ...\n",
      " [0.06843711 0.06887131 0.06510471 ... 1.         0.06363982 0.03567782]\n",
      " [0.06442596 0.06509495 0.06537473 ... 0.06363982 1.         0.03766346]\n",
      " [0.0380949  0.03843371 0.0402426  ... 0.03567782 0.03766346 1.        ]] (1, -1)\n",
      "(48, 48)\n",
      "processed: 72\n",
      "rest\n",
      "[NiftiLabelsMasker.fit_transform] loading data from C:\\Users\\June Cai/nilearn_data\\fsl\\data\\atlases\\HarvardOxford\\HarvardOxford-cort-maxprob-thr25-2mm.nii.gz\n",
      "________________________________________________________________________________\n",
      "[Memory] Calling nilearn.input_data.base_masker.filter_and_extract...\n",
      "filter_and_extract('F:\\\\ece\\\\capstone\\\\code\\\\py\\\\data\\\\abide\\\\traindata\\\\29248_0_rest_1.nii.gz', <nilearn.input_data.nifti_labels_masker._ExtractionFunctor object at 0x00000293736FA358>, \n",
      "{ 'background_label': 0,\n",
      "  'detrend': False,\n",
      "  'dtype': None,\n",
      "  'high_pass': None,\n",
      "  'labels_img': 'C:\\\\Users\\\\June '\n",
      "                'Cai/nilearn_data\\\\fsl\\\\data\\\\atlases\\\\HarvardOxford\\\\HarvardOxford-cort-maxprob-thr25-2mm.nii.gz',\n",
      "  'low_pass': None,\n",
      "  'mask_img': None,\n",
      "  'smoothing_fwhm': None,\n",
      "  'standardize': True,\n",
      "  't_r': None,\n",
      "  'target_affine': array([[  -2.,    0.,    0.,   90.],\n",
      "       [   0.,    2.,    0., -126.],\n",
      "       [   0.,    0.,    2.,  -72.],\n",
      "       [   0.,    0.,    0.,    1.]]),\n",
      "  'target_shape': (91, 109, 91)}, memory=Memory(location=nilearn_cache\\joblib), confounds=None, dtype=None, verbose=5, memory_level=1)\n",
      "[NiftiLabelsMasker.transform_single_imgs] Loading data from F:\\ece\\capstone\\code\\py\\data\\abide\\traindata\\29248_0_rest_1.nii.gz\n"
     ]
    },
    {
     "name": "stderr",
     "output_type": "stream",
     "text": [
      "C:\\Users\\June Cai\\AppData\\Roaming\\Python\\Python35\\site-packages\\nilearn\\_utils\\cache_mixin.py:232: DeprecationWarning: The 'cachedir' attribute has been deprecated in version 0.12 and will be removed in version 0.14.\n",
      "Use os.path.join(memory.location, 'joblib') attribute instead.\n",
      "  if (memory.cachedir is None and memory_level is not None\n"
     ]
    },
    {
     "name": "stdout",
     "output_type": "stream",
     "text": [
      "[NiftiLabelsMasker.transform_single_imgs] Resampling images\n"
     ]
    },
    {
     "name": "stderr",
     "output_type": "stream",
     "text": [
      "C:\\Users\\June Cai\\AppData\\Roaming\\Python\\Python35\\site-packages\\nilearn\\image\\resampling.py:510: UserWarning: Casting data from int16 to float32\n",
      "  warnings.warn(\"Casting data from %s to %s\" % (data.dtype.name, aux))\n"
     ]
    },
    {
     "name": "stdout",
     "output_type": "stream",
     "text": [
      "[NiftiLabelsMasker.transform_single_imgs] Extracting region signals\n",
      "[NiftiLabelsMasker.transform_single_imgs] Cleaning extracted signals\n",
      "______________________________________________filter_and_extract - 37.0s, 0.6min\n",
      "[[1.         0.09955281 0.09811683 ... 0.09408458 0.08865856 0.01748849]\n",
      " [0.09955282 1.         0.09739753 ... 0.09471883 0.08932878 0.01776344]\n",
      " [0.09811683 0.09739753 1.         ... 0.08738861 0.08108918 0.01460837]\n",
      " ...\n",
      " [0.09408458 0.09471883 0.08738861 ... 1.         0.09536852 0.02278652]\n",
      " [0.08865856 0.08932878 0.08108918 ... 0.09536852 1.         0.02305882]\n",
      " [0.01748849 0.01776344 0.01460837 ... 0.02278652 0.02305882 1.        ]] (1, -1)\n",
      "(48, 48)\n",
      "processed: 73\n",
      "rest\n",
      "[NiftiLabelsMasker.fit_transform] loading data from C:\\Users\\June Cai/nilearn_data\\fsl\\data\\atlases\\HarvardOxford\\HarvardOxford-cort-maxprob-thr25-2mm.nii.gz\n",
      "________________________________________________________________________________\n",
      "[Memory] Calling nilearn.input_data.base_masker.filter_and_extract...\n",
      "filter_and_extract('F:\\\\ece\\\\capstone\\\\code\\\\py\\\\data\\\\abide\\\\traindata\\\\29249_0_rest_1.nii.gz', <nilearn.input_data.nifti_labels_masker._ExtractionFunctor object at 0x00000293736FA2B0>, \n",
      "{ 'background_label': 0,\n",
      "  'detrend': False,\n",
      "  'dtype': None,\n",
      "  'high_pass': None,\n",
      "  'labels_img': 'C:\\\\Users\\\\June '\n",
      "                'Cai/nilearn_data\\\\fsl\\\\data\\\\atlases\\\\HarvardOxford\\\\HarvardOxford-cort-maxprob-thr25-2mm.nii.gz',\n",
      "  'low_pass': None,\n",
      "  'mask_img': None,\n",
      "  'smoothing_fwhm': None,\n",
      "  'standardize': True,\n",
      "  't_r': None,\n",
      "  'target_affine': array([[  -2.,    0.,    0.,   90.],\n",
      "       [   0.,    2.,    0., -126.],\n",
      "       [   0.,    0.,    2.,  -72.],\n",
      "       [   0.,    0.,    0.,    1.]]),\n",
      "  'target_shape': (91, 109, 91)}, memory=Memory(location=nilearn_cache\\joblib), confounds=None, dtype=None, verbose=5, memory_level=1)\n",
      "[NiftiLabelsMasker.transform_single_imgs] Loading data from F:\\ece\\capstone\\code\\py\\data\\abide\\traindata\\29249_0_rest_1.nii.gz\n"
     ]
    },
    {
     "name": "stderr",
     "output_type": "stream",
     "text": [
      "C:\\Users\\June Cai\\AppData\\Roaming\\Python\\Python35\\site-packages\\nilearn\\_utils\\cache_mixin.py:232: DeprecationWarning: The 'cachedir' attribute has been deprecated in version 0.12 and will be removed in version 0.14.\n",
      "Use os.path.join(memory.location, 'joblib') attribute instead.\n",
      "  if (memory.cachedir is None and memory_level is not None\n"
     ]
    },
    {
     "name": "stdout",
     "output_type": "stream",
     "text": [
      "[NiftiLabelsMasker.transform_single_imgs] Resampling images\n"
     ]
    },
    {
     "name": "stderr",
     "output_type": "stream",
     "text": [
      "C:\\Users\\June Cai\\AppData\\Roaming\\Python\\Python35\\site-packages\\nilearn\\image\\resampling.py:510: UserWarning: Casting data from int16 to float32\n",
      "  warnings.warn(\"Casting data from %s to %s\" % (data.dtype.name, aux))\n"
     ]
    },
    {
     "name": "stdout",
     "output_type": "stream",
     "text": [
      "[NiftiLabelsMasker.transform_single_imgs] Extracting region signals\n",
      "[NiftiLabelsMasker.transform_single_imgs] Cleaning extracted signals\n",
      "______________________________________________filter_and_extract - 33.6s, 0.6min\n",
      "[[1.         0.1981599  0.19428807 ... 0.10046488 0.14829744 0.17807905]\n",
      " [0.1981599  1.         0.15594126 ... 0.09434727 0.15015899 0.18504272]\n",
      " [0.19428807 0.15594126 1.         ... 0.13521558 0.15797037 0.13644436]\n",
      " ...\n",
      " [0.10046488 0.09434727 0.13521558 ... 1.         0.18820633 0.05427042]\n",
      " [0.14829744 0.15015899 0.15797037 ... 0.18820633 1.         0.12154686]\n",
      " [0.17807905 0.18504272 0.13644436 ... 0.05427042 0.12154686 1.        ]] (1, -1)\n",
      "(48, 48)\n",
      "processed: 74\n",
      "rest\n",
      "[NiftiLabelsMasker.fit_transform] loading data from C:\\Users\\June Cai/nilearn_data\\fsl\\data\\atlases\\HarvardOxford\\HarvardOxford-cort-maxprob-thr25-2mm.nii.gz\n",
      "________________________________________________________________________________\n",
      "[Memory] Calling nilearn.input_data.base_masker.filter_and_extract...\n",
      "filter_and_extract('F:\\\\ece\\\\capstone\\\\code\\\\py\\\\data\\\\abide\\\\traindata\\\\29250_0_rest_1.nii.gz', <nilearn.input_data.nifti_labels_masker._ExtractionFunctor object at 0x00000293736FA2B0>, \n",
      "{ 'background_label': 0,\n",
      "  'detrend': False,\n",
      "  'dtype': None,\n",
      "  'high_pass': None,\n",
      "  'labels_img': 'C:\\\\Users\\\\June '\n",
      "                'Cai/nilearn_data\\\\fsl\\\\data\\\\atlases\\\\HarvardOxford\\\\HarvardOxford-cort-maxprob-thr25-2mm.nii.gz',\n",
      "  'low_pass': None,\n",
      "  'mask_img': None,\n",
      "  'smoothing_fwhm': None,\n",
      "  'standardize': True,\n",
      "  't_r': None,\n",
      "  'target_affine': array([[  -2.,    0.,    0.,   90.],\n",
      "       [   0.,    2.,    0., -126.],\n",
      "       [   0.,    0.,    2.,  -72.],\n",
      "       [   0.,    0.,    0.,    1.]]),\n",
      "  'target_shape': (91, 109, 91)}, memory=Memory(location=nilearn_cache\\joblib), confounds=None, dtype=None, verbose=5, memory_level=1)\n",
      "[NiftiLabelsMasker.transform_single_imgs] Loading data from F:\\ece\\capstone\\code\\py\\data\\abide\\traindata\\29250_0_rest_1.nii.gz\n"
     ]
    },
    {
     "name": "stderr",
     "output_type": "stream",
     "text": [
      "C:\\Users\\June Cai\\AppData\\Roaming\\Python\\Python35\\site-packages\\nilearn\\_utils\\cache_mixin.py:232: DeprecationWarning: The 'cachedir' attribute has been deprecated in version 0.12 and will be removed in version 0.14.\n",
      "Use os.path.join(memory.location, 'joblib') attribute instead.\n",
      "  if (memory.cachedir is None and memory_level is not None\n"
     ]
    },
    {
     "name": "stdout",
     "output_type": "stream",
     "text": [
      "[NiftiLabelsMasker.transform_single_imgs] Resampling images\n"
     ]
    },
    {
     "name": "stderr",
     "output_type": "stream",
     "text": [
      "C:\\Users\\June Cai\\AppData\\Roaming\\Python\\Python35\\site-packages\\nilearn\\image\\resampling.py:510: UserWarning: Casting data from int16 to float32\n",
      "  warnings.warn(\"Casting data from %s to %s\" % (data.dtype.name, aux))\n"
     ]
    },
    {
     "name": "stdout",
     "output_type": "stream",
     "text": [
      "[NiftiLabelsMasker.transform_single_imgs] Extracting region signals\n",
      "[NiftiLabelsMasker.transform_single_imgs] Cleaning extracted signals\n",
      "______________________________________________filter_and_extract - 34.3s, 0.6min\n",
      "[[1.         0.10582517 0.10903532 ... 0.0999205  0.10883148 0.06979661]\n",
      " [0.10582517 1.         0.10748421 ... 0.09919447 0.11316782 0.06918896]\n",
      " [0.10903532 0.10748421 1.         ... 0.1115565  0.11397927 0.06727163]\n",
      " ...\n",
      " [0.0999205  0.09919447 0.1115565  ... 1.         0.10505883 0.06191644]\n",
      " [0.10883148 0.11316782 0.11397927 ... 0.10505883 1.         0.07676307]\n",
      " [0.06979661 0.06918896 0.06727163 ... 0.06191644 0.07676307 1.        ]] (1, -1)\n",
      "(48, 48)\n",
      "processed: 75\n",
      "rest\n",
      "[NiftiLabelsMasker.fit_transform] loading data from C:\\Users\\June Cai/nilearn_data\\fsl\\data\\atlases\\HarvardOxford\\HarvardOxford-cort-maxprob-thr25-2mm.nii.gz\n",
      "________________________________________________________________________________\n",
      "[Memory] Calling nilearn.input_data.base_masker.filter_and_extract...\n",
      "filter_and_extract('F:\\\\ece\\\\capstone\\\\code\\\\py\\\\data\\\\abide\\\\traindata\\\\29251_0_rest_1.nii.gz', <nilearn.input_data.nifti_labels_masker._ExtractionFunctor object at 0x0000029304957128>, \n",
      "{ 'background_label': 0,\n",
      "  'detrend': False,\n",
      "  'dtype': None,\n",
      "  'high_pass': None,\n",
      "  'labels_img': 'C:\\\\Users\\\\June '\n",
      "                'Cai/nilearn_data\\\\fsl\\\\data\\\\atlases\\\\HarvardOxford\\\\HarvardOxford-cort-maxprob-thr25-2mm.nii.gz',\n",
      "  'low_pass': None,\n",
      "  'mask_img': None,\n",
      "  'smoothing_fwhm': None,\n",
      "  'standardize': True,\n",
      "  't_r': None,\n",
      "  'target_affine': array([[  -2.,    0.,    0.,   90.],\n",
      "       [   0.,    2.,    0., -126.],\n",
      "       [   0.,    0.,    2.,  -72.],\n",
      "       [   0.,    0.,    0.,    1.]]),\n",
      "  'target_shape': (91, 109, 91)}, memory=Memory(location=nilearn_cache\\joblib), confounds=None, dtype=None, verbose=5, memory_level=1)\n",
      "[NiftiLabelsMasker.transform_single_imgs] Loading data from F:\\ece\\capstone\\code\\py\\data\\abide\\traindata\\29251_0_rest_1.nii.gz\n"
     ]
    },
    {
     "name": "stderr",
     "output_type": "stream",
     "text": [
      "C:\\Users\\June Cai\\AppData\\Roaming\\Python\\Python35\\site-packages\\nilearn\\_utils\\cache_mixin.py:232: DeprecationWarning: The 'cachedir' attribute has been deprecated in version 0.12 and will be removed in version 0.14.\n",
      "Use os.path.join(memory.location, 'joblib') attribute instead.\n",
      "  if (memory.cachedir is None and memory_level is not None\n"
     ]
    },
    {
     "name": "stdout",
     "output_type": "stream",
     "text": [
      "[NiftiLabelsMasker.transform_single_imgs] Resampling images\n"
     ]
    },
    {
     "name": "stderr",
     "output_type": "stream",
     "text": [
      "C:\\Users\\June Cai\\AppData\\Roaming\\Python\\Python35\\site-packages\\nilearn\\image\\resampling.py:510: UserWarning: Casting data from int16 to float32\n",
      "  warnings.warn(\"Casting data from %s to %s\" % (data.dtype.name, aux))\n"
     ]
    },
    {
     "name": "stdout",
     "output_type": "stream",
     "text": [
      "[NiftiLabelsMasker.transform_single_imgs] Extracting region signals\n",
      "[NiftiLabelsMasker.transform_single_imgs] Cleaning extracted signals\n",
      "______________________________________________filter_and_extract - 38.4s, 0.6min\n",
      "[[1.         0.0717803  0.07226402 ... 0.06684328 0.06189361 0.02319003]\n",
      " [0.0717803  1.         0.07214896 ... 0.06966866 0.06255972 0.02432322]\n",
      " [0.07226403 0.07214896 1.         ... 0.06731536 0.06244292 0.02258549]\n",
      " ...\n",
      " [0.06684328 0.06966866 0.06731537 ... 1.         0.06059971 0.0252968 ]\n",
      " [0.06189361 0.06255972 0.06244292 ... 0.06059971 1.         0.02005146]\n",
      " [0.02319003 0.02432322 0.02258549 ... 0.0252968  0.02005146 1.        ]] (1, -1)\n",
      "(48, 48)\n",
      "processed: 76\n",
      "rest\n",
      "[NiftiLabelsMasker.fit_transform] loading data from C:\\Users\\June Cai/nilearn_data\\fsl\\data\\atlases\\HarvardOxford\\HarvardOxford-cort-maxprob-thr25-2mm.nii.gz\n",
      "________________________________________________________________________________\n",
      "[Memory] Calling nilearn.input_data.base_masker.filter_and_extract...\n",
      "filter_and_extract('F:\\\\ece\\\\capstone\\\\code\\\\py\\\\data\\\\abide\\\\traindata\\\\29252_0_rest_1.nii.gz', <nilearn.input_data.nifti_labels_masker._ExtractionFunctor object at 0x00000293024E1D68>, \n",
      "{ 'background_label': 0,\n",
      "  'detrend': False,\n",
      "  'dtype': None,\n",
      "  'high_pass': None,\n",
      "  'labels_img': 'C:\\\\Users\\\\June '\n",
      "                'Cai/nilearn_data\\\\fsl\\\\data\\\\atlases\\\\HarvardOxford\\\\HarvardOxford-cort-maxprob-thr25-2mm.nii.gz',\n",
      "  'low_pass': None,\n",
      "  'mask_img': None,\n",
      "  'smoothing_fwhm': None,\n",
      "  'standardize': True,\n",
      "  't_r': None,\n",
      "  'target_affine': array([[  -2.,    0.,    0.,   90.],\n",
      "       [   0.,    2.,    0., -126.],\n",
      "       [   0.,    0.,    2.,  -72.],\n",
      "       [   0.,    0.,    0.,    1.]]),\n",
      "  'target_shape': (91, 109, 91)}, memory=Memory(location=nilearn_cache\\joblib), confounds=None, dtype=None, verbose=5, memory_level=1)\n",
      "[NiftiLabelsMasker.transform_single_imgs] Loading data from F:\\ece\\capstone\\code\\py\\data\\abide\\traindata\\29252_0_rest_1.nii.gz\n"
     ]
    },
    {
     "name": "stderr",
     "output_type": "stream",
     "text": [
      "C:\\Users\\June Cai\\AppData\\Roaming\\Python\\Python35\\site-packages\\nilearn\\_utils\\cache_mixin.py:232: DeprecationWarning: The 'cachedir' attribute has been deprecated in version 0.12 and will be removed in version 0.14.\n",
      "Use os.path.join(memory.location, 'joblib') attribute instead.\n",
      "  if (memory.cachedir is None and memory_level is not None\n"
     ]
    },
    {
     "name": "stdout",
     "output_type": "stream",
     "text": [
      "[NiftiLabelsMasker.transform_single_imgs] Resampling images\n"
     ]
    },
    {
     "name": "stderr",
     "output_type": "stream",
     "text": [
      "C:\\Users\\June Cai\\AppData\\Roaming\\Python\\Python35\\site-packages\\nilearn\\image\\resampling.py:510: UserWarning: Casting data from int16 to float32\n",
      "  warnings.warn(\"Casting data from %s to %s\" % (data.dtype.name, aux))\n"
     ]
    },
    {
     "name": "stdout",
     "output_type": "stream",
     "text": [
      "[NiftiLabelsMasker.transform_single_imgs] Extracting region signals\n",
      "[NiftiLabelsMasker.transform_single_imgs] Cleaning extracted signals\n",
      "______________________________________________filter_and_extract - 31.6s, 0.5min\n",
      "[[1.         0.30693966 0.27935958 ... 0.09280016 0.2634059  0.22089085]\n",
      " [0.30693966 1.         0.19511315 ... 0.06181412 0.24012685 0.20758487]\n",
      " [0.2793596  0.19511315 1.         ... 0.22751203 0.34073073 0.17917995]\n",
      " ...\n",
      " [0.09280016 0.06181412 0.22751203 ... 1.         0.2523586  0.06574369]\n",
      " [0.2634059  0.24012686 0.34073073 ... 0.2523586  1.         0.19180986]\n",
      " [0.22089083 0.20758487 0.17917997 ... 0.06574369 0.19180988 1.        ]] (1, -1)\n",
      "(48, 48)\n",
      "processed: 77\n",
      "rest\n",
      "[NiftiLabelsMasker.fit_transform] loading data from C:\\Users\\June Cai/nilearn_data\\fsl\\data\\atlases\\HarvardOxford\\HarvardOxford-cort-maxprob-thr25-2mm.nii.gz\n",
      "________________________________________________________________________________\n",
      "[Memory] Calling nilearn.input_data.base_masker.filter_and_extract...\n",
      "filter_and_extract('F:\\\\ece\\\\capstone\\\\code\\\\py\\\\data\\\\abide\\\\traindata\\\\29253_0_rest_1.nii.gz', <nilearn.input_data.nifti_labels_masker._ExtractionFunctor object at 0x0000029302D70EF0>, \n",
      "{ 'background_label': 0,\n",
      "  'detrend': False,\n",
      "  'dtype': None,\n",
      "  'high_pass': None,\n",
      "  'labels_img': 'C:\\\\Users\\\\June '\n",
      "                'Cai/nilearn_data\\\\fsl\\\\data\\\\atlases\\\\HarvardOxford\\\\HarvardOxford-cort-maxprob-thr25-2mm.nii.gz',\n",
      "  'low_pass': None,\n",
      "  'mask_img': None,\n",
      "  'smoothing_fwhm': None,\n",
      "  'standardize': True,\n",
      "  't_r': None,\n",
      "  'target_affine': array([[  -2.,    0.,    0.,   90.],\n",
      "       [   0.,    2.,    0., -126.],\n",
      "       [   0.,    0.,    2.,  -72.],\n",
      "       [   0.,    0.,    0.,    1.]]),\n",
      "  'target_shape': (91, 109, 91)}, memory=Memory(location=nilearn_cache\\joblib), confounds=None, dtype=None, verbose=5, memory_level=1)\n",
      "[NiftiLabelsMasker.transform_single_imgs] Loading data from F:\\ece\\capstone\\code\\py\\data\\abide\\traindata\\29253_0_rest_1.nii.gz\n"
     ]
    },
    {
     "name": "stderr",
     "output_type": "stream",
     "text": [
      "C:\\Users\\June Cai\\AppData\\Roaming\\Python\\Python35\\site-packages\\nilearn\\_utils\\cache_mixin.py:232: DeprecationWarning: The 'cachedir' attribute has been deprecated in version 0.12 and will be removed in version 0.14.\n",
      "Use os.path.join(memory.location, 'joblib') attribute instead.\n",
      "  if (memory.cachedir is None and memory_level is not None\n"
     ]
    },
    {
     "name": "stdout",
     "output_type": "stream",
     "text": [
      "[NiftiLabelsMasker.transform_single_imgs] Resampling images\n"
     ]
    },
    {
     "name": "stderr",
     "output_type": "stream",
     "text": [
      "C:\\Users\\June Cai\\AppData\\Roaming\\Python\\Python35\\site-packages\\nilearn\\image\\resampling.py:510: UserWarning: Casting data from int16 to float32\n",
      "  warnings.warn(\"Casting data from %s to %s\" % (data.dtype.name, aux))\n"
     ]
    },
    {
     "name": "stdout",
     "output_type": "stream",
     "text": [
      "[NiftiLabelsMasker.transform_single_imgs] Extracting region signals\n",
      "[NiftiLabelsMasker.transform_single_imgs] Cleaning extracted signals\n",
      "______________________________________________filter_and_extract - 31.6s, 0.5min\n",
      "[[ 1.          0.15303026  0.14705503 ...  0.0479151   0.09704832\n",
      "   0.02734732]\n",
      " [ 0.15303026  1.          0.1442467  ...  0.05628059  0.09070837\n",
      "   0.02747342]\n",
      " [ 0.14705503  0.1442467   1.         ...  0.10760115  0.05847361\n",
      "   0.03242439]\n",
      " ...\n",
      " [ 0.0479151   0.05628059  0.10760115 ...  1.         -0.08038259\n",
      "   0.04721067]\n",
      " [ 0.09704832  0.09070837  0.05847361 ... -0.08038259  1.\n",
      "  -0.01949331]\n",
      " [ 0.02734732  0.02747342  0.03242439 ...  0.04721067 -0.01949331\n",
      "   1.        ]] (1, -1)\n",
      "(48, 48)\n",
      "processed: 78\n",
      "rest\n",
      "[NiftiLabelsMasker.fit_transform] loading data from C:\\Users\\June Cai/nilearn_data\\fsl\\data\\atlases\\HarvardOxford\\HarvardOxford-cort-maxprob-thr25-2mm.nii.gz\n",
      "________________________________________________________________________________\n",
      "[Memory] Calling nilearn.input_data.base_masker.filter_and_extract...\n",
      "filter_and_extract('F:\\\\ece\\\\capstone\\\\code\\\\py\\\\data\\\\abide\\\\traindata\\\\29254_3_rest_1.nii.gz', <nilearn.input_data.nifti_labels_masker._ExtractionFunctor object at 0x0000029372699588>, \n",
      "{ 'background_label': 0,\n",
      "  'detrend': False,\n",
      "  'dtype': None,\n",
      "  'high_pass': None,\n",
      "  'labels_img': 'C:\\\\Users\\\\June '\n",
      "                'Cai/nilearn_data\\\\fsl\\\\data\\\\atlases\\\\HarvardOxford\\\\HarvardOxford-cort-maxprob-thr25-2mm.nii.gz',\n",
      "  'low_pass': None,\n",
      "  'mask_img': None,\n",
      "  'smoothing_fwhm': None,\n",
      "  'standardize': True,\n",
      "  't_r': None,\n",
      "  'target_affine': array([[  -2.,    0.,    0.,   90.],\n",
      "       [   0.,    2.,    0., -126.],\n",
      "       [   0.,    0.,    2.,  -72.],\n",
      "       [   0.,    0.,    0.,    1.]]),\n",
      "  'target_shape': (91, 109, 91)}, memory=Memory(location=nilearn_cache\\joblib), confounds=None, dtype=None, verbose=5, memory_level=1)\n",
      "[NiftiLabelsMasker.transform_single_imgs] Loading data from F:\\ece\\capstone\\code\\py\\data\\abide\\traindata\\29254_3_rest_1.nii.gz\n"
     ]
    },
    {
     "name": "stderr",
     "output_type": "stream",
     "text": [
      "C:\\Users\\June Cai\\AppData\\Roaming\\Python\\Python35\\site-packages\\nilearn\\_utils\\cache_mixin.py:232: DeprecationWarning: The 'cachedir' attribute has been deprecated in version 0.12 and will be removed in version 0.14.\n",
      "Use os.path.join(memory.location, 'joblib') attribute instead.\n",
      "  if (memory.cachedir is None and memory_level is not None\n"
     ]
    },
    {
     "name": "stdout",
     "output_type": "stream",
     "text": [
      "[NiftiLabelsMasker.transform_single_imgs] Resampling images\n"
     ]
    },
    {
     "name": "stderr",
     "output_type": "stream",
     "text": [
      "C:\\Users\\June Cai\\AppData\\Roaming\\Python\\Python35\\site-packages\\nilearn\\image\\resampling.py:510: UserWarning: Casting data from int16 to float32\n",
      "  warnings.warn(\"Casting data from %s to %s\" % (data.dtype.name, aux))\n"
     ]
    },
    {
     "name": "stdout",
     "output_type": "stream",
     "text": [
      "[NiftiLabelsMasker.transform_single_imgs] Extracting region signals\n",
      "[NiftiLabelsMasker.transform_single_imgs] Cleaning extracted signals\n",
      "______________________________________________filter_and_extract - 32.4s, 0.5min\n",
      "[[1.         0.05134444 0.05136165 ... 0.04040704 0.04950726 0.02301609]\n",
      " [0.05134444 1.         0.05101088 ... 0.03981423 0.04995216 0.02291171]\n",
      " [0.05136165 0.05101088 1.         ... 0.04389359 0.04980334 0.02195132]\n",
      " ...\n",
      " [0.04040704 0.03981423 0.04389359 ... 1.         0.04221421 0.0201256 ]\n",
      " [0.04950726 0.04995216 0.04980334 ... 0.04221421 1.         0.02199982]\n",
      " [0.02301609 0.02291171 0.02195132 ... 0.0201256  0.02199982 1.        ]] (1, -1)\n",
      "(48, 48)\n",
      "processed: 79\n",
      "rest\n",
      "[NiftiLabelsMasker.fit_transform] loading data from C:\\Users\\June Cai/nilearn_data\\fsl\\data\\atlases\\HarvardOxford\\HarvardOxford-cort-maxprob-thr25-2mm.nii.gz\n",
      "________________________________________________________________________________\n",
      "[Memory] Calling nilearn.input_data.base_masker.filter_and_extract...\n",
      "filter_and_extract('F:\\\\ece\\\\capstone\\\\code\\\\py\\\\data\\\\abide\\\\traindata\\\\29869_3_rest_1.nii.gz', <nilearn.input_data.nifti_labels_masker._ExtractionFunctor object at 0x00000293048BCF28>, \n",
      "{ 'background_label': 0,\n",
      "  'detrend': False,\n",
      "  'dtype': None,\n",
      "  'high_pass': None,\n",
      "  'labels_img': 'C:\\\\Users\\\\June '\n",
      "                'Cai/nilearn_data\\\\fsl\\\\data\\\\atlases\\\\HarvardOxford\\\\HarvardOxford-cort-maxprob-thr25-2mm.nii.gz',\n",
      "  'low_pass': None,\n",
      "  'mask_img': None,\n",
      "  'smoothing_fwhm': None,\n",
      "  'standardize': True,\n",
      "  't_r': None,\n",
      "  'target_affine': array([[  -2.,    0.,    0.,   90.],\n",
      "       [   0.,    2.,    0., -126.],\n",
      "       [   0.,    0.,    2.,  -72.],\n",
      "       [   0.,    0.,    0.,    1.]]),\n",
      "  'target_shape': (91, 109, 91)}, memory=Memory(location=nilearn_cache\\joblib), confounds=None, dtype=None, verbose=5, memory_level=1)\n",
      "[NiftiLabelsMasker.transform_single_imgs] Loading data from F:\\ece\\capstone\\code\\py\\data\\abide\\traindata\\29869_3_rest_1.nii.gz\n"
     ]
    },
    {
     "name": "stderr",
     "output_type": "stream",
     "text": [
      "C:\\Users\\June Cai\\AppData\\Roaming\\Python\\Python35\\site-packages\\nilearn\\_utils\\cache_mixin.py:232: DeprecationWarning: The 'cachedir' attribute has been deprecated in version 0.12 and will be removed in version 0.14.\n",
      "Use os.path.join(memory.location, 'joblib') attribute instead.\n",
      "  if (memory.cachedir is None and memory_level is not None\n"
     ]
    },
    {
     "name": "stdout",
     "output_type": "stream",
     "text": [
      "[NiftiLabelsMasker.transform_single_imgs] Resampling images\n"
     ]
    },
    {
     "name": "stderr",
     "output_type": "stream",
     "text": [
      "C:\\Users\\June Cai\\AppData\\Roaming\\Python\\Python35\\site-packages\\nilearn\\image\\resampling.py:510: UserWarning: Casting data from int16 to float32\n",
      "  warnings.warn(\"Casting data from %s to %s\" % (data.dtype.name, aux))\n"
     ]
    },
    {
     "name": "stdout",
     "output_type": "stream",
     "text": [
      "[NiftiLabelsMasker.transform_single_imgs] Extracting region signals\n",
      "[NiftiLabelsMasker.transform_single_imgs] Cleaning extracted signals\n",
      "______________________________________________filter_and_extract - 30.7s, 0.5min\n",
      "[[1.         0.06315837 0.06109095 ... 0.04500318 0.04215639 0.        ]\n",
      " [0.06315837 1.         0.06302079 ... 0.05034636 0.0420278  0.        ]\n",
      " [0.06109095 0.06302079 1.         ... 0.05443584 0.04060718 0.        ]\n",
      " ...\n",
      " [0.04500318 0.05034636 0.05443584 ... 1.         0.02952597 0.        ]\n",
      " [0.04215639 0.0420278  0.04060718 ... 0.02952597 1.         0.        ]\n",
      " [0.         0.         0.         ... 0.         0.         1.        ]] (1, -1)\n",
      "(48, 48)\n",
      "processed: 80\n",
      "rest\n",
      "[NiftiLabelsMasker.fit_transform] loading data from C:\\Users\\June Cai/nilearn_data\\fsl\\data\\atlases\\HarvardOxford\\HarvardOxford-cort-maxprob-thr25-2mm.nii.gz\n",
      "________________________________________________________________________________\n",
      "[Memory] Calling nilearn.input_data.base_masker.filter_and_extract...\n",
      "filter_and_extract('F:\\\\ece\\\\capstone\\\\code\\\\py\\\\data\\\\abide\\\\traindata\\\\29872_3_rest_1.nii.gz', <nilearn.input_data.nifti_labels_masker._ExtractionFunctor object at 0x0000029372699588>, \n",
      "{ 'background_label': 0,\n",
      "  'detrend': False,\n",
      "  'dtype': None,\n",
      "  'high_pass': None,\n",
      "  'labels_img': 'C:\\\\Users\\\\June '\n",
      "                'Cai/nilearn_data\\\\fsl\\\\data\\\\atlases\\\\HarvardOxford\\\\HarvardOxford-cort-maxprob-thr25-2mm.nii.gz',\n",
      "  'low_pass': None,\n",
      "  'mask_img': None,\n",
      "  'smoothing_fwhm': None,\n",
      "  'standardize': True,\n",
      "  't_r': None,\n",
      "  'target_affine': array([[  -2.,    0.,    0.,   90.],\n",
      "       [   0.,    2.,    0., -126.],\n",
      "       [   0.,    0.,    2.,  -72.],\n",
      "       [   0.,    0.,    0.,    1.]]),\n",
      "  'target_shape': (91, 109, 91)}, memory=Memory(location=nilearn_cache\\joblib), confounds=None, dtype=None, verbose=5, memory_level=1)\n",
      "[NiftiLabelsMasker.transform_single_imgs] Loading data from F:\\ece\\capstone\\code\\py\\data\\abide\\traindata\\29872_3_rest_1.nii.gz\n"
     ]
    },
    {
     "name": "stderr",
     "output_type": "stream",
     "text": [
      "C:\\Users\\June Cai\\AppData\\Roaming\\Python\\Python35\\site-packages\\nilearn\\_utils\\cache_mixin.py:232: DeprecationWarning: The 'cachedir' attribute has been deprecated in version 0.12 and will be removed in version 0.14.\n",
      "Use os.path.join(memory.location, 'joblib') attribute instead.\n",
      "  if (memory.cachedir is None and memory_level is not None\n"
     ]
    },
    {
     "name": "stdout",
     "output_type": "stream",
     "text": [
      "[NiftiLabelsMasker.transform_single_imgs] Resampling images\n"
     ]
    },
    {
     "name": "stderr",
     "output_type": "stream",
     "text": [
      "C:\\Users\\June Cai\\AppData\\Roaming\\Python\\Python35\\site-packages\\nilearn\\image\\resampling.py:510: UserWarning: Casting data from int16 to float32\n",
      "  warnings.warn(\"Casting data from %s to %s\" % (data.dtype.name, aux))\n"
     ]
    },
    {
     "name": "stdout",
     "output_type": "stream",
     "text": [
      "[NiftiLabelsMasker.transform_single_imgs] Extracting region signals\n",
      "[NiftiLabelsMasker.transform_single_imgs] Cleaning extracted signals\n",
      "______________________________________________filter_and_extract - 26.9s, 0.4min\n",
      "[[1.         0.16802956 0.1703753  ... 0.16380735 0.14339174 0.        ]\n",
      " [0.16802956 1.         0.16791433 ... 0.16280329 0.14398983 0.        ]\n",
      " [0.1703753  0.16791433 1.         ... 0.15888812 0.15132943 0.        ]\n",
      " ...\n",
      " [0.16380735 0.16280329 0.15888812 ... 1.         0.12394169 0.        ]\n",
      " [0.14339174 0.14398983 0.15132943 ... 0.1239417  1.         0.        ]\n",
      " [0.         0.         0.         ... 0.         0.         1.        ]] (1, -1)\n",
      "(48, 48)\n",
      "processed: 81\n",
      "rest\n",
      "[NiftiLabelsMasker.fit_transform] loading data from C:\\Users\\June Cai/nilearn_data\\fsl\\data\\atlases\\HarvardOxford\\HarvardOxford-cort-maxprob-thr25-2mm.nii.gz\n",
      "________________________________________________________________________________\n",
      "[Memory] Calling nilearn.input_data.base_masker.filter_and_extract...\n",
      "filter_and_extract('F:\\\\ece\\\\capstone\\\\code\\\\py\\\\data\\\\abide\\\\traindata\\\\29873_3_rest_1.nii.gz', <nilearn.input_data.nifti_labels_masker._ExtractionFunctor object at 0x00000293049504A8>, \n",
      "{ 'background_label': 0,\n",
      "  'detrend': False,\n",
      "  'dtype': None,\n",
      "  'high_pass': None,\n",
      "  'labels_img': 'C:\\\\Users\\\\June '\n",
      "                'Cai/nilearn_data\\\\fsl\\\\data\\\\atlases\\\\HarvardOxford\\\\HarvardOxford-cort-maxprob-thr25-2mm.nii.gz',\n",
      "  'low_pass': None,\n",
      "  'mask_img': None,\n",
      "  'smoothing_fwhm': None,\n",
      "  'standardize': True,\n",
      "  't_r': None,\n",
      "  'target_affine': array([[  -2.,    0.,    0.,   90.],\n",
      "       [   0.,    2.,    0., -126.],\n",
      "       [   0.,    0.,    2.,  -72.],\n",
      "       [   0.,    0.,    0.,    1.]]),\n",
      "  'target_shape': (91, 109, 91)}, memory=Memory(location=nilearn_cache\\joblib), confounds=None, dtype=None, verbose=5, memory_level=1)\n",
      "[NiftiLabelsMasker.transform_single_imgs] Loading data from F:\\ece\\capstone\\code\\py\\data\\abide\\traindata\\29873_3_rest_1.nii.gz\n"
     ]
    },
    {
     "name": "stderr",
     "output_type": "stream",
     "text": [
      "C:\\Users\\June Cai\\AppData\\Roaming\\Python\\Python35\\site-packages\\nilearn\\_utils\\cache_mixin.py:232: DeprecationWarning: The 'cachedir' attribute has been deprecated in version 0.12 and will be removed in version 0.14.\n",
      "Use os.path.join(memory.location, 'joblib') attribute instead.\n",
      "  if (memory.cachedir is None and memory_level is not None\n"
     ]
    },
    {
     "name": "stdout",
     "output_type": "stream",
     "text": [
      "[NiftiLabelsMasker.transform_single_imgs] Resampling images\n"
     ]
    },
    {
     "name": "stderr",
     "output_type": "stream",
     "text": [
      "C:\\Users\\June Cai\\AppData\\Roaming\\Python\\Python35\\site-packages\\nilearn\\image\\resampling.py:510: UserWarning: Casting data from int16 to float32\n",
      "  warnings.warn(\"Casting data from %s to %s\" % (data.dtype.name, aux))\n"
     ]
    },
    {
     "name": "stdout",
     "output_type": "stream",
     "text": [
      "[NiftiLabelsMasker.transform_single_imgs] Extracting region signals\n",
      "[NiftiLabelsMasker.transform_single_imgs] Cleaning extracted signals\n",
      "______________________________________________filter_and_extract - 31.9s, 0.5min\n",
      "[[ 1.          0.38932186  0.32031226 ...  0.21200804  0.25610787\n",
      "  -0.0557566 ]\n",
      " [ 0.38932186  1.          0.34395662 ...  0.31319207  0.23017515\n",
      "   0.04014582]\n",
      " [ 0.32031226  0.34395662  1.         ...  0.30093443  0.20523125\n",
      "   0.04169359]\n",
      " ...\n",
      " [ 0.21200804  0.31319207  0.30093443 ...  1.          0.18347509\n",
      "   0.06463635]\n",
      " [ 0.25610787  0.23017515  0.20523126 ...  0.18347509  1.\n",
      "   0.03513994]\n",
      " [-0.05575659  0.04014582  0.04169359 ...  0.06463635  0.03513994\n",
      "   1.        ]] (1, -1)\n",
      "(48, 48)\n",
      "processed: 82\n",
      "rest\n",
      "[NiftiLabelsMasker.fit_transform] loading data from C:\\Users\\June Cai/nilearn_data\\fsl\\data\\atlases\\HarvardOxford\\HarvardOxford-cort-maxprob-thr25-2mm.nii.gz\n",
      "________________________________________________________________________________\n",
      "[Memory] Calling nilearn.input_data.base_masker.filter_and_extract...\n",
      "filter_and_extract('F:\\\\ece\\\\capstone\\\\code\\\\py\\\\data\\\\abide\\\\traindata\\\\29874_3_rest_1.nii.gz', <nilearn.input_data.nifti_labels_masker._ExtractionFunctor object at 0x000002930474C8D0>, \n",
      "{ 'background_label': 0,\n",
      "  'detrend': False,\n",
      "  'dtype': None,\n",
      "  'high_pass': None,\n",
      "  'labels_img': 'C:\\\\Users\\\\June '\n",
      "                'Cai/nilearn_data\\\\fsl\\\\data\\\\atlases\\\\HarvardOxford\\\\HarvardOxford-cort-maxprob-thr25-2mm.nii.gz',\n",
      "  'low_pass': None,\n",
      "  'mask_img': None,\n",
      "  'smoothing_fwhm': None,\n",
      "  'standardize': True,\n",
      "  't_r': None,\n",
      "  'target_affine': array([[  -2.,    0.,    0.,   90.],\n",
      "       [   0.,    2.,    0., -126.],\n",
      "       [   0.,    0.,    2.,  -72.],\n",
      "       [   0.,    0.,    0.,    1.]]),\n",
      "  'target_shape': (91, 109, 91)}, memory=Memory(location=nilearn_cache\\joblib), confounds=None, dtype=None, verbose=5, memory_level=1)\n",
      "[NiftiLabelsMasker.transform_single_imgs] Loading data from F:\\ece\\capstone\\code\\py\\data\\abide\\traindata\\29874_3_rest_1.nii.gz\n"
     ]
    },
    {
     "name": "stderr",
     "output_type": "stream",
     "text": [
      "C:\\Users\\June Cai\\AppData\\Roaming\\Python\\Python35\\site-packages\\nilearn\\_utils\\cache_mixin.py:232: DeprecationWarning: The 'cachedir' attribute has been deprecated in version 0.12 and will be removed in version 0.14.\n",
      "Use os.path.join(memory.location, 'joblib') attribute instead.\n",
      "  if (memory.cachedir is None and memory_level is not None\n"
     ]
    },
    {
     "name": "stdout",
     "output_type": "stream",
     "text": [
      "[NiftiLabelsMasker.transform_single_imgs] Resampling images\n"
     ]
    },
    {
     "name": "stderr",
     "output_type": "stream",
     "text": [
      "C:\\Users\\June Cai\\AppData\\Roaming\\Python\\Python35\\site-packages\\nilearn\\image\\resampling.py:510: UserWarning: Casting data from int16 to float32\n",
      "  warnings.warn(\"Casting data from %s to %s\" % (data.dtype.name, aux))\n"
     ]
    },
    {
     "name": "stdout",
     "output_type": "stream",
     "text": [
      "[NiftiLabelsMasker.transform_single_imgs] Extracting region signals\n",
      "[NiftiLabelsMasker.transform_single_imgs] Cleaning extracted signals\n",
      "______________________________________________filter_and_extract - 31.7s, 0.5min\n",
      "[[1.         0.06308828 0.06265633 ... 0.06101279 0.01892735 0.        ]\n",
      " [0.06308828 1.         0.06526926 ... 0.06571647 0.03684288 0.        ]\n",
      " [0.06265633 0.06526926 1.         ... 0.06503993 0.03599358 0.        ]\n",
      " ...\n",
      " [0.06101279 0.06571647 0.06503993 ... 1.         0.04119527 0.        ]\n",
      " [0.01892735 0.03684288 0.03599358 ... 0.04119527 1.         0.        ]\n",
      " [0.         0.         0.         ... 0.         0.         1.        ]] (1, -1)\n",
      "(48, 48)\n",
      "processed: 83\n",
      "rest\n",
      "[NiftiLabelsMasker.fit_transform] loading data from C:\\Users\\June Cai/nilearn_data\\fsl\\data\\atlases\\HarvardOxford\\HarvardOxford-cort-maxprob-thr25-2mm.nii.gz\n",
      "________________________________________________________________________________\n",
      "[Memory] Calling nilearn.input_data.base_masker.filter_and_extract...\n",
      "filter_and_extract('F:\\\\ece\\\\capstone\\\\code\\\\py\\\\data\\\\abide\\\\traindata\\\\29877_3_rest_1.nii.gz', <nilearn.input_data.nifti_labels_masker._ExtractionFunctor object at 0x000002937FE8B080>, \n",
      "{ 'background_label': 0,\n",
      "  'detrend': False,\n",
      "  'dtype': None,\n",
      "  'high_pass': None,\n",
      "  'labels_img': 'C:\\\\Users\\\\June '\n",
      "                'Cai/nilearn_data\\\\fsl\\\\data\\\\atlases\\\\HarvardOxford\\\\HarvardOxford-cort-maxprob-thr25-2mm.nii.gz',\n",
      "  'low_pass': None,\n",
      "  'mask_img': None,\n",
      "  'smoothing_fwhm': None,\n",
      "  'standardize': True,\n",
      "  't_r': None,\n",
      "  'target_affine': array([[  -2.,    0.,    0.,   90.],\n",
      "       [   0.,    2.,    0., -126.],\n",
      "       [   0.,    0.,    2.,  -72.],\n",
      "       [   0.,    0.,    0.,    1.]]),\n",
      "  'target_shape': (91, 109, 91)}, memory=Memory(location=nilearn_cache\\joblib), confounds=None, dtype=None, verbose=5, memory_level=1)\n",
      "[NiftiLabelsMasker.transform_single_imgs] Loading data from F:\\ece\\capstone\\code\\py\\data\\abide\\traindata\\29877_3_rest_1.nii.gz\n"
     ]
    },
    {
     "name": "stderr",
     "output_type": "stream",
     "text": [
      "C:\\Users\\June Cai\\AppData\\Roaming\\Python\\Python35\\site-packages\\nilearn\\_utils\\cache_mixin.py:232: DeprecationWarning: The 'cachedir' attribute has been deprecated in version 0.12 and will be removed in version 0.14.\n",
      "Use os.path.join(memory.location, 'joblib') attribute instead.\n",
      "  if (memory.cachedir is None and memory_level is not None\n"
     ]
    },
    {
     "name": "stdout",
     "output_type": "stream",
     "text": [
      "[NiftiLabelsMasker.transform_single_imgs] Resampling images\n"
     ]
    },
    {
     "name": "stderr",
     "output_type": "stream",
     "text": [
      "C:\\Users\\June Cai\\AppData\\Roaming\\Python\\Python35\\site-packages\\nilearn\\image\\resampling.py:510: UserWarning: Casting data from int16 to float32\n",
      "  warnings.warn(\"Casting data from %s to %s\" % (data.dtype.name, aux))\n"
     ]
    },
    {
     "name": "stdout",
     "output_type": "stream",
     "text": [
      "[NiftiLabelsMasker.transform_single_imgs] Extracting region signals\n",
      "[NiftiLabelsMasker.transform_single_imgs] Cleaning extracted signals\n",
      "______________________________________________filter_and_extract - 31.5s, 0.5min\n",
      "[[1.         0.07119887 0.07182474 ... 0.06112508 0.03700761 0.        ]\n",
      " [0.07119887 1.         0.06934379 ... 0.06586315 0.04617726 0.        ]\n",
      " [0.07182474 0.06934379 1.         ... 0.05630082 0.03016118 0.        ]\n",
      " ...\n",
      " [0.06112508 0.06586315 0.05630082 ... 1.         0.0632183  0.        ]\n",
      " [0.03700761 0.04617726 0.03016118 ... 0.0632183  1.         0.        ]\n",
      " [0.         0.         0.         ... 0.         0.         1.        ]] (1, -1)\n",
      "(48, 48)\n",
      "processed: 84\n",
      "rest\n",
      "[NiftiLabelsMasker.fit_transform] loading data from C:\\Users\\June Cai/nilearn_data\\fsl\\data\\atlases\\HarvardOxford\\HarvardOxford-cort-maxprob-thr25-2mm.nii.gz\n",
      "________________________________________________________________________________\n",
      "[Memory] Calling nilearn.input_data.base_masker.filter_and_extract...\n",
      "filter_and_extract('F:\\\\ece\\\\capstone\\\\code\\\\py\\\\data\\\\abide\\\\traindata\\\\29884_3_rest_1.nii.gz', <nilearn.input_data.nifti_labels_masker._ExtractionFunctor object at 0x00000293736FF908>, \n",
      "{ 'background_label': 0,\n",
      "  'detrend': False,\n",
      "  'dtype': None,\n",
      "  'high_pass': None,\n",
      "  'labels_img': 'C:\\\\Users\\\\June '\n",
      "                'Cai/nilearn_data\\\\fsl\\\\data\\\\atlases\\\\HarvardOxford\\\\HarvardOxford-cort-maxprob-thr25-2mm.nii.gz',\n",
      "  'low_pass': None,\n",
      "  'mask_img': None,\n",
      "  'smoothing_fwhm': None,\n",
      "  'standardize': True,\n",
      "  't_r': None,\n",
      "  'target_affine': array([[  -2.,    0.,    0.,   90.],\n",
      "       [   0.,    2.,    0., -126.],\n",
      "       [   0.,    0.,    2.,  -72.],\n",
      "       [   0.,    0.,    0.,    1.]]),\n",
      "  'target_shape': (91, 109, 91)}, memory=Memory(location=nilearn_cache\\joblib), confounds=None, dtype=None, verbose=5, memory_level=1)\n",
      "[NiftiLabelsMasker.transform_single_imgs] Loading data from F:\\ece\\capstone\\code\\py\\data\\abide\\traindata\\29884_3_rest_1.nii.gz\n"
     ]
    },
    {
     "name": "stderr",
     "output_type": "stream",
     "text": [
      "C:\\Users\\June Cai\\AppData\\Roaming\\Python\\Python35\\site-packages\\nilearn\\_utils\\cache_mixin.py:232: DeprecationWarning: The 'cachedir' attribute has been deprecated in version 0.12 and will be removed in version 0.14.\n",
      "Use os.path.join(memory.location, 'joblib') attribute instead.\n",
      "  if (memory.cachedir is None and memory_level is not None\n"
     ]
    },
    {
     "name": "stdout",
     "output_type": "stream",
     "text": [
      "[NiftiLabelsMasker.transform_single_imgs] Resampling images\n"
     ]
    },
    {
     "name": "stderr",
     "output_type": "stream",
     "text": [
      "C:\\Users\\June Cai\\AppData\\Roaming\\Python\\Python35\\site-packages\\nilearn\\image\\resampling.py:510: UserWarning: Casting data from int16 to float32\n",
      "  warnings.warn(\"Casting data from %s to %s\" % (data.dtype.name, aux))\n"
     ]
    },
    {
     "name": "stdout",
     "output_type": "stream",
     "text": [
      "[NiftiLabelsMasker.transform_single_imgs] Extracting region signals\n",
      "[NiftiLabelsMasker.transform_single_imgs] Cleaning extracted signals\n",
      "______________________________________________filter_and_extract - 31.6s, 0.5min\n",
      "[[ 1.          0.2694788   0.26480046 ...  0.15738153 -0.01772062\n",
      "   0.        ]\n",
      " [ 0.2694788   1.          0.27340838 ...  0.22473653  0.04333353\n",
      "   0.        ]\n",
      " [ 0.26480046  0.27340838  1.         ...  0.20809215  0.0910453\n",
      "   0.        ]\n",
      " ...\n",
      " [ 0.15738153  0.22473653  0.20809217 ...  1.          0.14738797\n",
      "   0.        ]\n",
      " [-0.01772062  0.04333353  0.0910453  ...  0.14738797  1.\n",
      "   0.        ]\n",
      " [ 0.          0.          0.         ...  0.          0.\n",
      "   1.        ]] (1, -1)\n",
      "(48, 48)\n",
      "processed: 85\n",
      "rest\n",
      "[NiftiLabelsMasker.fit_transform] loading data from C:\\Users\\June Cai/nilearn_data\\fsl\\data\\atlases\\HarvardOxford\\HarvardOxford-cort-maxprob-thr25-2mm.nii.gz\n",
      "________________________________________________________________________________\n",
      "[Memory] Calling nilearn.input_data.base_masker.filter_and_extract...\n",
      "filter_and_extract('F:\\\\ece\\\\capstone\\\\code\\\\py\\\\data\\\\abide\\\\traindata\\\\29885_3_rest_1.nii.gz', <nilearn.input_data.nifti_labels_masker._ExtractionFunctor object at 0x000002937FE8B080>, \n",
      "{ 'background_label': 0,\n",
      "  'detrend': False,\n",
      "  'dtype': None,\n",
      "  'high_pass': None,\n",
      "  'labels_img': 'C:\\\\Users\\\\June '\n",
      "                'Cai/nilearn_data\\\\fsl\\\\data\\\\atlases\\\\HarvardOxford\\\\HarvardOxford-cort-maxprob-thr25-2mm.nii.gz',\n",
      "  'low_pass': None,\n",
      "  'mask_img': None,\n",
      "  'smoothing_fwhm': None,\n",
      "  'standardize': True,\n",
      "  't_r': None,\n",
      "  'target_affine': array([[  -2.,    0.,    0.,   90.],\n",
      "       [   0.,    2.,    0., -126.],\n",
      "       [   0.,    0.,    2.,  -72.],\n",
      "       [   0.,    0.,    0.,    1.]]),\n",
      "  'target_shape': (91, 109, 91)}, memory=Memory(location=nilearn_cache\\joblib), confounds=None, dtype=None, verbose=5, memory_level=1)\n",
      "[NiftiLabelsMasker.transform_single_imgs] Loading data from F:\\ece\\capstone\\code\\py\\data\\abide\\traindata\\29885_3_rest_1.nii.gz\n"
     ]
    },
    {
     "name": "stderr",
     "output_type": "stream",
     "text": [
      "C:\\Users\\June Cai\\AppData\\Roaming\\Python\\Python35\\site-packages\\nilearn\\_utils\\cache_mixin.py:232: DeprecationWarning: The 'cachedir' attribute has been deprecated in version 0.12 and will be removed in version 0.14.\n",
      "Use os.path.join(memory.location, 'joblib') attribute instead.\n",
      "  if (memory.cachedir is None and memory_level is not None\n"
     ]
    },
    {
     "name": "stdout",
     "output_type": "stream",
     "text": [
      "[NiftiLabelsMasker.transform_single_imgs] Resampling images\n"
     ]
    },
    {
     "name": "stderr",
     "output_type": "stream",
     "text": [
      "C:\\Users\\June Cai\\AppData\\Roaming\\Python\\Python35\\site-packages\\nilearn\\image\\resampling.py:510: UserWarning: Casting data from int16 to float32\n",
      "  warnings.warn(\"Casting data from %s to %s\" % (data.dtype.name, aux))\n"
     ]
    },
    {
     "name": "stdout",
     "output_type": "stream",
     "text": [
      "[NiftiLabelsMasker.transform_single_imgs] Extracting region signals\n",
      "[NiftiLabelsMasker.transform_single_imgs] Cleaning extracted signals\n",
      "______________________________________________filter_and_extract - 30.7s, 0.5min\n",
      "[[1.         0.1747064  0.17880239 ... 0.13541299 0.05563217 0.        ]\n",
      " [0.1747064  1.         0.16672981 ... 0.14213125 0.0293634  0.        ]\n",
      " [0.17880239 0.16672981 1.         ... 0.13600107 0.07170542 0.        ]\n",
      " ...\n",
      " [0.13541299 0.14213125 0.13600107 ... 1.         0.05201453 0.        ]\n",
      " [0.05563217 0.0293634  0.07170542 ... 0.05201453 1.         0.        ]\n",
      " [0.         0.         0.         ... 0.         0.         1.        ]] (1, -1)\n",
      "(48, 48)\n",
      "processed: 86\n",
      "rest\n",
      "[NiftiLabelsMasker.fit_transform] loading data from C:\\Users\\June Cai/nilearn_data\\fsl\\data\\atlases\\HarvardOxford\\HarvardOxford-cort-maxprob-thr25-2mm.nii.gz\n",
      "________________________________________________________________________________\n",
      "[Memory] Calling nilearn.input_data.base_masker.filter_and_extract...\n",
      "filter_and_extract('F:\\\\ece\\\\capstone\\\\code\\\\py\\\\data\\\\abide\\\\traindata\\\\29889_3_rest_1.nii.gz', <nilearn.input_data.nifti_labels_masker._ExtractionFunctor object at 0x00000293736FFEB8>, \n",
      "{ 'background_label': 0,\n",
      "  'detrend': False,\n",
      "  'dtype': None,\n",
      "  'high_pass': None,\n",
      "  'labels_img': 'C:\\\\Users\\\\June '\n",
      "                'Cai/nilearn_data\\\\fsl\\\\data\\\\atlases\\\\HarvardOxford\\\\HarvardOxford-cort-maxprob-thr25-2mm.nii.gz',\n",
      "  'low_pass': None,\n",
      "  'mask_img': None,\n",
      "  'smoothing_fwhm': None,\n",
      "  'standardize': True,\n",
      "  't_r': None,\n",
      "  'target_affine': array([[  -2.,    0.,    0.,   90.],\n",
      "       [   0.,    2.,    0., -126.],\n",
      "       [   0.,    0.,    2.,  -72.],\n",
      "       [   0.,    0.,    0.,    1.]]),\n",
      "  'target_shape': (91, 109, 91)}, memory=Memory(location=nilearn_cache\\joblib), confounds=None, dtype=None, verbose=5, memory_level=1)\n",
      "[NiftiLabelsMasker.transform_single_imgs] Loading data from F:\\ece\\capstone\\code\\py\\data\\abide\\traindata\\29889_3_rest_1.nii.gz\n"
     ]
    },
    {
     "name": "stderr",
     "output_type": "stream",
     "text": [
      "C:\\Users\\June Cai\\AppData\\Roaming\\Python\\Python35\\site-packages\\nilearn\\_utils\\cache_mixin.py:232: DeprecationWarning: The 'cachedir' attribute has been deprecated in version 0.12 and will be removed in version 0.14.\n",
      "Use os.path.join(memory.location, 'joblib') attribute instead.\n",
      "  if (memory.cachedir is None and memory_level is not None\n"
     ]
    },
    {
     "name": "stdout",
     "output_type": "stream",
     "text": [
      "[NiftiLabelsMasker.transform_single_imgs] Resampling images\n"
     ]
    },
    {
     "name": "stderr",
     "output_type": "stream",
     "text": [
      "C:\\Users\\June Cai\\AppData\\Roaming\\Python\\Python35\\site-packages\\nilearn\\image\\resampling.py:510: UserWarning: Casting data from int16 to float32\n",
      "  warnings.warn(\"Casting data from %s to %s\" % (data.dtype.name, aux))\n"
     ]
    },
    {
     "name": "stdout",
     "output_type": "stream",
     "text": [
      "[NiftiLabelsMasker.transform_single_imgs] Extracting region signals\n",
      "[NiftiLabelsMasker.transform_single_imgs] Cleaning extracted signals\n",
      "______________________________________________filter_and_extract - 29.6s, 0.5min\n",
      "[[1.         0.65607345 0.32645756 ... 0.6039412  0.5426713  0.        ]\n",
      " [0.65607345 1.         0.38173103 ... 0.46877322 0.41701254 0.        ]\n",
      " [0.32645756 0.38173103 1.         ... 0.08467678 0.01075426 0.        ]\n",
      " ...\n",
      " [0.6039412  0.46877322 0.08467678 ... 1.         0.68053496 0.        ]\n",
      " [0.5426713  0.4170125  0.01075426 ... 0.68053496 1.         0.        ]\n",
      " [0.         0.         0.         ... 0.         0.         1.        ]] (1, -1)\n",
      "(48, 48)\n",
      "processed: 87\n",
      "rest\n",
      "[NiftiLabelsMasker.fit_transform] loading data from C:\\Users\\June Cai/nilearn_data\\fsl\\data\\atlases\\HarvardOxford\\HarvardOxford-cort-maxprob-thr25-2mm.nii.gz\n",
      "________________________________________________________________________________\n",
      "[Memory] Calling nilearn.input_data.base_masker.filter_and_extract...\n",
      "filter_and_extract('F:\\\\ece\\\\capstone\\\\code\\\\py\\\\data\\\\abide\\\\traindata\\\\29891_0_rest_1.nii.gz', <nilearn.input_data.nifti_labels_masker._ExtractionFunctor object at 0x000002937FEB9E10>, \n",
      "{ 'background_label': 0,\n",
      "  'detrend': False,\n",
      "  'dtype': None,\n",
      "  'high_pass': None,\n",
      "  'labels_img': 'C:\\\\Users\\\\June '\n",
      "                'Cai/nilearn_data\\\\fsl\\\\data\\\\atlases\\\\HarvardOxford\\\\HarvardOxford-cort-maxprob-thr25-2mm.nii.gz',\n",
      "  'low_pass': None,\n",
      "  'mask_img': None,\n",
      "  'smoothing_fwhm': None,\n",
      "  'standardize': True,\n",
      "  't_r': None,\n",
      "  'target_affine': array([[  -2.,    0.,    0.,   90.],\n",
      "       [   0.,    2.,    0., -126.],\n",
      "       [   0.,    0.,    2.,  -72.],\n",
      "       [   0.,    0.,    0.,    1.]]),\n",
      "  'target_shape': (91, 109, 91)}, memory=Memory(location=nilearn_cache\\joblib), confounds=None, dtype=None, verbose=5, memory_level=1)\n",
      "[NiftiLabelsMasker.transform_single_imgs] Loading data from F:\\ece\\capstone\\code\\py\\data\\abide\\traindata\\29891_0_rest_1.nii.gz\n"
     ]
    },
    {
     "name": "stderr",
     "output_type": "stream",
     "text": [
      "C:\\Users\\June Cai\\AppData\\Roaming\\Python\\Python35\\site-packages\\nilearn\\_utils\\cache_mixin.py:232: DeprecationWarning: The 'cachedir' attribute has been deprecated in version 0.12 and will be removed in version 0.14.\n",
      "Use os.path.join(memory.location, 'joblib') attribute instead.\n",
      "  if (memory.cachedir is None and memory_level is not None\n"
     ]
    },
    {
     "name": "stdout",
     "output_type": "stream",
     "text": [
      "[NiftiLabelsMasker.transform_single_imgs] Resampling images\n"
     ]
    },
    {
     "name": "stderr",
     "output_type": "stream",
     "text": [
      "C:\\Users\\June Cai\\AppData\\Roaming\\Python\\Python35\\site-packages\\nilearn\\image\\resampling.py:510: UserWarning: Casting data from int16 to float32\n",
      "  warnings.warn(\"Casting data from %s to %s\" % (data.dtype.name, aux))\n"
     ]
    },
    {
     "name": "stdout",
     "output_type": "stream",
     "text": [
      "[NiftiLabelsMasker.transform_single_imgs] Extracting region signals\n",
      "[NiftiLabelsMasker.transform_single_imgs] Cleaning extracted signals\n",
      "______________________________________________filter_and_extract - 31.3s, 0.5min\n",
      "[[1.         0.10026522 0.09741997 ... 0.09599937 0.06428267 0.        ]\n",
      " [0.10026521 1.         0.09718966 ... 0.09722717 0.06125846 0.        ]\n",
      " [0.09741997 0.09718966 1.         ... 0.09917119 0.07224271 0.        ]\n",
      " ...\n",
      " [0.09599936 0.09722717 0.09917119 ... 1.         0.06938995 0.        ]\n",
      " [0.06428267 0.06125846 0.07224271 ... 0.06938995 1.         0.        ]\n",
      " [0.         0.         0.         ... 0.         0.         1.        ]] (1, -1)\n",
      "(48, 48)\n",
      "processed: 88\n",
      "rest\n",
      "[NiftiLabelsMasker.fit_transform] loading data from C:\\Users\\June Cai/nilearn_data\\fsl\\data\\atlases\\HarvardOxford\\HarvardOxford-cort-maxprob-thr25-2mm.nii.gz\n",
      "________________________________________________________________________________\n",
      "[Memory] Calling nilearn.input_data.base_masker.filter_and_extract...\n",
      "filter_and_extract('F:\\\\ece\\\\capstone\\\\code\\\\py\\\\data\\\\abide\\\\traindata\\\\29892_0_rest_1.nii.gz', <nilearn.input_data.nifti_labels_masker._ExtractionFunctor object at 0x000002937F76E358>, \n",
      "{ 'background_label': 0,\n",
      "  'detrend': False,\n",
      "  'dtype': None,\n",
      "  'high_pass': None,\n",
      "  'labels_img': 'C:\\\\Users\\\\June '\n",
      "                'Cai/nilearn_data\\\\fsl\\\\data\\\\atlases\\\\HarvardOxford\\\\HarvardOxford-cort-maxprob-thr25-2mm.nii.gz',\n",
      "  'low_pass': None,\n",
      "  'mask_img': None,\n",
      "  'smoothing_fwhm': None,\n",
      "  'standardize': True,\n",
      "  't_r': None,\n",
      "  'target_affine': array([[  -2.,    0.,    0.,   90.],\n",
      "       [   0.,    2.,    0., -126.],\n",
      "       [   0.,    0.,    2.,  -72.],\n",
      "       [   0.,    0.,    0.,    1.]]),\n",
      "  'target_shape': (91, 109, 91)}, memory=Memory(location=nilearn_cache\\joblib), confounds=None, dtype=None, verbose=5, memory_level=1)\n",
      "[NiftiLabelsMasker.transform_single_imgs] Loading data from F:\\ece\\capstone\\code\\py\\data\\abide\\traindata\\29892_0_rest_1.nii.gz\n"
     ]
    },
    {
     "name": "stderr",
     "output_type": "stream",
     "text": [
      "C:\\Users\\June Cai\\AppData\\Roaming\\Python\\Python35\\site-packages\\nilearn\\_utils\\cache_mixin.py:232: DeprecationWarning: The 'cachedir' attribute has been deprecated in version 0.12 and will be removed in version 0.14.\n",
      "Use os.path.join(memory.location, 'joblib') attribute instead.\n",
      "  if (memory.cachedir is None and memory_level is not None\n"
     ]
    },
    {
     "name": "stdout",
     "output_type": "stream",
     "text": [
      "[NiftiLabelsMasker.transform_single_imgs] Resampling images\n"
     ]
    },
    {
     "name": "stderr",
     "output_type": "stream",
     "text": [
      "C:\\Users\\June Cai\\AppData\\Roaming\\Python\\Python35\\site-packages\\nilearn\\image\\resampling.py:510: UserWarning: Casting data from int16 to float32\n",
      "  warnings.warn(\"Casting data from %s to %s\" % (data.dtype.name, aux))\n"
     ]
    },
    {
     "name": "stdout",
     "output_type": "stream",
     "text": [
      "[NiftiLabelsMasker.transform_single_imgs] Extracting region signals\n",
      "[NiftiLabelsMasker.transform_single_imgs] Cleaning extracted signals\n",
      "______________________________________________filter_and_extract - 30.8s, 0.5min\n",
      "[[1.         0.19122484 0.17622954 ... 0.1870454  0.12254564 0.        ]\n",
      " [0.19122484 1.         0.17940436 ... 0.18485588 0.12442378 0.        ]\n",
      " [0.17622952 0.17940436 1.         ... 0.17620632 0.10893339 0.        ]\n",
      " ...\n",
      " [0.1870454  0.18485588 0.17620632 ... 1.         0.12320019 0.        ]\n",
      " [0.12254563 0.12442378 0.10893339 ... 0.12320019 1.         0.        ]\n",
      " [0.         0.         0.         ... 0.         0.         1.        ]] (1, -1)\n",
      "(48, 48)\n",
      "processed: 89\n",
      "rest\n",
      "[NiftiLabelsMasker.fit_transform] loading data from C:\\Users\\June Cai/nilearn_data\\fsl\\data\\atlases\\HarvardOxford\\HarvardOxford-cort-maxprob-thr25-2mm.nii.gz\n",
      "________________________________________________________________________________\n",
      "[Memory] Calling nilearn.input_data.base_masker.filter_and_extract...\n",
      "filter_and_extract('F:\\\\ece\\\\capstone\\\\code\\\\py\\\\data\\\\abide\\\\traindata\\\\29893_0_rest_1.nii.gz', <nilearn.input_data.nifti_labels_masker._ExtractionFunctor object at 0x000002930499E940>, \n",
      "{ 'background_label': 0,\n",
      "  'detrend': False,\n",
      "  'dtype': None,\n",
      "  'high_pass': None,\n",
      "  'labels_img': 'C:\\\\Users\\\\June '\n",
      "                'Cai/nilearn_data\\\\fsl\\\\data\\\\atlases\\\\HarvardOxford\\\\HarvardOxford-cort-maxprob-thr25-2mm.nii.gz',\n",
      "  'low_pass': None,\n",
      "  'mask_img': None,\n",
      "  'smoothing_fwhm': None,\n",
      "  'standardize': True,\n",
      "  't_r': None,\n",
      "  'target_affine': array([[  -2.,    0.,    0.,   90.],\n",
      "       [   0.,    2.,    0., -126.],\n",
      "       [   0.,    0.,    2.,  -72.],\n",
      "       [   0.,    0.,    0.,    1.]]),\n",
      "  'target_shape': (91, 109, 91)}, memory=Memory(location=nilearn_cache\\joblib), confounds=None, dtype=None, verbose=5, memory_level=1)\n",
      "[NiftiLabelsMasker.transform_single_imgs] Loading data from F:\\ece\\capstone\\code\\py\\data\\abide\\traindata\\29893_0_rest_1.nii.gz\n"
     ]
    },
    {
     "name": "stderr",
     "output_type": "stream",
     "text": [
      "C:\\Users\\June Cai\\AppData\\Roaming\\Python\\Python35\\site-packages\\nilearn\\_utils\\cache_mixin.py:232: DeprecationWarning: The 'cachedir' attribute has been deprecated in version 0.12 and will be removed in version 0.14.\n",
      "Use os.path.join(memory.location, 'joblib') attribute instead.\n",
      "  if (memory.cachedir is None and memory_level is not None\n"
     ]
    },
    {
     "name": "stdout",
     "output_type": "stream",
     "text": [
      "[NiftiLabelsMasker.transform_single_imgs] Resampling images\n"
     ]
    },
    {
     "name": "stderr",
     "output_type": "stream",
     "text": [
      "C:\\Users\\June Cai\\AppData\\Roaming\\Python\\Python35\\site-packages\\nilearn\\image\\resampling.py:510: UserWarning: Casting data from int16 to float32\n",
      "  warnings.warn(\"Casting data from %s to %s\" % (data.dtype.name, aux))\n"
     ]
    },
    {
     "name": "stdout",
     "output_type": "stream",
     "text": [
      "[NiftiLabelsMasker.transform_single_imgs] Extracting region signals\n",
      "[NiftiLabelsMasker.transform_single_imgs] Cleaning extracted signals\n",
      "______________________________________________filter_and_extract - 32.3s, 0.5min\n",
      "[[ 1.          0.33109605  0.22694652 ...  0.30759084  0.04734138\n",
      "   0.        ]\n",
      " [ 0.33109605  1.          0.23680669 ...  0.31781015  0.07410301\n",
      "   0.        ]\n",
      " [ 0.2269465   0.2368067   1.         ...  0.25851482 -0.07551659\n",
      "   0.        ]\n",
      " ...\n",
      " [ 0.30759084  0.31781015  0.2585148  ...  1.          0.03079701\n",
      "   0.        ]\n",
      " [ 0.04734138  0.07410301 -0.07551659 ...  0.03079701  1.\n",
      "   0.        ]\n",
      " [ 0.          0.          0.         ...  0.          0.\n",
      "   1.        ]] (1, -1)\n",
      "(48, 48)\n",
      "processed: 90\n",
      "rest\n",
      "[NiftiLabelsMasker.fit_transform] loading data from C:\\Users\\June Cai/nilearn_data\\fsl\\data\\atlases\\HarvardOxford\\HarvardOxford-cort-maxprob-thr25-2mm.nii.gz\n",
      "________________________________________________________________________________\n",
      "[Memory] Calling nilearn.input_data.base_masker.filter_and_extract...\n",
      "filter_and_extract('F:\\\\ece\\\\capstone\\\\code\\\\py\\\\data\\\\abide\\\\traindata\\\\29896_0_rest_1.nii.gz', <nilearn.input_data.nifti_labels_masker._ExtractionFunctor object at 0x00000293020054A8>, \n",
      "{ 'background_label': 0,\n",
      "  'detrend': False,\n",
      "  'dtype': None,\n",
      "  'high_pass': None,\n",
      "  'labels_img': 'C:\\\\Users\\\\June '\n",
      "                'Cai/nilearn_data\\\\fsl\\\\data\\\\atlases\\\\HarvardOxford\\\\HarvardOxford-cort-maxprob-thr25-2mm.nii.gz',\n",
      "  'low_pass': None,\n",
      "  'mask_img': None,\n",
      "  'smoothing_fwhm': None,\n",
      "  'standardize': True,\n",
      "  't_r': None,\n",
      "  'target_affine': array([[  -2.,    0.,    0.,   90.],\n",
      "       [   0.,    2.,    0., -126.],\n",
      "       [   0.,    0.,    2.,  -72.],\n",
      "       [   0.,    0.,    0.,    1.]]),\n",
      "  'target_shape': (91, 109, 91)}, memory=Memory(location=nilearn_cache\\joblib), confounds=None, dtype=None, verbose=5, memory_level=1)\n",
      "[NiftiLabelsMasker.transform_single_imgs] Loading data from F:\\ece\\capstone\\code\\py\\data\\abide\\traindata\\29896_0_rest_1.nii.gz\n"
     ]
    },
    {
     "name": "stderr",
     "output_type": "stream",
     "text": [
      "C:\\Users\\June Cai\\AppData\\Roaming\\Python\\Python35\\site-packages\\nilearn\\_utils\\cache_mixin.py:232: DeprecationWarning: The 'cachedir' attribute has been deprecated in version 0.12 and will be removed in version 0.14.\n",
      "Use os.path.join(memory.location, 'joblib') attribute instead.\n",
      "  if (memory.cachedir is None and memory_level is not None\n"
     ]
    },
    {
     "name": "stdout",
     "output_type": "stream",
     "text": [
      "[NiftiLabelsMasker.transform_single_imgs] Resampling images\n"
     ]
    },
    {
     "name": "stderr",
     "output_type": "stream",
     "text": [
      "C:\\Users\\June Cai\\AppData\\Roaming\\Python\\Python35\\site-packages\\nilearn\\image\\resampling.py:510: UserWarning: Casting data from int16 to float32\n",
      "  warnings.warn(\"Casting data from %s to %s\" % (data.dtype.name, aux))\n"
     ]
    },
    {
     "name": "stdout",
     "output_type": "stream",
     "text": [
      "[NiftiLabelsMasker.transform_single_imgs] Extracting region signals\n",
      "[NiftiLabelsMasker.transform_single_imgs] Cleaning extracted signals\n",
      "______________________________________________filter_and_extract - 33.5s, 0.6min\n",
      "[[1.         0.13866983 0.13613811 ... 0.13474484 0.0737061  0.        ]\n",
      " [0.13866983 1.         0.13713357 ... 0.13519534 0.06846526 0.        ]\n",
      " [0.13613811 0.13713357 1.         ... 0.1364068  0.05664397 0.        ]\n",
      " ...\n",
      " [0.13474484 0.13519534 0.1364068  ... 1.         0.06392576 0.        ]\n",
      " [0.0737061  0.06846526 0.05664397 ... 0.06392576 1.         0.        ]\n",
      " [0.         0.         0.         ... 0.         0.         1.        ]] (1, -1)\n",
      "(48, 48)\n",
      "processed: 91\n",
      "rest\n",
      "[NiftiLabelsMasker.fit_transform] loading data from C:\\Users\\June Cai/nilearn_data\\fsl\\data\\atlases\\HarvardOxford\\HarvardOxford-cort-maxprob-thr25-2mm.nii.gz\n",
      "________________________________________________________________________________\n",
      "[Memory] Calling nilearn.input_data.base_masker.filter_and_extract...\n",
      "filter_and_extract('F:\\\\ece\\\\capstone\\\\code\\\\py\\\\data\\\\abide\\\\traindata\\\\29898_0_rest_1.nii.gz', <nilearn.input_data.nifti_labels_masker._ExtractionFunctor object at 0x00000293736FA358>, \n",
      "{ 'background_label': 0,\n",
      "  'detrend': False,\n",
      "  'dtype': None,\n",
      "  'high_pass': None,\n",
      "  'labels_img': 'C:\\\\Users\\\\June '\n",
      "                'Cai/nilearn_data\\\\fsl\\\\data\\\\atlases\\\\HarvardOxford\\\\HarvardOxford-cort-maxprob-thr25-2mm.nii.gz',\n",
      "  'low_pass': None,\n",
      "  'mask_img': None,\n",
      "  'smoothing_fwhm': None,\n",
      "  'standardize': True,\n",
      "  't_r': None,\n",
      "  'target_affine': array([[  -2.,    0.,    0.,   90.],\n",
      "       [   0.,    2.,    0., -126.],\n",
      "       [   0.,    0.,    2.,  -72.],\n",
      "       [   0.,    0.,    0.,    1.]]),\n",
      "  'target_shape': (91, 109, 91)}, memory=Memory(location=nilearn_cache\\joblib), confounds=None, dtype=None, verbose=5, memory_level=1)\n",
      "[NiftiLabelsMasker.transform_single_imgs] Loading data from F:\\ece\\capstone\\code\\py\\data\\abide\\traindata\\29898_0_rest_1.nii.gz\n"
     ]
    },
    {
     "name": "stderr",
     "output_type": "stream",
     "text": [
      "C:\\Users\\June Cai\\AppData\\Roaming\\Python\\Python35\\site-packages\\nilearn\\_utils\\cache_mixin.py:232: DeprecationWarning: The 'cachedir' attribute has been deprecated in version 0.12 and will be removed in version 0.14.\n",
      "Use os.path.join(memory.location, 'joblib') attribute instead.\n",
      "  if (memory.cachedir is None and memory_level is not None\n"
     ]
    },
    {
     "name": "stdout",
     "output_type": "stream",
     "text": [
      "[NiftiLabelsMasker.transform_single_imgs] Resampling images\n"
     ]
    },
    {
     "name": "stderr",
     "output_type": "stream",
     "text": [
      "C:\\Users\\June Cai\\AppData\\Roaming\\Python\\Python35\\site-packages\\nilearn\\image\\resampling.py:510: UserWarning: Casting data from int16 to float32\n",
      "  warnings.warn(\"Casting data from %s to %s\" % (data.dtype.name, aux))\n"
     ]
    },
    {
     "name": "stdout",
     "output_type": "stream",
     "text": [
      "[NiftiLabelsMasker.transform_single_imgs] Extracting region signals\n",
      "[NiftiLabelsMasker.transform_single_imgs] Cleaning extracted signals\n",
      "______________________________________________filter_and_extract - 31.1s, 0.5min\n",
      "[[ 1.          0.2871461   0.25546178 ...  0.11590092 -0.02654563\n",
      "   0.        ]\n",
      " [ 0.2871461   1.          0.26695454 ...  0.18244657  0.01262057\n",
      "   0.        ]\n",
      " [ 0.25546178  0.26695454  1.         ...  0.18111473  0.00306842\n",
      "   0.        ]\n",
      " ...\n",
      " [ 0.11590091  0.18244657  0.18111473 ...  1.          0.19515103\n",
      "   0.        ]\n",
      " [-0.02654563  0.01262057  0.00306842 ...  0.19515103  1.\n",
      "   0.        ]\n",
      " [ 0.          0.          0.         ...  0.          0.\n",
      "   1.        ]] (1, -1)\n",
      "(48, 48)\n",
      "processed: 92\n",
      "rest\n",
      "[NiftiLabelsMasker.fit_transform] loading data from C:\\Users\\June Cai/nilearn_data\\fsl\\data\\atlases\\HarvardOxford\\HarvardOxford-cort-maxprob-thr25-2mm.nii.gz\n",
      "________________________________________________________________________________\n",
      "[Memory] Calling nilearn.input_data.base_masker.filter_and_extract...\n",
      "filter_and_extract('F:\\\\ece\\\\capstone\\\\code\\\\py\\\\data\\\\abide\\\\traindata\\\\29899_0_rest_1.nii.gz', <nilearn.input_data.nifti_labels_masker._ExtractionFunctor object at 0x00000293736FFBE0>, \n",
      "{ 'background_label': 0,\n",
      "  'detrend': False,\n",
      "  'dtype': None,\n",
      "  'high_pass': None,\n",
      "  'labels_img': 'C:\\\\Users\\\\June '\n",
      "                'Cai/nilearn_data\\\\fsl\\\\data\\\\atlases\\\\HarvardOxford\\\\HarvardOxford-cort-maxprob-thr25-2mm.nii.gz',\n",
      "  'low_pass': None,\n",
      "  'mask_img': None,\n",
      "  'smoothing_fwhm': None,\n",
      "  'standardize': True,\n",
      "  't_r': None,\n",
      "  'target_affine': array([[  -2.,    0.,    0.,   90.],\n",
      "       [   0.,    2.,    0., -126.],\n",
      "       [   0.,    0.,    2.,  -72.],\n",
      "       [   0.,    0.,    0.,    1.]]),\n",
      "  'target_shape': (91, 109, 91)}, memory=Memory(location=nilearn_cache\\joblib), confounds=None, dtype=None, verbose=5, memory_level=1)\n",
      "[NiftiLabelsMasker.transform_single_imgs] Loading data from F:\\ece\\capstone\\code\\py\\data\\abide\\traindata\\29899_0_rest_1.nii.gz\n"
     ]
    },
    {
     "name": "stderr",
     "output_type": "stream",
     "text": [
      "C:\\Users\\June Cai\\AppData\\Roaming\\Python\\Python35\\site-packages\\nilearn\\_utils\\cache_mixin.py:232: DeprecationWarning: The 'cachedir' attribute has been deprecated in version 0.12 and will be removed in version 0.14.\n",
      "Use os.path.join(memory.location, 'joblib') attribute instead.\n",
      "  if (memory.cachedir is None and memory_level is not None\n"
     ]
    },
    {
     "name": "stdout",
     "output_type": "stream",
     "text": [
      "[NiftiLabelsMasker.transform_single_imgs] Resampling images\n"
     ]
    },
    {
     "name": "stderr",
     "output_type": "stream",
     "text": [
      "C:\\Users\\June Cai\\AppData\\Roaming\\Python\\Python35\\site-packages\\nilearn\\image\\resampling.py:510: UserWarning: Casting data from int16 to float32\n",
      "  warnings.warn(\"Casting data from %s to %s\" % (data.dtype.name, aux))\n"
     ]
    },
    {
     "name": "stdout",
     "output_type": "stream",
     "text": [
      "[NiftiLabelsMasker.transform_single_imgs] Extracting region signals\n",
      "[NiftiLabelsMasker.transform_single_imgs] Cleaning extracted signals\n",
      "______________________________________________filter_and_extract - 31.4s, 0.5min\n",
      "[[1.         0.18505405 0.19077744 ... 0.15442877 0.1120249  0.        ]\n",
      " [0.18505405 1.         0.1773749  ... 0.17984302 0.11888569 0.        ]\n",
      " [0.19077744 0.1773749  1.         ... 0.14604276 0.09767441 0.        ]\n",
      " ...\n",
      " [0.15442877 0.17984302 0.14604276 ... 1.         0.10142247 0.        ]\n",
      " [0.1120249  0.11888568 0.09767441 ... 0.10142247 1.         0.        ]\n",
      " [0.         0.         0.         ... 0.         0.         1.        ]] (1, -1)\n",
      "(48, 48)\n",
      "processed: 93\n",
      "rest\n",
      "[NiftiLabelsMasker.fit_transform] loading data from C:\\Users\\June Cai/nilearn_data\\fsl\\data\\atlases\\HarvardOxford\\HarvardOxford-cort-maxprob-thr25-2mm.nii.gz\n",
      "________________________________________________________________________________\n",
      "[Memory] Calling nilearn.input_data.base_masker.filter_and_extract...\n",
      "filter_and_extract('F:\\\\ece\\\\capstone\\\\code\\\\py\\\\data\\\\abide\\\\traindata\\\\29906_0_rest_1.nii.gz', <nilearn.input_data.nifti_labels_masker._ExtractionFunctor object at 0x000002937F76E208>, \n",
      "{ 'background_label': 0,\n",
      "  'detrend': False,\n",
      "  'dtype': None,\n",
      "  'high_pass': None,\n",
      "  'labels_img': 'C:\\\\Users\\\\June '\n",
      "                'Cai/nilearn_data\\\\fsl\\\\data\\\\atlases\\\\HarvardOxford\\\\HarvardOxford-cort-maxprob-thr25-2mm.nii.gz',\n",
      "  'low_pass': None,\n",
      "  'mask_img': None,\n",
      "  'smoothing_fwhm': None,\n",
      "  'standardize': True,\n",
      "  't_r': None,\n",
      "  'target_affine': array([[  -2.,    0.,    0.,   90.],\n",
      "       [   0.,    2.,    0., -126.],\n",
      "       [   0.,    0.,    2.,  -72.],\n",
      "       [   0.,    0.,    0.,    1.]]),\n",
      "  'target_shape': (91, 109, 91)}, memory=Memory(location=nilearn_cache\\joblib), confounds=None, dtype=None, verbose=5, memory_level=1)\n",
      "[NiftiLabelsMasker.transform_single_imgs] Loading data from F:\\ece\\capstone\\code\\py\\data\\abide\\traindata\\29906_0_rest_1.nii.gz\n"
     ]
    },
    {
     "name": "stderr",
     "output_type": "stream",
     "text": [
      "C:\\Users\\June Cai\\AppData\\Roaming\\Python\\Python35\\site-packages\\nilearn\\_utils\\cache_mixin.py:232: DeprecationWarning: The 'cachedir' attribute has been deprecated in version 0.12 and will be removed in version 0.14.\n",
      "Use os.path.join(memory.location, 'joblib') attribute instead.\n",
      "  if (memory.cachedir is None and memory_level is not None\n"
     ]
    },
    {
     "name": "stdout",
     "output_type": "stream",
     "text": [
      "[NiftiLabelsMasker.transform_single_imgs] Resampling images\n"
     ]
    },
    {
     "name": "stderr",
     "output_type": "stream",
     "text": [
      "C:\\Users\\June Cai\\AppData\\Roaming\\Python\\Python35\\site-packages\\nilearn\\image\\resampling.py:510: UserWarning: Casting data from int16 to float32\n",
      "  warnings.warn(\"Casting data from %s to %s\" % (data.dtype.name, aux))\n"
     ]
    },
    {
     "name": "stdout",
     "output_type": "stream",
     "text": [
      "[NiftiLabelsMasker.transform_single_imgs] Extracting region signals\n",
      "[NiftiLabelsMasker.transform_single_imgs] Cleaning extracted signals\n",
      "______________________________________________filter_and_extract - 29.8s, 0.5min\n",
      "[[1.         0.0860227  0.085714   ... 0.08356446 0.02491686 0.        ]\n",
      " [0.0860227  1.         0.08542442 ... 0.08350391 0.0256653  0.        ]\n",
      " [0.085714   0.08542442 1.         ... 0.08227584 0.02644977 0.        ]\n",
      " ...\n",
      " [0.08356446 0.08350391 0.08227584 ... 1.         0.0240349  0.        ]\n",
      " [0.02491686 0.0256653  0.02644977 ... 0.0240349  1.         0.        ]\n",
      " [0.         0.         0.         ... 0.         0.         1.        ]] (1, -1)\n",
      "(48, 48)\n",
      "processed: 94\n",
      "rest\n",
      "[NiftiLabelsMasker.fit_transform] loading data from C:\\Users\\June Cai/nilearn_data\\fsl\\data\\atlases\\HarvardOxford\\HarvardOxford-cort-maxprob-thr25-2mm.nii.gz\n",
      "________________________________________________________________________________\n",
      "[Memory] Calling nilearn.input_data.base_masker.filter_and_extract...\n",
      "filter_and_extract('F:\\\\ece\\\\capstone\\\\code\\\\py\\\\data\\\\abide\\\\traindata\\\\29912_0_rest_1.nii.gz', <nilearn.input_data.nifti_labels_masker._ExtractionFunctor object at 0x00000293022C38D0>, \n",
      "{ 'background_label': 0,\n",
      "  'detrend': False,\n",
      "  'dtype': None,\n",
      "  'high_pass': None,\n",
      "  'labels_img': 'C:\\\\Users\\\\June '\n",
      "                'Cai/nilearn_data\\\\fsl\\\\data\\\\atlases\\\\HarvardOxford\\\\HarvardOxford-cort-maxprob-thr25-2mm.nii.gz',\n",
      "  'low_pass': None,\n",
      "  'mask_img': None,\n",
      "  'smoothing_fwhm': None,\n",
      "  'standardize': True,\n",
      "  't_r': None,\n",
      "  'target_affine': array([[  -2.,    0.,    0.,   90.],\n",
      "       [   0.,    2.,    0., -126.],\n",
      "       [   0.,    0.,    2.,  -72.],\n",
      "       [   0.,    0.,    0.,    1.]]),\n",
      "  'target_shape': (91, 109, 91)}, memory=Memory(location=nilearn_cache\\joblib), confounds=None, dtype=None, verbose=5, memory_level=1)\n",
      "[NiftiLabelsMasker.transform_single_imgs] Loading data from F:\\ece\\capstone\\code\\py\\data\\abide\\traindata\\29912_0_rest_1.nii.gz\n"
     ]
    },
    {
     "name": "stderr",
     "output_type": "stream",
     "text": [
      "C:\\Users\\June Cai\\AppData\\Roaming\\Python\\Python35\\site-packages\\nilearn\\_utils\\cache_mixin.py:232: DeprecationWarning: The 'cachedir' attribute has been deprecated in version 0.12 and will be removed in version 0.14.\n",
      "Use os.path.join(memory.location, 'joblib') attribute instead.\n",
      "  if (memory.cachedir is None and memory_level is not None\n"
     ]
    },
    {
     "name": "stdout",
     "output_type": "stream",
     "text": [
      "[NiftiLabelsMasker.transform_single_imgs] Resampling images\n"
     ]
    },
    {
     "name": "stderr",
     "output_type": "stream",
     "text": [
      "C:\\Users\\June Cai\\AppData\\Roaming\\Python\\Python35\\site-packages\\nilearn\\image\\resampling.py:510: UserWarning: Casting data from int16 to float32\n",
      "  warnings.warn(\"Casting data from %s to %s\" % (data.dtype.name, aux))\n"
     ]
    },
    {
     "name": "stdout",
     "output_type": "stream",
     "text": [
      "[NiftiLabelsMasker.transform_single_imgs] Extracting region signals\n",
      "[NiftiLabelsMasker.transform_single_imgs] Cleaning extracted signals\n",
      "______________________________________________filter_and_extract - 30.3s, 0.5min\n",
      "[[1.         0.08470131 0.08339544 ... 0.08275726 0.05860534 0.        ]\n",
      " [0.08470131 1.         0.08301207 ... 0.08254252 0.05822126 0.        ]\n",
      " [0.08339544 0.08301207 1.         ... 0.08412057 0.05909225 0.        ]\n",
      " ...\n",
      " [0.08275726 0.08254252 0.08412057 ... 1.         0.05847659 0.        ]\n",
      " [0.05860534 0.05822125 0.05909225 ... 0.05847659 1.         0.        ]\n",
      " [0.         0.         0.         ... 0.         0.         1.        ]] (1, -1)\n",
      "(48, 48)\n",
      "processed: 95\n",
      "rest\n",
      "[NiftiLabelsMasker.fit_transform] loading data from C:\\Users\\June Cai/nilearn_data\\fsl\\data\\atlases\\HarvardOxford\\HarvardOxford-cort-maxprob-thr25-2mm.nii.gz\n",
      "________________________________________________________________________________\n",
      "[Memory] Calling nilearn.input_data.base_masker.filter_and_extract...\n",
      "filter_and_extract('F:\\\\ece\\\\capstone\\\\code\\\\py\\\\data\\\\abide\\\\traindata\\\\29914_0_rest_1.nii.gz', <nilearn.input_data.nifti_labels_masker._ExtractionFunctor object at 0x0000029304950668>, \n",
      "{ 'background_label': 0,\n",
      "  'detrend': False,\n",
      "  'dtype': None,\n",
      "  'high_pass': None,\n",
      "  'labels_img': 'C:\\\\Users\\\\June '\n",
      "                'Cai/nilearn_data\\\\fsl\\\\data\\\\atlases\\\\HarvardOxford\\\\HarvardOxford-cort-maxprob-thr25-2mm.nii.gz',\n",
      "  'low_pass': None,\n",
      "  'mask_img': None,\n",
      "  'smoothing_fwhm': None,\n",
      "  'standardize': True,\n",
      "  't_r': None,\n",
      "  'target_affine': array([[  -2.,    0.,    0.,   90.],\n",
      "       [   0.,    2.,    0., -126.],\n",
      "       [   0.,    0.,    2.,  -72.],\n",
      "       [   0.,    0.,    0.,    1.]]),\n",
      "  'target_shape': (91, 109, 91)}, memory=Memory(location=nilearn_cache\\joblib), confounds=None, dtype=None, verbose=5, memory_level=1)\n",
      "[NiftiLabelsMasker.transform_single_imgs] Loading data from F:\\ece\\capstone\\code\\py\\data\\abide\\traindata\\29914_0_rest_1.nii.gz\n"
     ]
    },
    {
     "name": "stderr",
     "output_type": "stream",
     "text": [
      "C:\\Users\\June Cai\\AppData\\Roaming\\Python\\Python35\\site-packages\\nilearn\\_utils\\cache_mixin.py:232: DeprecationWarning: The 'cachedir' attribute has been deprecated in version 0.12 and will be removed in version 0.14.\n",
      "Use os.path.join(memory.location, 'joblib') attribute instead.\n",
      "  if (memory.cachedir is None and memory_level is not None\n"
     ]
    },
    {
     "name": "stdout",
     "output_type": "stream",
     "text": [
      "[NiftiLabelsMasker.transform_single_imgs] Resampling images\n"
     ]
    },
    {
     "name": "stderr",
     "output_type": "stream",
     "text": [
      "C:\\Users\\June Cai\\AppData\\Roaming\\Python\\Python35\\site-packages\\nilearn\\image\\resampling.py:510: UserWarning: Casting data from int16 to float32\n",
      "  warnings.warn(\"Casting data from %s to %s\" % (data.dtype.name, aux))\n"
     ]
    },
    {
     "name": "stdout",
     "output_type": "stream",
     "text": [
      "[NiftiLabelsMasker.transform_single_imgs] Extracting region signals\n",
      "[NiftiLabelsMasker.transform_single_imgs] Cleaning extracted signals\n",
      "______________________________________________filter_and_extract - 29.3s, 0.5min\n",
      "[[ 1.          0.12043358  0.4802941  ... -0.2605661   0.68628865\n",
      "   0.        ]\n",
      " [ 0.12043358  1.          0.23603849 ...  0.55223143  0.03662438\n",
      "   0.        ]\n",
      " [ 0.4802941   0.23603848  1.         ... -0.09415355  0.2947371\n",
      "   0.        ]\n",
      " ...\n",
      " [-0.2605661   0.55223143 -0.09415355 ...  1.         -0.28876525\n",
      "   0.        ]\n",
      " [ 0.68628865  0.03662438  0.2947371  ... -0.28876525  1.\n",
      "   0.        ]\n",
      " [ 0.          0.          0.         ...  0.          0.\n",
      "   1.        ]] (1, -1)\n",
      "(48, 48)\n",
      "processed: 96\n",
      "rest\n",
      "[NiftiLabelsMasker.fit_transform] loading data from C:\\Users\\June Cai/nilearn_data\\fsl\\data\\atlases\\HarvardOxford\\HarvardOxford-cort-maxprob-thr25-2mm.nii.gz\n",
      "________________________________________________________________________________\n",
      "[Memory] Calling nilearn.input_data.base_masker.filter_and_extract...\n",
      "filter_and_extract('F:\\\\ece\\\\capstone\\\\code\\\\py\\\\data\\\\abide\\\\traindata\\\\29916_0_rest_1.nii.gz', <nilearn.input_data.nifti_labels_masker._ExtractionFunctor object at 0x00000293048BC400>, \n",
      "{ 'background_label': 0,\n",
      "  'detrend': False,\n",
      "  'dtype': None,\n",
      "  'high_pass': None,\n",
      "  'labels_img': 'C:\\\\Users\\\\June '\n",
      "                'Cai/nilearn_data\\\\fsl\\\\data\\\\atlases\\\\HarvardOxford\\\\HarvardOxford-cort-maxprob-thr25-2mm.nii.gz',\n",
      "  'low_pass': None,\n",
      "  'mask_img': None,\n",
      "  'smoothing_fwhm': None,\n",
      "  'standardize': True,\n",
      "  't_r': None,\n",
      "  'target_affine': array([[  -2.,    0.,    0.,   90.],\n",
      "       [   0.,    2.,    0., -126.],\n",
      "       [   0.,    0.,    2.,  -72.],\n",
      "       [   0.,    0.,    0.,    1.]]),\n",
      "  'target_shape': (91, 109, 91)}, memory=Memory(location=nilearn_cache\\joblib), confounds=None, dtype=None, verbose=5, memory_level=1)\n",
      "[NiftiLabelsMasker.transform_single_imgs] Loading data from F:\\ece\\capstone\\code\\py\\data\\abide\\traindata\\29916_0_rest_1.nii.gz\n"
     ]
    },
    {
     "name": "stderr",
     "output_type": "stream",
     "text": [
      "C:\\Users\\June Cai\\AppData\\Roaming\\Python\\Python35\\site-packages\\nilearn\\_utils\\cache_mixin.py:232: DeprecationWarning: The 'cachedir' attribute has been deprecated in version 0.12 and will be removed in version 0.14.\n",
      "Use os.path.join(memory.location, 'joblib') attribute instead.\n",
      "  if (memory.cachedir is None and memory_level is not None\n"
     ]
    },
    {
     "name": "stdout",
     "output_type": "stream",
     "text": [
      "[NiftiLabelsMasker.transform_single_imgs] Resampling images\n"
     ]
    },
    {
     "name": "stderr",
     "output_type": "stream",
     "text": [
      "C:\\Users\\June Cai\\AppData\\Roaming\\Python\\Python35\\site-packages\\nilearn\\image\\resampling.py:510: UserWarning: Casting data from int16 to float32\n",
      "  warnings.warn(\"Casting data from %s to %s\" % (data.dtype.name, aux))\n"
     ]
    },
    {
     "name": "stdout",
     "output_type": "stream",
     "text": [
      "[NiftiLabelsMasker.transform_single_imgs] Extracting region signals\n",
      "[NiftiLabelsMasker.transform_single_imgs] Cleaning extracted signals\n",
      "______________________________________________filter_and_extract - 30.9s, 0.5min\n",
      "[[1.         0.09181929 0.08870648 ... 0.07724705 0.04204471 0.        ]\n",
      " [0.09181929 1.         0.09058047 ... 0.08237608 0.02245235 0.        ]\n",
      " [0.08870648 0.09058047 1.         ... 0.09037229 0.0196362  0.        ]\n",
      " ...\n",
      " [0.07724705 0.08237608 0.09037229 ... 1.         0.00249365 0.        ]\n",
      " [0.04204471 0.02245235 0.0196362  ... 0.00249365 1.         0.        ]\n",
      " [0.         0.         0.         ... 0.         0.         1.        ]] (1, -1)\n",
      "(48, 48)\n",
      "processed: 97\n"
     ]
    }
   ],
   "source": [
    "from nilearn.input_data import NiftiLabelsMasker\n",
    "masker = NiftiLabelsMasker(labels_img=atlas_filename, standardize=True,\n",
    "                       memory='nilearn_cache', verbose=5, resampling_target =\"labels\")\n",
    "\n",
    "for fmri_filename in files:\n",
    "    curFIleName = fmri_filename.split('\\\\')[-1]\n",
    "    id = curFIleName.split('_')[0]\n",
    "    type = curFIleName.split('_')[2]\n",
    "    label = curFIleName.split('_')[1]\n",
    "    print(type)\n",
    "    if type != 'rest':\n",
    "        continue\n",
    "\n",
    "    from nilearn.connectome import ConnectivityMeasure\n",
    "    correlation_measure = ConnectivityMeasure(kind='correlation')\n",
    "    time_series = masker.fit_transform(fmri_filename)\n",
    "\n",
    "    correlation_matrix = correlation_measure.fit_transform([time_series])[0]\n",
    "\n",
    "    #storing to csv\n",
    "    import csv\n",
    "    import numpy as np\n",
    "    fil_name = 'abideMatrix'\n",
    "    label_fil = 'abideLabel'\n",
    "    print(correlation_matrix, (1, -1))\n",
    "    print(correlation_matrix.shape)\n",
    "\n",
    "    with open(fil_name+'.csv','a') as csvfile:\n",
    "        reshaped = np.reshape(correlation_matrix, (1, -1))\n",
    "        writer = csv.writer(csvfile, delimiter=',')\n",
    "        writer.writerows(reshaped)\n",
    "    \n",
    "    with open(label_fil+'.csv','a') as csvfile:\n",
    "        csvfile.write(label + \",\" + id)\n",
    "        csvfile.write('\\n')\n",
    "        \n",
    "    counter = counter + 1\n",
    "    print(\"processed: \"+str(counter))\n"
   ]
  },
  {
   "cell_type": "code",
   "execution_count": null,
   "metadata": {},
   "outputs": [],
   "source": [
    "\n",
    "from nilearn import plotting\n",
    "# Mask the main diagonal for visualization:\n",
    "np.fill_diagonal(correlation_matrix, 0)\n",
    "\n",
    "plotting.plot_matrix(correlation_matrix, figure=(10, 8), labels=labels[1:],\n",
    "                     vmax=0.8, vmin=-0.8, reorder=True)\n",
    "\n",
    "plotting.show()\n",
    "\n",
    "#to read file you saved\n",
    "with open(fil_name+'.csv', 'r') as f:\n",
    "  reader = csv.reader(f)\n",
    "  examples = list(reader)\n",
    "\n",
    "print(examples)\n",
    "nwexamples = []\n",
    "for row in examples:\n",
    "    nwrow = []\n",
    "    for r in row:\n",
    "        nwrow.append(eval(r))\n",
    "    nwexamples.append(nwrow)\n",
    "print(nwexamples)"
   ]
  }
 ],
 "metadata": {
  "kernelspec": {
   "display_name": "Python 3",
   "language": "python",
   "name": "python3"
  },
  "language_info": {
   "codemirror_mode": {
    "name": "ipython",
    "version": 3
   },
   "file_extension": ".py",
   "mimetype": "text/x-python",
   "name": "python",
   "nbconvert_exporter": "python",
   "pygments_lexer": "ipython3",
   "version": "3.5.6"
  }
 },
 "nbformat": 4,
 "nbformat_minor": 1
}

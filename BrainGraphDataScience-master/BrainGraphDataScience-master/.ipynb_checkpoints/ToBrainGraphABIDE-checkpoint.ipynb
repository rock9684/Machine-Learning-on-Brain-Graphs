{
 "cells": [
  {
   "cell_type": "code",
   "execution_count": 1,
   "metadata": {},
   "outputs": [],
   "source": [
    "%matplotlib inline"
   ]
  },
  {
   "cell_type": "code",
   "execution_count": 2,
   "metadata": {},
   "outputs": [
    {
     "name": "stdout",
     "output_type": "stream",
     "text": [
      "Atlas ROIs are located in nifti image (4D) at: C:\\Users\\June Cai/nilearn_data\\fsl\\data\\atlases\\HarvardOxford\\HarvardOxford-cort-maxprob-thr25-2mm.nii.gz\n",
      "546\n"
     ]
    }
   ],
   "source": [
    "from nilearn import datasets\n",
    "\n",
    "dataset = datasets.fetch_atlas_harvard_oxford('cort-maxprob-thr25-2mm')\n",
    "atlas_filename = dataset.maps\n",
    "labels = dataset.labels\n",
    "\n",
    "print('Atlas ROIs are located in nifti image (4D) at: %s' %\n",
    "      atlas_filename)  # 4D data\n",
    "\n",
    "import os\n",
    "cwd = os.getcwd()\n",
    "datadir = os.path.join(os.path.sep, cwd,'data')\n",
    "datadir = os.path.join(os.path.sep, datadir, 'abide')\n",
    "files = []\n",
    "for dirpath, dirnames, filenames in os.walk(datadir):\n",
    "    for filename in [f for f in filenames if f.endswith(\".nii.gz\")]:\n",
    "        files.append(os.path.join(dirpath, filename))\n",
    "\n",
    "print(len(files))\n",
    "counter = 0\n",
    "fileNum = 1"
   ]
  },
  {
   "cell_type": "code",
   "execution_count": 27,
   "metadata": {},
   "outputs": [
    {
     "name": "stdout",
     "output_type": "stream",
     "text": [
      "49\n",
      "F:\\ece\\capstone\\code\\py\\data\\abide\\traindata\\29151_rest_1.nii.gz\n",
      "[NiftiLabelsMasker.fit_transform] loading data from C:\\Users\\June Cai/nilearn_data\\fsl\\data\\atlases\\HarvardOxford\\HarvardOxford-cort-maxprob-thr25-2mm.nii.gz\n",
      "________________________________________________________________________________\n",
      "[Memory] Calling nilearn.input_data.base_masker.filter_and_extract...\n",
      "filter_and_extract('F:\\\\ece\\\\capstone\\\\code\\\\py\\\\data\\\\abide\\\\traindata\\\\29151_rest_1.nii.gz', <nilearn.input_data.nifti_labels_masker._ExtractionFunctor object at 0x0000018CADAB02E8>, \n",
      "{ 'background_label': 0,\n",
      "  'detrend': False,\n",
      "  'dtype': None,\n",
      "  'high_pass': None,\n",
      "  'labels_img': 'C:\\\\Users\\\\June '\n",
      "                'Cai/nilearn_data\\\\fsl\\\\data\\\\atlases\\\\HarvardOxford\\\\HarvardOxford-cort-maxprob-thr25-2mm.nii.gz',\n",
      "  'low_pass': None,\n",
      "  'mask_img': None,\n",
      "  'smoothing_fwhm': None,\n",
      "  'standardize': True,\n",
      "  't_r': None,\n",
      "  'target_affine': array([[  -2.,    0.,    0.,   90.],\n",
      "       [   0.,    2.,    0., -126.],\n",
      "       [   0.,    0.,    2.,  -72.],\n",
      "       [   0.,    0.,    0.,    1.]]),\n",
      "  'target_shape': (91, 109, 91)}, confounds=None, verbose=5, memory=Memory(location=nilearn_cache\\joblib), memory_level=1, dtype=None)\n",
      "[NiftiLabelsMasker.transform_single_imgs] Loading data from F:\\ece\\capstone\\code\\py\\data\\abide\\traindata\\29151_rest_1.nii.gz\n"
     ]
    },
    {
     "name": "stderr",
     "output_type": "stream",
     "text": [
      "C:\\Users\\June Cai\\AppData\\Roaming\\Python\\Python35\\site-packages\\nilearn\\_utils\\cache_mixin.py:84: DeprecationWarning: The 'cachedir' parameter has been deprecated in version 0.12 and will be removed in version 0.14.\n",
      "You provided \"cachedir='nilearn_cache'\", use \"location='nilearn_cache'\" instead.\n",
      "  memory = Memory(cachedir=cache_dir, verbose=verbose)\n",
      "C:\\Users\\June Cai\\AppData\\Roaming\\Python\\Python35\\site-packages\\nilearn\\_utils\\cache_mixin.py:232: DeprecationWarning: The 'cachedir' attribute has been deprecated in version 0.12 and will be removed in version 0.14.\n",
      "Use os.path.join(memory.location, 'joblib') attribute instead.\n",
      "  if (memory.cachedir is None and memory_level is not None\n"
     ]
    },
    {
     "name": "stdout",
     "output_type": "stream",
     "text": [
      "[NiftiLabelsMasker.transform_single_imgs] Resampling images\n"
     ]
    },
    {
     "name": "stderr",
     "output_type": "stream",
     "text": [
      "C:\\Users\\June Cai\\AppData\\Roaming\\Python\\Python35\\site-packages\\nilearn\\image\\resampling.py:510: UserWarning: Casting data from int16 to float32\n",
      "  warnings.warn(\"Casting data from %s to %s\" % (data.dtype.name, aux))\n"
     ]
    },
    {
     "name": "stdout",
     "output_type": "stream",
     "text": [
      "[NiftiLabelsMasker.transform_single_imgs] Extracting region signals\n"
     ]
    },
    {
     "name": "stderr",
     "output_type": "stream",
     "text": [
      "F:\\ece\\ECE521\\Anaconda3-4.2.0-Windows-x86_64\\lib\\importlib\\_bootstrap.py:222: RuntimeWarning: numpy.ufunc size changed, may indicate binary incompatibility. Expected 216, got 192\n",
      "  return f(*args, **kwds)\n"
     ]
    },
    {
     "name": "stdout",
     "output_type": "stream",
     "text": [
      "[NiftiLabelsMasker.transform_single_imgs] Cleaning extracted signals\n",
      "______________________________________________filter_and_extract - 31.1s, 0.5min\n",
      "(161, 48)\n",
      "(48, 48)\n"
     ]
    }
   ],
   "source": [
    "print(len(labels))\n",
    "from nilearn.input_data import NiftiLabelsMasker\n",
    "masker = NiftiLabelsMasker(labels_img=atlas_filename, standardize=True,\n",
    "                           memory='nilearn_cache', verbose=5, resampling_target =\"labels\")\n",
    "# for fmri_filename in files:\n",
    "fmri_filename = files[6]\n",
    "print(fmri_filename)\n",
    "curFIleName = fmri_filename.split('\\\\')[-1]\n",
    "id = curFIleName.split('_')[0]\n",
    "type = curFIleName.split('_')[1]\n",
    "if type == 'rest':\n",
    "#     continue\n",
    "\n",
    "\n",
    "\n",
    "    from nilearn.connectome import ConnectivityMeasure\n",
    "    correlation_measure = ConnectivityMeasure(kind='correlation')\n",
    "    time_series = masker.fit_transform(fmri_filename)\n",
    "    print(time_series.shape)\n",
    "    correlation_matrix = correlation_measure.fit_transform([time_series])[0]\n",
    "    print(correlation_matrix.shape)\n",
    "\n",
    "    #storing to csv\n",
    "#     import csv\n",
    "#     import numpy as np\n",
    "#     fil_name = 'abideMatrix'+str(fileNum)\n",
    "\n",
    "#     with open(fil_name+'.csv','a') as csvfile:\n",
    "#         writer = csv.writer(csvfile, delimiter=',')\n",
    "#         csvfile.write(id)\n",
    "#         csvfile.write('\\n')\n",
    "#         writer.writerows(correlation_matrix)\n",
    "        \n",
    "#     counter=counter+1\n",
    "#     if counter % 50 == 0:\n",
    "#         fileNum = fileNum + 1\n"
   ]
  },
  {
   "cell_type": "code",
   "execution_count": null,
   "metadata": {},
   "outputs": [],
   "source": [
    "\n",
    "from nilearn import plotting\n",
    "# Mask the main diagonal for visualization:\n",
    "np.fill_diagonal(correlation_matrix, 0)\n",
    "\n",
    "plotting.plot_matrix(correlation_matrix, figure=(10, 8), labels=labels[1:],\n",
    "                     vmax=0.8, vmin=-0.8, reorder=True)\n",
    "\n",
    "plotting.show()\n",
    "\n",
    "#to read file you saved\n",
    "with open(fil_name+'.csv', 'r') as f:\n",
    "  reader = csv.reader(f)\n",
    "  examples = list(reader)\n",
    "\n",
    "print(examples)\n",
    "nwexamples = []\n",
    "for row in examples:\n",
    "    nwrow = []\n",
    "    for r in row:\n",
    "        nwrow.append(eval(r))\n",
    "    nwexamples.append(nwrow)\n",
    "print(nwexamples)"
   ]
  }
 ],
 "metadata": {
  "kernelspec": {
   "display_name": "Python 3",
   "language": "python",
   "name": "python3"
  },
  "language_info": {
   "codemirror_mode": {
    "name": "ipython",
    "version": 3
   },
   "file_extension": ".py",
   "mimetype": "text/x-python",
   "name": "python",
   "nbconvert_exporter": "python",
   "pygments_lexer": "ipython3",
   "version": "3.5.6"
  }
 },
 "nbformat": 4,
 "nbformat_minor": 1
}

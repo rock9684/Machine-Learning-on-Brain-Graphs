{
 "cells": [
  {
   "cell_type": "code",
   "execution_count": null,
   "metadata": {},
   "outputs": [],
   "source": [
    "ftp://www.nitrc.org/fcon_1000/htdocs/indi/adhd200/sites/brown/data/Brown_TestRelease.001.001.tar.gz\n",
    "ftp://www.nitrc.org/fcon_1000/htdocs/indi/adhd200/sites/kki/data/KKI.001.002.tar.gz\n",
    "ftp://www.nitrc.org/fcon_1000/htdocs/indi/adhd200/sites/kki/data/KKI_TestRelease.001.001.tar.gz\n",
    "ftp://www.nitrc.org/fcon_1000/htdocs/indi/adhd200/sites/kki/data/KKI_phenotypic.csv\n",
    "ftp://www.nitrc.org/fcon_1000/htdocs/indi/adhd200/sites/nijmegen/data/NeuroIMAGE.001.001.tar.gz\n",
    "ftp://www.nitrc.org/fcon_1000/htdocs/indi/adhd200/sites/nijmegen/data/NeuroIMAGE_TestRelease.001.001.tar.gz\n",
    "ftp://www.nitrc.org/fcon_1000/htdocs/indi/adhd200/sites/nijmegen/data/NeuroIMAGE_phenotypic.csv\n",
    "ftp://www.nitrc.org/fcon_1000/htdocs/indi/adhd200/sites/nyu/data/ADHD200_Combined_TestRelease.001.001.tar.gz\n",
    "ftp://www.nitrc.org/fcon_1000/htdocs/indi/adhd200/sites/nyu/data/NYU.001.001.part3.tar.gz\n",
    "ftp://www.nitrc.org/fcon_1000/htdocs/indi/adhd200/sites/nyu/data/NYU.001.001.part4.tar.gz\n",
    "ftp://www.nitrc.org/fcon_1000/htdocs/indi/adhd200/sites/nyu/data/NYU.001.002.part1.tar.gz\n",
    "ftp://www.nitrc.org/fcon_1000/htdocs/indi/adhd200/sites/nyu/data/NYU.001.002.part2.tar.gz\n",
    "ftp://www.nitrc.org/fcon_1000/htdocs/indi/adhd200/sites/nyu/data/NYU_TestRelease.001.001.tar.gz\n",
    "ftp://www.nitrc.org/fcon_1000/htdocs/indi/adhd200/sites/nyu/data/NYU_phenotypic.csv\n",
    "ftp://www.nitrc.org/fcon_1000/htdocs/indi/adhd200/sites/ohsu/data/OHSU.001.004.tar.gz\n",
    "ftp://www.nitrc.org/fcon_1000/htdocs/indi/adhd200/sites/ohsu/data/OHSU_TestRelease.001.001.tar.gz\n",
    "ftp://www.nitrc.org/fcon_1000/htdocs/indi/adhd200/sites/ohsu/data/OHSU_phenotypic.csv\n",
    "ftp://www.nitrc.org/fcon_1000/htdocs/indi/adhd200/sites/beijing/data/Peking_1.001.003.tar.gz\n",
    "ftp://www.nitrc.org/fcon_1000/htdocs/indi/adhd200/sites/beijing/data/Peking_1_TestRelease.001.001.tar.gz\n",
    "ftp://www.nitrc.org/fcon_1000/htdocs/indi/adhd200/sites/beijing/data/Peking_1_phenotypic.csv\n",
    "ftp://www.nitrc.org/fcon_1000/htdocs/indi/adhd200/sites/beijing/data/Peking_2.001.001.tar.gz\n",
    "ftp://www.nitrc.org/fcon_1000/htdocs/indi/adhd200/sites/beijing/data/Peking_2_phenotypic.csv\n",
    "ftp://www.nitrc.org/fcon_1000/htdocs/indi/adhd200/sites/beijing/data/Peking_3.001.001.tar.gz\n",
    "ftp://www.nitrc.org/fcon_1000/htdocs/indi/adhd200/sites/beijing/data/Peking_3_phenotypic.csv\n",
    "ftp://www.nitrc.org/fcon_1000/htdocs/indi/adhd200/sites/pittsburgh/data/Pittsburgh.001.001.tar.gz\n",
    "ftp://www.nitrc.org/fcon_1000/htdocs/indi/adhd200/sites/pittsburgh/data/Pittsburgh_TestRelease.001.001.tar.gz\n",
    "ftp://www.nitrc.org/fcon_1000/htdocs/indi/adhd200/sites/pittsburgh/data/Pittsburgh_phenotypic.csv\n",
    "ftp://www.nitrc.org/fcon_1000/htdocs/indi/adhd200/sites/washu/data/WashU.001.001.tar.gz\n",
    "ftp://www.nitrc.org/fcon_1000/htdocs/indi/adhd200/sites/washu/data/WashU.Update.tar.gz\n",
    "ftp://www.nitrc.org/fcon_1000/htdocs/indi/adhd200/sites/washu/data/WashU_phenotypic.csv"
   ]
  }
 ],
 "metadata": {
  "kernelspec": {
   "display_name": "Python 3",
   "language": "python",
   "name": "python3"
  },
  "language_info": {
   "codemirror_mode": {
    "name": "ipython",
    "version": 3
   },
   "file_extension": ".py",
   "mimetype": "text/x-python",
   "name": "python",
   "nbconvert_exporter": "python",
   "pygments_lexer": "ipython3",
   "version": "3.5.6"
  }
 },
 "nbformat": 4,
 "nbformat_minor": 2
}
